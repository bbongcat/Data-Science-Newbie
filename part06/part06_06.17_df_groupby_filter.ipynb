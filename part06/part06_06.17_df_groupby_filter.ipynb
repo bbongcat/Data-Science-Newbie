{
 "cells": [
  {
   "cell_type": "markdown",
   "metadata": {
    "collapsed": true,
    "pycharm": {
     "name": "#%% md\n"
    }
   },
   "source": [
    "- 그룹 객체 필터링\n",
    "\n",
    "그룹 객체에 `filter()` 메소드를 적용할 때 조건식을 가진 함수를 전달하면 조건이 참인 그룹만을 남긴다.\n",
    "\n",
    "- 그룹 객체 필터링: `group 객체.filter(조건식 함수)`\n",
    "\n",
    "데이터 개수가 200개 이상인 그룹만을 따로 필터링한다.<br>\n",
    "'class' 열을 기준으로 구분된 3개의 그룹 중에서 조건을 충족하는 'First'와 'Third'인 그룹의 데이터만 추출한다.\n"
   ]
  },
  {
   "cell_type": "code",
   "execution_count": 2,
   "outputs": [
    {
     "name": "stdout",
     "output_type": "stream",
     "text": [
      "    age     sex  class     fare  survived\n",
      "0  22.0    male  Third   7.2500         0\n",
      "1  38.0  female  First  71.2833         1\n",
      "2  26.0  female  Third   7.9250         1\n",
      "3  35.0  female  First  53.1000         1\n",
      "4  35.0    male  Third   8.0500         0\n",
      "\n",
      "\n",
      "<class 'pandas.core.frame.DataFrame'>\n"
     ]
    }
   ],
   "source": [
    "import pandas as pd\n",
    "import seaborn as sns\n",
    "\n",
    "# titanic 데이터셋에서 age, sex 등 5개 열을 선택하여 데이터프레임 만들기\n",
    "titanic = sns.load_dataset('titanic')\n",
    "df = titanic.loc[:, ['age', 'sex', 'class', 'fare', 'survived']]\n",
    "\n",
    "# class 열을 기준으로 분할\n",
    "grouped = df.groupby(['class'])\n",
    "\n",
    "##############################\n",
    "# 데이터 개수가 200개 이상인 그룹만을 필터링하여 데이터프레임으로 반환\n",
    "grouped_filter = grouped.filter(lambda x: len(x) >= 200)\n",
    "print(grouped_filter.head())\n",
    "print('\\n')\n",
    "print(type(grouped_filter))"
   ],
   "metadata": {
    "collapsed": false,
    "pycharm": {
     "name": "#%%\n"
    }
   }
  },
  {
   "cell_type": "markdown",
   "source": [
    "---\n",
    "\n",
    "이번에는 'age' 열의 평균값이 30보다 작은 그룹만을 따로 선택한다.<br>\n",
    "평균나이가 30세가 안되는 그룹은 'class' 값이 'Second'와 'Third'인 2등석과 3등석 승객들이다.\n",
    "\n"
   ],
   "metadata": {
    "collapsed": false,
    "pycharm": {
     "name": "#%% md\n"
    }
   }
  },
  {
   "cell_type": "code",
   "execution_count": 3,
   "outputs": [
    {
     "name": "stdout",
     "output_type": "stream",
     "text": [
      "      age     sex   class    fare  survived\n",
      "884  25.0    male   Third   7.050         0\n",
      "885  39.0  female   Third  29.125         0\n",
      "886  27.0    male  Second  13.000         0\n",
      "888   NaN  female   Third  23.450         0\n",
      "890  32.0    male   Third   7.750         0\n",
      "\n",
      "\n",
      "<class 'pandas.core.frame.DataFrame'>\n"
     ]
    }
   ],
   "source": [
    "# age 열의 평균이 30보다 작은 그룹만을 필터링하여 데이터프레임으로 반환\n",
    "age_filter = grouped.filter(lambda x: x.age.mean() < 30)\n",
    "print(age_filter.tail())\n",
    "print('\\n')\n",
    "print(type(age_filter))\n"
   ],
   "metadata": {
    "collapsed": false,
    "pycharm": {
     "name": "#%%\n"
    }
   }
  }
 ],
 "metadata": {
  "kernelspec": {
   "display_name": "Python 3",
   "language": "python",
   "name": "python3"
  },
  "language_info": {
   "codemirror_mode": {
    "name": "ipython",
    "version": 2
   },
   "file_extension": ".py",
   "mimetype": "text/x-python",
   "name": "python",
   "nbconvert_exporter": "python",
   "pygments_lexer": "ipython2",
   "version": "2.7.6"
  }
 },
 "nbformat": 4,
 "nbformat_minor": 0
}