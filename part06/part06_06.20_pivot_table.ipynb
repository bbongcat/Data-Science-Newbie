{
 "cells": [
  {
   "cell_type": "markdown",
   "metadata": {
    "collapsed": true,
    "pycharm": {
     "name": "#%% md\n"
    }
   },
   "source": [
    "# 7. 피벗\n",
    "\n",
    "판다스 `pivot_table()` 함수는 엑셀에서 사용하는 피벗테이블과 비슷한 기능을 처리한다.<br>\n",
    "피벗테이블을 구성하는 4가지 요소(행 인덱스, 열 인덱스, 데이터 값, 데이터 집계 함수)에<br>\n",
    "적용할 데이터프레임의 열을 각각 지정하여 함수의 인자로 전달한다.\n",
    "<br><br>\n",
    "'titanic' 데이터셋에서 5개의 열을 추출하여 df라는 데이터프레임을 만든다.<br>\n",
    "`pivot_table()` 함수를 사용하여 데이터프레임의 형태를 피벗테이블로 변환한다.<br>\n",
    "5개의 열 중에서 행 인덱스로는 'class' 열을 지정하고, 열 인덱스에는 'sex' 열을 지정한다.<br>\n",
    "'age' 열을 피벗의 데이터값으로 사용하고 데이터를 집계하는 함수는 평균값을 계산하는 'mean' 함수를 설정한다.\n"
   ]
  },
  {
   "cell_type": "code",
   "execution_count": 2,
   "outputs": [
    {
     "name": "stdout",
     "output_type": "stream",
     "text": [
      "    age     sex  class     fare  survived\n",
      "0  22.0    male  Third   7.2500         0\n",
      "1  38.0  female  First  71.2833         1\n",
      "2  26.0  female  Third   7.9250         1\n",
      "3  35.0  female  First  53.1000         1\n",
      "4  35.0    male  Third   8.0500         0\n",
      "\n",
      "\n",
      "sex        female       male\n",
      "class                       \n",
      "First   34.611765  41.281386\n",
      "Second  28.722973  30.740707\n",
      "Third   21.750000  26.507589\n"
     ]
    }
   ],
   "source": [
    "import pandas as pd\n",
    "import seaborn as sns\n",
    "\n",
    "# IPython 디스플레이 설정 변경\n",
    "pd.set_option('display.max_columns', 10)  # 출력할 최대 열의 개수\n",
    "pd.set_option('display.max_colwidth', 10)  # 출력할 열의 너비\n",
    "\n",
    "# titanic 데이터셋에서 age, sex 등 5개 열을 선택하여 데이터프레임 만들기\n",
    "titanic = sns.load_dataset('titanic')\n",
    "df = titanic.loc[:, ['age', 'sex', 'class', 'fare', 'survived']]\n",
    "print(df.head())\n",
    "print('\\n')\n",
    "\n",
    "# 행, 열, 값, 집계에 사용할 열을 1개씩 지정 - 평균 집계\n",
    "pdf1 = pd.pivot_table(df,  # 피벗할 데이터프레임\n",
    "                      index='class',  # 행 위치에 들어갈 열\n",
    "                      columns='sex',  # 열 위치에 들어갈 열\n",
    "                      values='age',  # 데이터로 사용할 열\n",
    "                      aggfunc='mean')  # 데이터 집계 함수\n",
    "\n",
    "print(pdf1.head())"
   ],
   "metadata": {
    "collapsed": false,
    "pycharm": {
     "name": "#%%\n"
    }
   }
  },
  {
   "cell_type": "markdown",
   "source": [
    "---\n",
    "\n",
    "행 인덱스로는 'class' 열의 3가지 값이 표시되고, 열 위치에는 'sex' 열의 2가지 값이 사용된다.<br>\n",
    "'age' 열의 승객 나이 데이터의 평균값을 계산하여 출력한다.\n",
    "<br><br>\n",
    "'age' 열 대신에 'survived' 열을 피벗의 데이터 값으로 사용하고, 데이터를 집계하는 함수를 2개 사용한다.<br>\n",
    "'mean', 'sum' 함수를 리스트 형태로 입력한다.<br>\n",
    "행 인덱스로는 'class' 열의 3가지 값이 표시되고, 열 구조는 2중 멀티 인덱스가 된다.<br>\n",
    "데이터 집계 함수인 'mean' 함수와 'sum' 함수가 한 층을 이루고, 'sex' 열의 값인 'female'과 'male'이 다음 층으로 사용된다.<br>\n",
    "여기서 'mean' 함수의 계산 결과는 생존율을 나타내고, 'sum' 함수의 결과는 생존자 수를 나타낸다.\n"
   ],
   "metadata": {
    "collapsed": false,
    "pycharm": {
     "name": "#%% md\n"
    }
   }
  },
  {
   "cell_type": "code",
   "execution_count": 4,
   "outputs": [
    {
     "name": "stdout",
     "output_type": "stream",
     "text": [
      "            mean              sum     \n",
      "sex       female      male female male\n",
      "class                                 \n",
      "First   0.968085  0.368852     91   45\n",
      "Second  0.921053  0.157407     70   17\n",
      "Third   0.500000  0.135447     72   47\n"
     ]
    }
   ],
   "source": [
    "# 값에 적용하는 집계 함수 2개 이상 지정 가능 - 생존율, 생존자 수 집계\n",
    "pdf2 = pd.pivot_table(df,  # 피벗할 데이터프레임\n",
    "                      index='class',  # 행 위치에 들어갈 열\n",
    "                      columns='sex',  # 열 위치에 들어갈 열\n",
    "                      values='survived',  # 데이터로 사용할 열\n",
    "                      aggfunc=['mean', 'sum'])  # 데이터 집계 함수\n",
    "\n",
    "print(pdf2.head())"
   ],
   "metadata": {
    "collapsed": false,
    "pycharm": {
     "name": "#%%\n"
    }
   }
  },
  {
   "cell_type": "markdown",
   "source": [
    "---\n",
    "\n",
    "`pivot_table()` 함수에 전달할 인자(행 인덱스, 열 위치, 데이터 값, 집계 함수)에 각각 2개 이상의 열을 입력할 수 있다.<br>\n",
    "예제에서는 행 인덱스와 데이터 값에 해당하는 열을 각각 2개 지정하고,<br>\n",
    "열 위치에 해당하는 열은 1개를 지정한다. 또한 데이터 집계 함수를 2개 지정한다.\n",
    "<br><br>\n",
    "데이터프레임 pdf3의 index 속성과 columns 속성을 출력해보면 'levels, labels, names'라는 3가지 속성이 있다.<br>\n",
    "levels 속성을 보면 행 인덱스는 2개의 열('class', 'sex')이 사용되어 2중 구조이다.<br>\n",
    "그리고 열은 3중 구조로 이루어진다. 데이터 집계 함수인 'mean'과 'max'가 한 층을 이루고, 데이터 값을 구분하는 'age'와 'fare' 열이 다음 층을 이룬다.<br>\n",
    "마지막으로 구조 여부를 나타내는 'survived' 열이 위치한다.\n",
    "\n"
   ],
   "metadata": {
    "collapsed": false,
    "pycharm": {
     "name": "#%% md\n"
    }
   }
  },
  {
   "cell_type": "code",
   "execution_count": 10,
   "outputs": [
    {
     "name": "stdout",
     "output_type": "stream",
     "text": [
      "                    mean                                    max                \\\n",
      "                     age                  fare              age          fare   \n",
      "survived               0          1          0          1     0     1       0   \n",
      "class  sex                                                                      \n",
      "First  female  25.666667  34.939024  110.60...  105.97...  50.0  63.0  151.55   \n",
      "       male    44.581967  36.248000  62.894910  74.637320  71.0  80.0  263.00   \n",
      "Second female  36.000000  28.080882  18.250000  22.288989  57.0  55.0   26.00   \n",
      "       male    33.369048  16.022000  19.488965  21.095100  70.0  62.0   73.50   \n",
      "Third  female  23.818182  19.329787  19.773093  12.464526  48.0  63.0   69.55   \n",
      "\n",
      "                         \n",
      "                         \n",
      "survived              1  \n",
      "class  sex               \n",
      "First  female  512.3292  \n",
      "       male    512.3292  \n",
      "Second female   65.0000  \n",
      "       male     39.0000  \n",
      "Third  female   31.3875  \n",
      "\n",
      "\n",
      "MultiIndex([( 'First', 'female'),\n",
      "            ( 'First',   'male'),\n",
      "            ('Second', 'female'),\n",
      "            ('Second',   'male'),\n",
      "            ( 'Third', 'female'),\n",
      "            ( 'Third',   'male')],\n",
      "           names=['class', 'sex'])\n",
      "MultiIndex([('mean',  'age', 0),\n",
      "            ('mean',  'age', 1),\n",
      "            ('mean', 'fare', 0),\n",
      "            ('mean', 'fare', 1),\n",
      "            ( 'max',  'age', 0),\n",
      "            ( 'max',  'age', 1),\n",
      "            ( 'max', 'fare', 0),\n",
      "            ( 'max', 'fare', 1)],\n",
      "           names=[None, None, 'survived'])\n"
     ]
    }
   ],
   "source": [
    "# 행, 열, 값에 사용할 열을 2개 이상 지정 가능 - 평균 나이, 최대 요금 집계\n",
    "pdf3 = pd.pivot_table(df,  # 피벗할 데이터프레임\n",
    "                      index=['class', 'sex'],  # 행 위치에 들어갈 열\n",
    "                      columns='survived',  # 열 위치에 들어갈 열\n",
    "                      values=['age', 'fare'],  # 데이터로 사용할 열\n",
    "                      aggfunc=['mean', 'max'])  # 데이터 집계 함수\n",
    "\n",
    "print(pdf3.head())\n",
    "print('\\n')\n",
    "\n",
    "# 행, 열 구조 살펴보기\n",
    "print(pdf3.index)\n",
    "print(pdf3.columns)"
   ],
   "metadata": {
    "collapsed": false,
    "pycharm": {
     "name": "#%%\n"
    }
   }
  },
  {
   "cell_type": "markdown",
   "source": [
    "---\n",
    "\n",
    "데이터프레임 pdf3의 행을 선택하기 위해 xs 인덱서를 사용하는 방법을 살펴보자.<br>\n",
    "xs 인덱서는 기본값으로 행 인덱스에 접근하고, 축 값은 axis=0으로 자동 설정된다.<br>\n",
    "먼저 행 인덱스가 'First'인 1등석 승객의 데이터를 추출해보자.\n"
   ],
   "metadata": {
    "collapsed": false,
    "pycharm": {
     "name": "#%% md\n"
    }
   }
  },
  {
   "cell_type": "code",
   "execution_count": 12,
   "outputs": [
    {
     "name": "stdout",
     "output_type": "stream",
     "text": [
      "               mean                                    max                \\\n",
      "                age                  fare              age          fare   \n",
      "survived          0          1          0          1     0     1       0   \n",
      "sex                                                                        \n",
      "female    25.666667  34.939024  110.60...  105.97...  50.0  63.0  151.55   \n",
      "male      44.581967  36.248000  62.894910  74.637320  71.0  80.0  263.00   \n",
      "\n",
      "                    \n",
      "                    \n",
      "survived         1  \n",
      "sex                 \n",
      "female    512.3292  \n",
      "male      512.3292  \n"
     ]
    }
   ],
   "source": [
    "# xs 인덱서 사용 - 행 선택(default: axis=0)\n",
    "print(pdf3.xs('First'))  # 행 인덱스가 First인 행을 선택"
   ],
   "metadata": {
    "collapsed": false,
    "pycharm": {
     "name": "#%%\n"
    }
   }
  },
  {
   "cell_type": "markdown",
   "source": [
    "---\n",
    "\n",
    "다음으로 행 인덱스 레벨 0에서 'First'를 가져오고, 행 인덱스 레벨 1에서 'female'을 가져온다.<br>\n",
    "두 개의 인덱스 값을 튜플로 전달하면 1등석 승객 중에서 여성의 데이터만을 선택할 수 있다.\n",
    "\n"
   ],
   "metadata": {
    "collapsed": false,
    "pycharm": {
     "name": "#%% md\n"
    }
   }
  },
  {
   "cell_type": "code",
   "execution_count": 14,
   "outputs": [
    {
     "name": "stdout",
     "output_type": "stream",
     "text": [
      "            survived\n",
      "mean  age   0           25.666667\n",
      "            1           34.939024\n",
      "      fare  0           110.60...\n",
      "            1           105.97...\n",
      "max   age   0           50.000000\n",
      "            1           63.000000\n",
      "      fare  0           151.55...\n",
      "            1           512.32...\n",
      "Name: (First, female), dtype: float64\n"
     ]
    }
   ],
   "source": [
    "print(pdf3.xs(('First', 'female')))  # 행 인덱스가 ('First', 'female')인 행을 선택"
   ],
   "metadata": {
    "collapsed": false,
    "pycharm": {
     "name": "#%%\n"
    }
   }
  },
  {
   "cell_type": "markdown",
   "source": [
    "---\n",
    "\n",
    "이번에는 행 인덱스 레벨을 직접 지정하는 방법이다.<br>\n",
    "'sex' 레벨에서 남성 승객을 나타내는 'male'에 해당하는 데이터만을 추출한다.\n",
    "\n"
   ],
   "metadata": {
    "collapsed": false,
    "pycharm": {
     "name": "#%% md\n"
    }
   }
  },
  {
   "cell_type": "code",
   "execution_count": 16,
   "outputs": [
    {
     "name": "stdout",
     "output_type": "stream",
     "text": [
      "               mean                                    max                \\\n",
      "                age                  fare              age          fare   \n",
      "survived          0          1          0          1     0     1       0   \n",
      "class                                                                      \n",
      "First     44.581967  36.248000  62.894910  74.637320  71.0  80.0  263.00   \n",
      "Second    33.369048  16.022000  19.488965  21.095100  70.0  62.0   73.50   \n",
      "Third     27.255814  22.274211  12.204469  15.579696  74.0  45.0   69.55   \n",
      "\n",
      "                    \n",
      "                    \n",
      "survived         1  \n",
      "class               \n",
      "First     512.3292  \n",
      "Second     39.0000  \n",
      "Third      56.4958  \n"
     ]
    }
   ],
   "source": [
    "print(pdf3.xs('male', level='sex'))  # 행 인덱스의 sex 레벨이 male인 행을 선택"
   ],
   "metadata": {
    "collapsed": false,
    "pycharm": {
     "name": "#%%\n"
    }
   }
  },
  {
   "cell_type": "markdown",
   "source": [
    "---\n",
    "\n",
    "마지막으로 행 인덱스 레벨 0에서 'Second'를 가져오고, 행 인덱스 레벨 'sex'에서 'male'을 가져온다.<br>\n",
    "이때 레벨 이름 'sex' 대신에 숫자형 레벨 1을 사용해도 결과는 동일하다.\n",
    "\n"
   ],
   "metadata": {
    "collapsed": false,
    "pycharm": {
     "name": "#%% md\n"
    }
   }
  },
  {
   "cell_type": "code",
   "execution_count": 18,
   "outputs": [
    {
     "name": "stdout",
     "output_type": "stream",
     "text": [
      "                  mean                               max                  \n",
      "                   age               fare            age        fare      \n",
      "survived             0       1          0        1     0     1     0     1\n",
      "class  sex                                                                \n",
      "Second male  33.369048  16.022  19.488965  21.0951  70.0  62.0  73.5  39.0\n"
     ]
    }
   ],
   "source": [
    "print(pdf3.xs(('Second', 'male'), level=[0, 'sex']))  # Second, male인 행을 선택"
   ],
   "metadata": {
    "collapsed": false,
    "pycharm": {
     "name": "#%%\n"
    }
   }
  },
  {
   "cell_type": "markdown",
   "source": [
    "---\n",
    "\n",
    "xs 인덱서를 이용하여 열 인덱스에 접근하기 위해서는 축 값을 axis=1로 설정해야 한다.<br>\n",
    "먼저 데이터프레임 pdf3의 'mean' 열을 선택하여 평균값 데이터를 추출한다.\n",
    "\n"
   ],
   "metadata": {
    "collapsed": false,
    "pycharm": {
     "name": "#%% md\n"
    }
   }
  },
  {
   "cell_type": "code",
   "execution_count": 20,
   "outputs": [
    {
     "name": "stdout",
     "output_type": "stream",
     "text": [
      "                     age                  fare           \n",
      "survived               0          1          0          1\n",
      "class  sex                                               \n",
      "First  female  25.666667  34.939024  110.60...  105.97...\n",
      "       male    44.581967  36.248000  62.894910  74.637320\n",
      "Second female  36.000000  28.080882  18.250000  22.288989\n",
      "       male    33.369048  16.022000  19.488965  21.095100\n",
      "Third  female  23.818182  19.329787  19.773093  12.464526\n",
      "       male    27.255814  22.274211  12.204469  15.579696\n"
     ]
    }
   ],
   "source": [
    "# xs 인덱서 사용 - 열 선택(axis=1 설정)\n",
    "print(pdf3.xs('mean', axis=1))  # 열 인덱스가 mean인 데이터를 선택"
   ],
   "metadata": {
    "collapsed": false,
    "pycharm": {
     "name": "#%%\n"
    }
   }
  },
  {
   "cell_type": "markdown",
   "source": [
    "---\n",
    "\n",
    "다음으로 열 인덱스 레벨 0에서 평균값을 나타내는 'mean'을 지정하고, 열 인덱스 레벨 1에서 나이를 나타내는 'age'를 지정한다.<br>\n",
    "그룹별 평균 나이 집계 결과만을 추출하여 반환한다.\n"
   ],
   "metadata": {
    "collapsed": false,
    "pycharm": {
     "name": "#%% md\n"
    }
   }
  },
  {
   "cell_type": "code",
   "execution_count": 22,
   "outputs": [
    {
     "name": "stdout",
     "output_type": "stream",
     "text": [
      "survived               0          1\n",
      "class  sex                         \n",
      "First  female  25.666667  34.939024\n",
      "       male    44.581967  36.248000\n",
      "Second female  36.000000  28.080882\n",
      "       male    33.369048  16.022000\n",
      "Third  female  23.818182  19.329787\n",
      "       male    27.255814  22.274211\n"
     ]
    }
   ],
   "source": [
    "print(pdf3.xs(('mean', 'age'), axis=1))  # 열 인덱스가 ('mean', 'age')인 데이터 선택"
   ],
   "metadata": {
    "collapsed": false,
    "pycharm": {
     "name": "#%%\n"
    }
   }
  },
  {
   "cell_type": "markdown",
   "source": [
    "---\n",
    "\n",
    "열 인덱스 레벨을 직접 지정한다.<br>\n",
    "'survived' 레벨의 값이 1에 해당하는 데이터만을 추출한다.<br>\n",
    "따라서 생존자 데이터만을 구분하여 추출하게 된다.\n",
    "\n"
   ],
   "metadata": {
    "collapsed": false,
    "pycharm": {
     "name": "#%% md\n"
    }
   }
  },
  {
   "cell_type": "code",
   "execution_count": 25,
   "outputs": [
    {
     "name": "stdout",
     "output_type": "stream",
     "text": [
      "                    mean              max          \n",
      "                     age       fare   age      fare\n",
      "class  sex                                         \n",
      "First  female  34.939024  105.97...  63.0  512.3292\n",
      "       male    36.248000  74.637320  80.0  512.3292\n",
      "Second female  28.080882  22.288989  55.0   65.0000\n",
      "       male    16.022000  21.095100  62.0   39.0000\n",
      "Third  female  19.329787  12.464526  63.0   31.3875\n",
      "       male    22.274211  15.579696  45.0   56.4958\n"
     ]
    }
   ],
   "source": [
    "print(pdf3.xs(1, level='survived', axis=1))  # survived 레벨이 1인 데이터 선택"
   ],
   "metadata": {
    "collapsed": false,
    "pycharm": {
     "name": "#%%\n"
    }
   }
  },
  {
   "cell_type": "markdown",
   "source": [
    "---\n",
    "\n",
    "마지막으로 열 인덱스 레벨 0에서 최대값을 나타내는 'max'를 가져오고, 레벨 1에서 객실 요금을 나타내는 'fare'을 가져온다.<br>\n",
    "'survived' 열을 나타내는 레벨 2에서 구조받지 못한 승객을 나타내는 0을 가져온다.<br>\n",
    "반환되는 데이터는 구조받지 못한 승객들 객실 요금의 최대값이다.\n",
    "\n"
   ],
   "metadata": {
    "collapsed": false,
    "pycharm": {
     "name": "#%% md\n"
    }
   }
  },
  {
   "cell_type": "code",
   "execution_count": 26,
   "outputs": [
    {
     "name": "stdout",
     "output_type": "stream",
     "text": [
      "                  max\n",
      "                 fare\n",
      "survived            0\n",
      "class  sex           \n",
      "First  female  151.55\n",
      "       male    263.00\n",
      "Second female   26.00\n",
      "       male     73.50\n",
      "Third  female   69.55\n",
      "       male     69.55\n"
     ]
    }
   ],
   "source": [
    "print(pdf3.xs(('max', 'fare', 0),\n",
    "              level=[0, 1, 2], axis=1))  # max, fare, survived=0인 데이터 선택\n"
   ],
   "metadata": {
    "collapsed": false,
    "pycharm": {
     "name": "#%%\n"
    }
   }
  }
 ],
 "metadata": {
  "kernelspec": {
   "display_name": "Python 3",
   "language": "python",
   "name": "python3"
  },
  "language_info": {
   "codemirror_mode": {
    "name": "ipython",
    "version": 2
   },
   "file_extension": ".py",
   "mimetype": "text/x-python",
   "name": "python",
   "nbconvert_exporter": "python",
   "pygments_lexer": "ipython2",
   "version": "2.7.6"
  }
 },
 "nbformat": 4,
 "nbformat_minor": 0
}