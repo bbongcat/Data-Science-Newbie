{
 "cells": [
  {
   "cell_type": "markdown",
   "metadata": {
    "collapsed": true,
    "pycharm": {
     "name": "#%% md\n"
    }
   },
   "source": [
    "# 4. 범주형(카테고리) 데이터 처리\n",
    "\n",
    "## 4-1 구간 분할\n",
    "\n",
    "데이터 분석 알고리즘에 따라서는 연속 데이터를 그대로 사용하기 보다는 일정한 구간(bin)으로 나눠서 분석하는 것이 효율적인 경우가 있다.<br>\n",
    "가격, 비용, 효율 등 연속적인 값을 일정한 수준이나 정도를 나타내는 이산적인 값으로 나타내어 구간별 차이를 드러내는 것이다.\n",
    "<br><br>\n",
    "이처럼 연속 변수를 일정한 구간으로 나누고, 각 구간을 범주형 이산 변수로 변환하는 과정을 구간 분할(binning)이라고 한다.<br>\n",
    "판다스 `cut()` 함수를 이용하면 연속 데이터를 여러 구간으로 나누고 범주형 데이터로 변환할 수 있다.\n",
    "<br><br>\n",
    "다음의 예제에서 'horsepower' 열은 엔진 출력을 나타낸다.<br>\n",
    "경우에 따라서는 엔진 출력을 숫자로 표시하는 대신 '저출력', '보통출력', '고출력' 등 구간으로 나누어서 표시하는 것이 효율적일 수 있다.<br>\n",
    "판다스 `cut()` 메소드를 활용하려면 먼저 구간을 나누어야 한다.<br>\n",
    "'저출력', '보통출력', '고출력'이라는 3개의 구간으로 구분하려면, 총 4개의 경계값이 필요하다.<br>\n",
    "<br><br>\n",
    "경계값을 구하는 방법 중에서 NumPy 라이브러리의 `histogram()` 함수를 활용하는 방법을 설명한다.<br>\n",
    "나누려는 구간(bin) 개수를 `bins` 옵션에 입력하면 각 구간에 속하는 값의 개수(count)와 경계값 리스트(bin_dividers)를 반환한다.<br>\n",
    "예제에서는 모두 4개의 경계값을 생성하고 3개의 구간이 만들어진다."
   ]
  },
  {
   "cell_type": "code",
   "execution_count": 4,
   "outputs": [
    {
     "name": "stdout",
     "output_type": "stream",
     "text": [
      "[ 46.         107.33333333 168.66666667 230.        ]\n",
      "[257 103  32]\n"
     ]
    }
   ],
   "source": [
    "import pandas as pd\n",
    "import numpy as np\n",
    "\n",
    "# read_csv() 함수로 df 생성\n",
    "df = pd.read_csv('./auto-mpg.csv', header=None)\n",
    "\n",
    "# 열 이름 지정\n",
    "df.columns = ['mpg', 'cylinders', 'displacement', 'horsepower', 'weight',\n",
    "              'acceleration', 'model year', 'origin', 'name']\n",
    "\n",
    "# horsepower 열의 누락 데이터('?')를 삭제하고 실수형으로 변환\n",
    "df['horsepower'].replace('?', np.nan, inplace=True)     # '?'을 np.nan으로 변경\n",
    "df.dropna(subset=['horsepower'], axis=0, inplace=True)  # 누락 데이터 행 삭제\n",
    "df['horsepower'] = df['horsepower'].astype('float')     # 문자열을 실수형으로 변환\n",
    "\n",
    "# np.histogram 함수로 3개의 bin으로 구분할 경계값의 리스트 구하기\n",
    "count, bin_dividers = np.histogram(df['horsepower'], bins=3)\n",
    "print(bin_dividers)     # 경계값 리스트\n",
    "print(count)            # 각 구간에 속하는 값의 개수"
   ],
   "metadata": {
    "collapsed": false,
    "pycharm": {
     "name": "#%%\n"
    }
   }
  },
  {
   "cell_type": "markdown",
   "source": [
    "---\n",
    "\n",
    "판다스 `cut()` 함수의 옵션을 설정한다.<br>\n",
    "앞에서 구한 경계값의 리스트(bin_dividers)를 `bins` 옵션에 할당하고 각 구간의 이름(bin_names)을 `labels` 옵션에 할당한다.\n",
    "<br><br>\n",
    "`include_lowest=True` 옵션을 사용하면 각 구간의 낮은 경계값을 포함한다.<br>\n",
    "'horsepower'열의 숫자 데이터를 3개의 구간에 할당하고, 각 구간의 이름('저출력', '보통출력', '고출력')으로 입력하여 'hp_bin' 열에 저장한다."
   ],
   "metadata": {
    "collapsed": false,
    "pycharm": {
     "name": "#%% md\n"
    }
   }
  },
  {
   "cell_type": "code",
   "execution_count": 6,
   "outputs": [
    {
     "name": "stdout",
     "output_type": "stream",
     "text": [
      "    horsepower hp_bin\n",
      "0        130.0   보통출력\n",
      "1        165.0   보통출력\n",
      "2        150.0   보통출력\n",
      "3        150.0   보통출력\n",
      "4        140.0   보통출력\n",
      "5        198.0    고출력\n",
      "6        220.0    고출력\n",
      "7        215.0    고출력\n",
      "8        225.0    고출력\n",
      "9        190.0    고출력\n",
      "10       170.0    고출력\n",
      "11       160.0   보통출력\n",
      "12       150.0   보통출력\n",
      "13       225.0    고출력\n",
      "14        95.0    저출력\n"
     ]
    }
   ],
   "source": [
    "# 3개의 bin에 이름 지정\n",
    "bin_names = ['저출력', '보통출력', '고출력']\n",
    "\n",
    "# pd.cut 함수로 각 데이터를 3개의 bin에 할당\n",
    "df['hp_bin'] = pd.cut(x=df['horsepower'],       # 데이터 배열\n",
    "                      bins=bin_dividers,        # 경계값 리스트\n",
    "                      labels=bin_names,         # bin 이름\n",
    "                      include_lowest=True)      # 첫 경계값 포함\n",
    "\n",
    "# horsepower 열, hp_bin 열의 첫 15행 출력\n",
    "print(df[['horsepower', 'hp_bin']].head(15))\n"
   ],
   "metadata": {
    "collapsed": false,
    "pycharm": {
     "name": "#%%\n"
    }
   }
  }
 ],
 "metadata": {
  "kernelspec": {
   "display_name": "Python 3",
   "language": "python",
   "name": "python3"
  },
  "language_info": {
   "codemirror_mode": {
    "name": "ipython",
    "version": 2
   },
   "file_extension": ".py",
   "mimetype": "text/x-python",
   "name": "python",
   "nbconvert_exporter": "python",
   "pygments_lexer": "ipython2",
   "version": "2.7.6"
  }
 },
 "nbformat": 4,
 "nbformat_minor": 0
}