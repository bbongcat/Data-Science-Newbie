{
 "cells": [
  {
   "cell_type": "markdown",
   "metadata": {
    "collapsed": true,
    "pycharm": {
     "name": "#%% md\n"
    }
   },
   "source": [
    "승선도시를 나타내는 'embark_town' 열에 있는 NaN을 다른 값으로 바꾼다.<br>\n",
    "승객들이 가장 많이 승선한 도시의 이름을 찾아서 NaN을 치환한다.<br>\n",
    "먼저 `value_counts()` 메소드를 사용하여 승선도시별 승객 수를 찾고, `idxmax()` 메소드로 가장 큰 값을 갖는 도시(Southampton)를 찾는다.<br>\n",
    "실행 결과에서 829행의 NaN 값을 포함해서 누락 데이터들은 Southampton으로 변경된다."
   ]
  },
  {
   "cell_type": "code",
   "execution_count": 5,
   "outputs": [
    {
     "name": "stdout",
     "output_type": "stream",
     "text": [
      "825     Queenstown\n",
      "826    Southampton\n",
      "827      Cherbourg\n",
      "828     Queenstown\n",
      "829            NaN\n",
      "Name: embark_town, dtype: object\n",
      "\n",
      "\n",
      "Southampton\n",
      "\n",
      "\n",
      "825     Queenstown\n",
      "826    Southampton\n",
      "827      Cherbourg\n",
      "828     Queenstown\n",
      "829    Southampton\n",
      "Name: embark_town, dtype: object\n"
     ]
    }
   ],
   "source": [
    "import seaborn as sns\n",
    "\n",
    "# titanic 데이터셋 가져오기\n",
    "df = sns.load_dataset('titanic')\n",
    "\n",
    "# embark_town 열의 829행의 NaN 데이터 출력\n",
    "print(df['embark_town'][825:830])\n",
    "print('\\n')\n",
    "\n",
    "# embark_town 열의 NaN 값을 승선도시 중에서 가장 많이 출현한 값으로 치환하기\n",
    "most_freq = df['embark_town'].value_counts(dropna=True).idxmax()\n",
    "print(most_freq)\n",
    "print('\\n')\n",
    "\n",
    "df['embark_town'].fillna(most_freq, inplace=True)\n",
    "\n",
    "# embark_town 열 829행의 NaN 데이터 출력 (NaN 값이 most_freq 값으로 대체)\n",
    "print(df['embark_town'][825:830])"
   ],
   "metadata": {
    "collapsed": false,
    "pycharm": {
     "name": "#%%\n"
    }
   }
  },
  {
   "cell_type": "markdown",
   "source": [
    "---\n",
    "\n",
    "- 누락 데이터가 NaN으로 표시되지 않은 경우\n",
    "\n",
    "데이터셋 중에는 누락 데이터가 NaN으로 입력되지 않은 경우도 많다.\n",
    "예를 들면 숫자 0이나 문자 '-', '?' 같은 값으로 입력되기도 한다.\n",
    "판다스에서 누락 데이터를 다루려면 `replace()` 메소드를 활용하여 NumPy에서 지원하는 np.nan으로 변경해 주는 것이 좋다.\n",
    "단, np.nan을 사용하기 위해서는 'NumPy' 라이브러리를 먼저 임포트해야 한다.\n",
    "\n",
    "- 사용법 예: `df.replace('?', np.nan, inplace=True)`\n"
   ],
   "metadata": {
    "collapsed": false,
    "pycharm": {
     "name": "#%% md\n"
    }
   }
  }
 ],
 "metadata": {
  "kernelspec": {
   "display_name": "Python 3",
   "language": "python",
   "name": "python3"
  },
  "language_info": {
   "codemirror_mode": {
    "name": "ipython",
    "version": 2
   },
   "file_extension": ".py",
   "mimetype": "text/x-python",
   "name": "python",
   "nbconvert_exporter": "python",
   "pygments_lexer": "ipython2",
   "version": "2.7.6"
  }
 },
 "nbformat": 4,
 "nbformat_minor": 0
}