{
 "cells": [
  {
   "cell_type": "markdown",
   "metadata": {
    "collapsed": true,
    "pycharm": {
     "name": "#%% md\n"
    }
   },
   "source": [
    "### - 누락 데이터 치환\n",
    "\n",
    "데이터셋의 품질을 높일 목적으로 누락 데이터를 무작정 삭제해 버린다면 어렵게 수집한 데이터를 활용하지 못하게 된다.<br>\n",
    "데이터 분석의 정확도는 데이터의 품질 외에도 제공되는 데이터의 양에 의해 상당한 영향을 받는다.<br>\n",
    "따라서 데이터 중에서 일부가 누락되어 있더라도 나머지 데이터를 최대한 살려서 데이터 분석에 활용하는 것이 좋은 결과를 얻는 경우가 많다.\n",
    "<br><br>\n",
    "누락 데이터를 바꿔서 대체할 값으로는 데이터의 분포와 특성을 잘 나타낼 수 있는 평균값, 최빈값 등을 활용한다.<br>\n",
    "판다스 `fillna()` 메소드로 편리하게 처리할 수 있다.<br>\n",
    "`fillna()` 메소드는 새로운 객체를 반환하기 때문에 원본 객체를 변경하려면 `inplace=True` 옵션을 추가해야 한다.\n",
    "<br><br>\n",
    "평균(mean)으로 누락 데이터를 바꿔주는 방법을 알아보자.<br>\n",
    "앞의 예제처럼 승객의 나이 데이터가 누락된 행을 제거하지 않고, 대신 'age' 열의 나머지 승객의 평균나이로 치환한다.<br>\n",
    "먼저 'age'열에 들어 있는 값들의 평균을 계산하여 mean_age에 저장한다.<br>\n",
    "`mean()` 메소드를 적용하면 NaN을 제외하고 평균을 계산한다.<br>\n",
    "`fillna()` 메소드에 mean_age를 인자로 전달하면 NaN을 찾아서 mean_age 값으로 치환한다.\n",
    "<br><br>\n",
    "다음 예제의 실행 결과에서 5행의 NaN 값이 'age' 열의 유효 데이터의 평균(29.699118)으로 바뀐다.<br>\n",
    "한편 평균 대신 중간값을 사용하려면 `median()` 메소드를 적용한다.\n"
   ]
  },
  {
   "cell_type": "code",
   "execution_count": 1,
   "outputs": [
    {
     "name": "stdout",
     "output_type": "stream",
     "text": [
      "0    22.0\n",
      "1    38.0\n",
      "2    26.0\n",
      "3    35.0\n",
      "4    35.0\n",
      "5     NaN\n",
      "6    54.0\n",
      "7     2.0\n",
      "8    27.0\n",
      "9    14.0\n",
      "Name: age, dtype: float64\n",
      "\n",
      "\n",
      "0    22.000000\n",
      "1    38.000000\n",
      "2    26.000000\n",
      "3    35.000000\n",
      "4    35.000000\n",
      "5    29.699118\n",
      "6    54.000000\n",
      "7     2.000000\n",
      "8    27.000000\n",
      "9    14.000000\n",
      "Name: age, dtype: float64\n"
     ]
    }
   ],
   "source": [
    "import seaborn as sns\n",
    "\n",
    "# titanic 데이터셋 가져오기\n",
    "df = sns.load_dataset('titanic')\n",
    "\n",
    "# age 열의 첫 10개 데이터 출력(5행에 NaN 값)\n",
    "print(df['age'].head(10))\n",
    "print('\\n')\n",
    "\n",
    "# age 열의 NaN 값을 다른 나이 데이터의 평균으로 변경하기\n",
    "mean_age = df['age'].mean(axis=0)       # age 열의 평균 계산 (NaN값 제외)\n",
    "df['age'].fillna(mean_age, inplace=True)\n",
    "\n",
    "# age 열의 첫 10개 데이터 출력(5행의 NaN 값이 평균으로 대체)\n",
    "print(df['age'].head(10))"
   ],
   "metadata": {
    "collapsed": false,
    "pycharm": {
     "name": "#%%\n"
    }
   }
  }
 ],
 "metadata": {
  "kernelspec": {
   "display_name": "Python 3",
   "language": "python",
   "name": "python3"
  },
  "language_info": {
   "codemirror_mode": {
    "name": "ipython",
    "version": 2
   },
   "file_extension": ".py",
   "mimetype": "text/x-python",
   "name": "python",
   "nbconvert_exporter": "python",
   "pygments_lexer": "ipython2",
   "version": "2.7.6"
  }
 },
 "nbformat": 4,
 "nbformat_minor": 0
}