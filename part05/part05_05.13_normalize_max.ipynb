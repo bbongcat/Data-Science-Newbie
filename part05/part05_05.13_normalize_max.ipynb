{
 "cells": [
  {
   "cell_type": "markdown",
   "metadata": {
    "collapsed": true,
    "pycharm": {
     "name": "#%% md\n"
    }
   },
   "source": [
    "# 5. 정규화\n",
    "\n",
    "각 변수(데이터프레임의 열)에 들어 있는 숫자 데이터의 상대적 크기 차이 때문에 머신 러닝 분석 결과가 달라질 수 있다.<br>\n",
    "예를 들어, A 변수는 0~1000 범위의 값을 갖고, B 변수는 0~1 범위의 값을 갖는다고 하자.<br>\n",
    "이 경우 상대적으로 큰 숫자 값을 갖는 A 변수의 영향이 더 커진다.\n",
    "<br><br>\n",
    "따라서 숫자 데이터의 상대적인 크기 차이를 제거할 필요가 있다.<br>\n",
    "각 열(변수)에 속하는 데이터값을 동일한 크기 기준으로 나눈 비율로 나타내는 것을 **정규화(normalization)**라고 한다.<br>\n",
    "정규화 과정을 거친 데이터의 범위는 0~1 또는 -1~1이 된다.\n",
    "<br><br>\n",
    "각 열(변수)의 데이터를 해당 열의 최대값(의 절대값)으로 나누는 방법이 있다.<br>\n",
    "어떤 열의 원소 값을 그 열의 최대값으로 나누면 가장 큰 값은 자기 자신을 나눈 1이다.<br>\n",
    "즉, 'horsepower' 열의 원래 최대 값은 230인데 최대값을 정규화하면 1이 된다."
   ]
  },
  {
   "cell_type": "code",
   "execution_count": 2,
   "outputs": [
    {
     "name": "stdout",
     "output_type": "stream",
     "text": [
      "count    392.000000\n",
      "mean     104.469388\n",
      "std       38.491160\n",
      "min       46.000000\n",
      "25%       75.000000\n",
      "50%       93.500000\n",
      "75%      126.000000\n",
      "max      230.000000\n",
      "Name: horsepower, dtype: float64\n",
      "\n",
      "\n",
      "0    0.565217\n",
      "1    0.717391\n",
      "2    0.652174\n",
      "3    0.652174\n",
      "4    0.608696\n",
      "Name: horsepower, dtype: float64\n",
      "\n",
      "\n",
      "count    392.000000\n",
      "mean       0.454215\n",
      "std        0.167353\n",
      "min        0.200000\n",
      "25%        0.326087\n",
      "50%        0.406522\n",
      "75%        0.547826\n",
      "max        1.000000\n",
      "Name: horsepower, dtype: float64\n"
     ]
    }
   ],
   "source": [
    "import pandas as pd\n",
    "import numpy as np\n",
    "\n",
    "# read_csv() 함수로 df 생성\n",
    "df = pd.read_csv('./auto-mpg.csv', header=None)\n",
    "\n",
    "# 열 이름 지정\n",
    "df.columns = ['mpg', 'cylinders', 'displacement', 'horsepower', 'weight',\n",
    "              'acceleration', 'model year', 'origin', 'name']\n",
    "\n",
    "# horsepower 열의 누락 데이터('?')를 삭제하고 실수형으로 변환\n",
    "df['horsepower'].replace('?', np.nan, inplace=True)     # '?'을 np.nan으로 변경\n",
    "df.dropna(subset=['horsepower'], axis=0, inplace=True)  # 누락 데이터 행 삭제\n",
    "df['horsepower'] = df['horsepower'].astype('float')     # 문자열을 실수형으로 변환\n",
    "\n",
    "# horsepower 열의 통계 요약 정보로 최대값 확인\n",
    "print(df.horsepower.describe())\n",
    "print('\\n')\n",
    "\n",
    "# horsepower 열의 최대값의 절대값으로 모든 데이터를 나눠서 저장\n",
    "df.horsepower = df.horsepower/abs(df.horsepower.max())\n",
    "\n",
    "print(df.horsepower.head())\n",
    "print('\\n')\n",
    "print(df.horsepower.describe())\n"
   ],
   "metadata": {
    "collapsed": false,
    "pycharm": {
     "name": "#%%\n"
    }
   }
  }
 ],
 "metadata": {
  "kernelspec": {
   "display_name": "Python 3",
   "language": "python",
   "name": "python3"
  },
  "language_info": {
   "codemirror_mode": {
    "name": "ipython",
    "version": 2
   },
   "file_extension": ".py",
   "mimetype": "text/x-python",
   "name": "python",
   "nbconvert_exporter": "python",
   "pygments_lexer": "ipython2",
   "version": "2.7.6"
  }
 },
 "nbformat": 4,
 "nbformat_minor": 0
}