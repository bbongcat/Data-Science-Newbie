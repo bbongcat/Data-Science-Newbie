{
 "cells": [
  {
   "cell_type": "markdown",
   "metadata": {
    "collapsed": true,
    "pycharm": {
     "name": "#%% md\n"
    }
   },
   "source": [
    "### - Period 배열\n",
    "\n",
    "판다스 `period_range()` 함수는 여러 개의 기간이 들어 있는 시계열 데이터를 만든다.\n",
    "<br><br>\n",
    "예제에서 날짜 범위의 시작점으로 '2019-01-01'을 설정하고, 날짜 범위의 끝을 따로 정하지 않는다(end=None).<br>\n",
    "그리고 `period=3` 옵션은 Period 3개를 만든다는 뜻이다.<br>\n",
    "`freq='M'`에서 'M'은 월을 나타낸다. 이 경우 PeriodIndex의 원소 '2019-01'은 2019년 1월의 전체 기간을 나타낸다.<br>\n",
    "나머지 두 원소 '2019-02', '2019-03'도 각각 2월과 3월을 나타낸다."
   ]
  },
  {
   "cell_type": "code",
   "execution_count": 1,
   "outputs": [
    {
     "name": "stdout",
     "output_type": "stream",
     "text": [
      "PeriodIndex(['2019-01', '2019-02', '2019-03'], dtype='period[M]')\n"
     ]
    }
   ],
   "source": [
    "import pandas as pd\n",
    "\n",
    "# Period 배열 만들기 - 1개월 길이\n",
    "pr_m = pd.period_range(start='2019-01-01',      # 날짜 범위 시작\n",
    "                       end=None,                # 날짜 범위 끝\n",
    "                       periods=3,               # 생성할 Period 개수\n",
    "                       freq='M')                # 기간의 길이(M: 월)\n",
    "print(pr_m)"
   ],
   "metadata": {
    "collapsed": false,
    "pycharm": {
     "name": "#%%\n"
    }
   }
  },
  {
   "cell_type": "markdown",
   "source": [
    "---\n",
    "\n",
    "이번에는 기간을 다르게 설정해본다.<br>\n",
    "`freq='H'` 옵션은 1시간 간격을 나타낸다. 앞에 숫자를 추가하여 `freq='2H'`와 같이 2시간 간격을 나타낼 수도 있다."
   ],
   "metadata": {
    "collapsed": false,
    "pycharm": {
     "name": "#%% md\n"
    }
   }
  },
  {
   "cell_type": "code",
   "execution_count": 2,
   "outputs": [
    {
     "name": "stdout",
     "output_type": "stream",
     "text": [
      "PeriodIndex(['2019-01-01 00:00', '2019-01-01 01:00', '2019-01-01 02:00'], dtype='period[H]')\n",
      "\n",
      "\n",
      "PeriodIndex(['2019-01-01 00:00', '2019-01-01 01:00', '2019-01-01 02:00'], dtype='period[H]')\n"
     ]
    }
   ],
   "source": [
    "# Period 배열 만들기 - 1시간 길이\n",
    "pr_h = pd.period_range(start='2019-01-01',      # 날짜 범위 시작\n",
    "                       end=None,                # 날짜 범위 끝\n",
    "                       periods=3,               # 생성할 Period 개수\n",
    "                       freq='H')                # 기간의 길이(H: 시간)\n",
    "print(pr_h)\n",
    "print('\\n')\n",
    "\n",
    "# Period 배열 만들기 - 2시간 길이\n",
    "pr_2h = pd.period_range(start='2019-01-01',      # 날짜 범위 시작\n",
    "                       end=None,                # 날짜 범위 끝\n",
    "                       periods=3,               # 생성할 Period 개수\n",
    "                       freq='H')                # 기간의 길이(H: 시간)\n",
    "print(pr_2h)\n"
   ],
   "metadata": {
    "collapsed": false,
    "pycharm": {
     "name": "#%%\n"
    }
   }
  }
 ],
 "metadata": {
  "kernelspec": {
   "display_name": "Python 3",
   "language": "python",
   "name": "python3"
  },
  "language_info": {
   "codemirror_mode": {
    "name": "ipython",
    "version": 2
   },
   "file_extension": ".py",
   "mimetype": "text/x-python",
   "name": "python",
   "nbconvert_exporter": "python",
   "pygments_lexer": "ipython2",
   "version": "2.7.6"
  }
 },
 "nbformat": 4,
 "nbformat_minor": 0
}