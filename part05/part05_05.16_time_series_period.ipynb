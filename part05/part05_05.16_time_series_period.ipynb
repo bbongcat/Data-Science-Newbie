{
 "cells": [
  {
   "cell_type": "markdown",
   "metadata": {
    "collapsed": true,
    "pycharm": {
     "name": "#%% md\n"
    }
   },
   "source": [
    "### - Timestamp를 Period로 변환\n",
    "\n",
    "판다스 `to_period()` 함수를 이용하면 일정한 기간을 나타내는 Period 객체로 Timestamp 객체를 변환할 수 있다.<br>\n",
    "`freq` 옵션에 기준이 되는 기간을 설정한다. 다음의 예제에서 3개의 날짜 데이터를 Timestamp로 변환하고, 기간 옵션을 달리 하여 Period 객체를 지정해보자.\n",
    "<br><br>\n",
    "DatetimeIndex가 PeriodIndex로 변환되고, 자료형은 datetime64에서 period로 변환된다.<br>\n",
    "freq 옵션을 'D'로 지정할 경우 1일의 기간을 나타내고, 'M'은 1개월의 기간을 뜻한다.\n",
    "'A'는 1년의 기간을 나타내는데, 1년이 끝나는 12월을 기준으로 삼는다."
   ]
  },
  {
   "cell_type": "code",
   "execution_count": 2,
   "outputs": [
    {
     "name": "stdout",
     "output_type": "stream",
     "text": [
      "DatetimeIndex(['2019-01-01', '2020-03-01', '2021-06-01'], dtype='datetime64[ns]', freq=None)\n",
      "\n",
      "\n",
      "PeriodIndex(['2019-01-01', '2020-03-01', '2021-06-01'], dtype='period[D]')\n",
      "PeriodIndex(['2019-01', '2020-03', '2021-06'], dtype='period[M]')\n",
      "PeriodIndex(['2019', '2020', '2021'], dtype='period[A-DEC]')\n"
     ]
    }
   ],
   "source": [
    "import pandas as pd\n",
    "\n",
    "# 날짜 형식의 문자열로 구성되는 리스트 정의\n",
    "dates = ['2019-01-01', '2020-03-01', '2021-06-01']\n",
    "\n",
    "# 문자열의 배열(시리즈 객체)을 판다스 Timestamp로 변환\n",
    "ts_dates = pd.to_datetime(dates)\n",
    "print(ts_dates)\n",
    "print('\\n')\n",
    "\n",
    "# Timestamp를 Period로 변환\n",
    "pr_day = ts_dates.to_period(freq='D')\n",
    "print(pr_day)\n",
    "pr_month = ts_dates.to_period(freq='M')\n",
    "print(pr_month)\n",
    "pr_year = ts_dates.to_period(freq='A')\n",
    "print(pr_year)"
   ],
   "metadata": {
    "collapsed": false,
    "pycharm": {
     "name": "#%%\n"
    }
   }
  },
  {
   "cell_type": "markdown",
   "source": [
    "---\n",
    "\n",
    "- freq 옵션의 종류\n",
    "\n",
    "옵션 | 설명\n",
    ":--: | :--:\n",
    "D | day(1일)\n",
    "W | week(1주)\n",
    "M | month end(월말)\n",
    "MS | month begin(월초)\n",
    "Q | quarter end(분기말)\n",
    "QS | quarter begin(분기초)\n",
    "A | year end(연말)\n",
    "AS | year begin(연초)\n",
    "B | business day(휴일 제외)\n",
    "H | hour(1시간)\n",
    "T | minute(1분)\n",
    "S | second(1초)\n",
    "L | millisecond(1/1,000초)\n",
    "U | microsecond(1/1,000,000초)\n",
    "N | nanosecond(1/1,000,000,000초)\n"
   ],
   "metadata": {
    "collapsed": false,
    "pycharm": {
     "name": "#%% md\n"
    }
   }
  }
 ],
 "metadata": {
  "kernelspec": {
   "display_name": "Python 3",
   "language": "python",
   "name": "python3"
  },
  "language_info": {
   "codemirror_mode": {
    "name": "ipython",
    "version": 2
   },
   "file_extension": ".py",
   "mimetype": "text/x-python",
   "name": "python",
   "nbconvert_exporter": "python",
   "pygments_lexer": "ipython2",
   "version": "2.7.6"
  }
 },
 "nbformat": 4,
 "nbformat_minor": 0
}