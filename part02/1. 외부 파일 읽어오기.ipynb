{
 "cells": [
  {
   "cell_type": "markdown",
   "id": "2fc3fcbe",
   "metadata": {},
   "source": [
    "# 판다스 데이터 입출력 도구\n",
    "### http://pandas.pydata.org\n",
    "\n",
    "|File Format|Reader|Writer|\n",
    "|-----------|------|------|\n",
    "|CSV|read_csv|to_csv|\n",
    "|JSON|read_json|to_json|\n",
    "|HTML|read_htmlto_html|\n",
    "|Local clipboard|read_clipboard|\n",
    "|MS Excel|read_excel|to_excel|\n",
    "|HDF5 Format|read_hdf|to_hdf|\n",
    "|SQL|read_sql|to_sql|"
   ]
  },
  {
   "cell_type": "markdown",
   "id": "fdb1260d",
   "metadata": {},
   "source": [
    "## 1-1 CSV 파일"
   ]
  },
  {
   "cell_type": "markdown",
   "id": "0a77b298",
   "metadata": {},
   "source": [
    "### CSV(comma-separated-values)\n",
    "### 쉽표(,)로 열을 구분하고 줄바꿈으로 행을 구분한다.\n",
    "### CSV 파일 -> 데이터프레임 : pandas.read_csv(\"파일 경로\")"
   ]
  },
  {
   "cell_type": "code",
   "execution_count": 2,
   "id": "adfbbcb2",
   "metadata": {},
   "outputs": [],
   "source": [
    "# 라이브러리 불러오기\n",
    "import pandas as pd"
   ]
  },
  {
   "cell_type": "code",
   "execution_count": 3,
   "id": "f78414ea",
   "metadata": {},
   "outputs": [],
   "source": [
    "# 파일 경로를 찾고, 변수 file_path에 저장\n",
    "file_path = './read_csv_sample.csv'"
   ]
  },
  {
   "cell_type": "code",
   "execution_count": 4,
   "id": "083b0bb5",
   "metadata": {},
   "outputs": [
    {
     "name": "stdout",
     "output_type": "stream",
     "text": [
      "   c0  c1  c2  c3\n",
      "0   0   1   4   7\n",
      "1   1   2   5   8\n",
      "2   2   3   6   9\n"
     ]
    }
   ],
   "source": [
    "# read_csv() 함수로 데이터프레임 변환. 변수 df1에 저장\n",
    "df1 = pd.read_csv(file_path)\n",
    "print(df1)"
   ]
  },
  {
   "cell_type": "code",
   "execution_count": 5,
   "id": "2d6fb1bb",
   "metadata": {},
   "outputs": [
    {
     "name": "stdout",
     "output_type": "stream",
     "text": [
      "    0   1   2   3\n",
      "0  c0  c1  c2  c3\n",
      "1   0   1   4   7\n",
      "2   1   2   5   8\n",
      "3   2   3   6   9\n"
     ]
    }
   ],
   "source": [
    "# 변수 df2에 저장. header = None 옵션\n",
    "df2 = pd.read_csv(file_path, header = None)\n",
    "print(df2)"
   ]
  },
  {
   "cell_type": "code",
   "execution_count": 6,
   "id": "b63adc06",
   "metadata": {},
   "outputs": [
    {
     "name": "stdout",
     "output_type": "stream",
     "text": [
      "   c0  c1  c2  c3\n",
      "0   0   1   4   7\n",
      "1   1   2   5   8\n",
      "2   2   3   6   9\n"
     ]
    }
   ],
   "source": [
    "# 변수 df3에 저장. index_col = None 옵션\n",
    "df3 = pd.read_csv(file_path, index_col = None)\n",
    "print(df3)"
   ]
  },
  {
   "cell_type": "code",
   "execution_count": 7,
   "id": "12747b52",
   "metadata": {},
   "outputs": [
    {
     "name": "stdout",
     "output_type": "stream",
     "text": [
      "    c1  c2  c3\n",
      "c0            \n",
      "0    1   4   7\n",
      "1    2   5   8\n",
      "2    3   6   9\n"
     ]
    }
   ],
   "source": [
    "# 변수 df4에 저장. indes_col = 'c0' 옵션\n",
    "df4 = pd.read_csv(file_path, index_col = 'c0')\n",
    "print(df4)"
   ]
  },
  {
   "cell_type": "markdown",
   "id": "298e0daa",
   "metadata": {},
   "source": [
    "###  read_csv() 함수 옵션\n",
    "|옵션|설명|\n",
    "|----|----|\n",
    "|path|파일의 위치(파일명 포함), URL|\n",
    "|sep(또는 delimiter)|텍스트 데이터를 필드별로 구분하는 문자|\n",
    "|header|열 이름으로 사용될 행의 번호(기본값은 0)|\n",
    "|index_col|행 인덱스로 사용할 열의 번호 또는 열 이름|\n",
    "|names|열 이름으로 사용할 문자열의 리스트|\n",
    "|skiprows|처음 몇 줄을 skip할 것인지 설정(숫자 입력), 리스트로 설정 가능|\n",
    "|parse_dates|날짜 텍스트를 datetime64로 변환할 것인지 설정(기본값은 False)|\n",
    "|skip_footer|마지막 몇 줄을 skip할 것인지 설정(숫자 입력)|\n",
    "|encoding|텍스트 인코딩 종류를 지정|"
   ]
  },
  {
   "cell_type": "markdown",
   "id": "0caefd3f",
   "metadata": {},
   "source": [
    "## 1-2 Excel 파일"
   ]
  },
  {
   "cell_type": "markdown",
   "id": "fd7e1c4d",
   "metadata": {},
   "source": [
    "### 확장자 .xlsx\n",
    "### 데이터프레임의 행, 열로 일대일 대응\n",
    "### Excel 파일 -> 데이터프레임 : pandas.read_excel(\"파일 경로\")\n",
    "### xlsx 확장자-> engine 옵션에 'openpyxl' 지정\n",
    "### xls 확장자 -> engine 옵션에 'xlrd' 지정"
   ]
  },
  {
   "cell_type": "code",
   "execution_count": 9,
   "id": "566e7e39",
   "metadata": {},
   "outputs": [],
   "source": [
    "# read_excel() 함수로 데이터프레임 변환\n",
    "df1 = pd.read_excel('./남북한발전전력량.xlsx', engine = 'openpyxl')# header = 0(default 옵션)\n",
    "df2 = pd.read_excel('./남북한발전전력량.xlsx', engine = 'openpyxl', header = None)"
   ]
  },
  {
   "cell_type": "code",
   "execution_count": 10,
   "id": "f93b0e5c",
   "metadata": {},
   "outputs": [
    {
     "name": "stdout",
     "output_type": "stream",
     "text": [
      "  전력량 (억㎾h) 발전 전력별  1990  1991  1992  1993  1994  1995  1996  1997  ...  2007  \\\n",
      "0        남한     합계  1077  1186  1310  1444  1650  1847  2055  2244  ...  4031   \n",
      "1       NaN     수력    64    51    49    60    41    55    52    54  ...    50   \n",
      "2       NaN     화력   484   573   696   803  1022  1122  1264  1420  ...  2551   \n",
      "3       NaN    원자력   529   563   565   581   587   670   739   771  ...  1429   \n",
      "4       NaN    신재생     -     -     -     -     -     -     -     -  ...     -   \n",
      "5        북한     합계   277   263   247   221   231   230   213   193  ...   236   \n",
      "6       NaN     수력   156   150   142   133   138   142   125   107  ...   133   \n",
      "7       NaN     화력   121   113   105    88    93    88    88    86  ...   103   \n",
      "8       NaN    원자력     -     -     -     -     -     -     -     -  ...     -   \n",
      "\n",
      "   2008  2009  2010  2011  2012  2013  2014  2015  2016  \n",
      "0  4224  4336  4747  4969  5096  5171  5220  5281  5404  \n",
      "1    56    56    65    78    77    84    78    58    66  \n",
      "2  2658  2802  3196  3343  3430  3581  3427  3402  3523  \n",
      "3  1510  1478  1486  1547  1503  1388  1564  1648  1620  \n",
      "4     -     -     -     -    86   118   151   173   195  \n",
      "5   255   235   237   211   215   221   216   190   239  \n",
      "6   141   125   134   132   135   139   130   100   128  \n",
      "7   114   110   103    79    80    82    86    90   111  \n",
      "8     -     -     -     -     -     -     -     -     -  \n",
      "\n",
      "[9 rows x 29 columns]\n"
     ]
    }
   ],
   "source": [
    "print(df1)"
   ]
  },
  {
   "cell_type": "code",
   "execution_count": 11,
   "id": "6c0e6084",
   "metadata": {},
   "outputs": [
    {
     "name": "stdout",
     "output_type": "stream",
     "text": [
      "          0       1     2     3     4     5     6     7     8     9   ...  \\\n",
      "0  전력량 (억㎾h)  발전 전력별  1990  1991  1992  1993  1994  1995  1996  1997  ...   \n",
      "1         남한      합계  1077  1186  1310  1444  1650  1847  2055  2244  ...   \n",
      "2        NaN      수력    64    51    49    60    41    55    52    54  ...   \n",
      "3        NaN      화력   484   573   696   803  1022  1122  1264  1420  ...   \n",
      "4        NaN     원자력   529   563   565   581   587   670   739   771  ...   \n",
      "5        NaN     신재생     -     -     -     -     -     -     -     -  ...   \n",
      "6         북한      합계   277   263   247   221   231   230   213   193  ...   \n",
      "7        NaN      수력   156   150   142   133   138   142   125   107  ...   \n",
      "8        NaN      화력   121   113   105    88    93    88    88    86  ...   \n",
      "9        NaN     원자력     -     -     -     -     -     -     -     -  ...   \n",
      "\n",
      "     19    20    21    22    23    24    25    26    27    28  \n",
      "0  2007  2008  2009  2010  2011  2012  2013  2014  2015  2016  \n",
      "1  4031  4224  4336  4747  4969  5096  5171  5220  5281  5404  \n",
      "2    50    56    56    65    78    77    84    78    58    66  \n",
      "3  2551  2658  2802  3196  3343  3430  3581  3427  3402  3523  \n",
      "4  1429  1510  1478  1486  1547  1503  1388  1564  1648  1620  \n",
      "5     -     -     -     -     -    86   118   151   173   195  \n",
      "6   236   255   235   237   211   215   221   216   190   239  \n",
      "7   133   141   125   134   132   135   139   130   100   128  \n",
      "8   103   114   110   103    79    80    82    86    90   111  \n",
      "9     -     -     -     -     -     -     -     -     -     -  \n",
      "\n",
      "[10 rows x 29 columns]\n"
     ]
    }
   ],
   "source": [
    "print(df2)"
   ]
  },
  {
   "cell_type": "markdown",
   "id": "68ff4994",
   "metadata": {},
   "source": [
    "## 1-3 JSON 파일"
   ]
  },
  {
   "cell_type": "markdown",
   "id": "7e37ebd1",
   "metadata": {},
   "source": [
    "### 확장자 .json\n",
    "### 데이터 공유를 목적으로 개발된 특수한 파일 형식\n",
    "### 'key : value' 구조\n",
    "### 구조가 중첩되는 방식에 따라 다르게 적용\n",
    "### JSON 파일 -> 데이터프레임 : pandas.read_json(\"파일 경로\")"
   ]
  },
  {
   "cell_type": "code",
   "execution_count": 13,
   "id": "2ae26c6d",
   "metadata": {},
   "outputs": [
    {
     "name": "stdout",
     "output_type": "stream",
     "text": [
      "           name  year        developer opensource\n",
      "pandas           2008    Wes Mckinneye       True\n",
      "NumPy            2006  Travis Oliphant       True\n",
      "matplotlib       2003   John D. Hunter       True\n"
     ]
    }
   ],
   "source": [
    "# read_json() 함수로 데이터프레임 변환\n",
    "df = pd.read_json('./read_json_sample.json')\n",
    "print(df)"
   ]
  },
  {
   "cell_type": "code",
   "execution_count": 14,
   "id": "82eff461",
   "metadata": {},
   "outputs": [
    {
     "name": "stdout",
     "output_type": "stream",
     "text": [
      "Index(['pandas', 'NumPy', 'matplotlib'], dtype='object')\n"
     ]
    }
   ],
   "source": [
    "print(df.index)"
   ]
  }
 ],
 "metadata": {
  "kernelspec": {
   "display_name": "Python 3 (ipykernel)",
   "language": "python",
   "name": "python3"
  },
  "language_info": {
   "codemirror_mode": {
    "name": "ipython",
    "version": 3
   },
   "file_extension": ".py",
   "mimetype": "text/x-python",
   "name": "python",
   "nbconvert_exporter": "python",
   "pygments_lexer": "ipython3",
   "version": "3.9.7"
  }
 },
 "nbformat": 4,
 "nbformat_minor": 5
}
