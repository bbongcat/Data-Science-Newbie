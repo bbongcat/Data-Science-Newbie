{
 "cells": [
  {
   "cell_type": "markdown",
   "id": "6f1a69bf",
   "metadata": {},
   "source": [
    "## 4-1 CSV 파일로 저장\n",
    "### DataFrame 객체.to_csv(\"파일 이름\")"
   ]
  },
  {
   "cell_type": "code",
   "execution_count": 1,
   "id": "a5ecdcee",
   "metadata": {},
   "outputs": [],
   "source": [
    "import pandas as pd"
   ]
  },
  {
   "cell_type": "code",
   "execution_count": 6,
   "id": "09352194",
   "metadata": {},
   "outputs": [
    {
     "name": "stdout",
     "output_type": "stream",
     "text": [
      "    name algol basic c++\n",
      "0  Jerry     A     C  B+\n",
      "1   Fiah    A+     B   C\n",
      "2   Paul     B    B+  C+\n"
     ]
    }
   ],
   "source": [
    "# 판다스 DataFrame() 함수로 데이터프레임 변환. 변수 df에 저장\n",
    "data = {'name' : ['Jerry', 'Fiah', 'Paul'],\n",
    "       'algol' : [\"A\", \"A+\", \"B\"],\n",
    "       'basic' : [\"C\", \"B\", \"B+\"],\n",
    "       'c++' : [\"B+\", \"C\", \"C+\"]\n",
    "       }\n",
    "df = pd.DataFrame(data)\n",
    "print(df)"
   ]
  },
  {
   "cell_type": "code",
   "execution_count": 7,
   "id": "48135cf2",
   "metadata": {},
   "outputs": [
    {
     "name": "stdout",
     "output_type": "stream",
     "text": [
      "      algol basic c++\n",
      "name                 \n",
      "Jerry     A     C  B+\n",
      "Fiah     A+     B   C\n",
      "Paul      B    B+  C+\n"
     ]
    }
   ],
   "source": [
    "# name 열을 인덱스로 지정\n",
    "df.set_index('name', inplace=True)\n",
    "print(df)"
   ]
  },
  {
   "cell_type": "code",
   "execution_count": 9,
   "id": "53095586",
   "metadata": {},
   "outputs": [],
   "source": [
    "# to_csv() 메소드를 사용하여 csv 파일로 내보내기\n",
    "# 파일명은 df_sample.csv\n",
    "df.to_csv(\"./df_sampl.csv\")"
   ]
  },
  {
   "cell_type": "markdown",
   "id": "d70d1ba7",
   "metadata": {},
   "source": [
    "## 4-2 JSON 파일로 저장\n",
    "### DataFrame 객체.to_json(\"파일 이름\")"
   ]
  },
  {
   "cell_type": "code",
   "execution_count": 10,
   "id": "b2be6b57",
   "metadata": {},
   "outputs": [
    {
     "name": "stdout",
     "output_type": "stream",
     "text": [
      "      algol basic c++\n",
      "name                 \n",
      "Jerry     A     C  B+\n",
      "Fiah     A+     B   C\n",
      "Paul      B    B+  C+\n"
     ]
    }
   ],
   "source": [
    "print(df)"
   ]
  },
  {
   "cell_type": "code",
   "execution_count": 11,
   "id": "c1c9586b",
   "metadata": {},
   "outputs": [],
   "source": [
    "# to_json() 메소드를 사용하여 JSON 파일로 내보내기\n",
    "# 파일명은 df_sampl.json\n",
    "df.to_json(\"./df_sample.json\")"
   ]
  },
  {
   "cell_type": "markdown",
   "id": "fc7399b3",
   "metadata": {},
   "source": [
    "## 4-3 Excel 파일로 저장\n",
    "### 데이터프레임의 행과 열은 Excel 파일의 행과 열로 일대일 대응\n",
    "### 사전에 openpyxl 라이브러리 설치(아나콘다 배포판에는 기본 제공됨)\n",
    "### DataFrame 객체.to_excel(\"파일 이름\")"
   ]
  },
  {
   "cell_type": "code",
   "execution_count": 12,
   "id": "54a2742f",
   "metadata": {},
   "outputs": [
    {
     "name": "stdout",
     "output_type": "stream",
     "text": [
      "      algol basic c++\n",
      "name                 \n",
      "Jerry     A     C  B+\n",
      "Fiah     A+     B   C\n",
      "Paul      B    B+  C+\n"
     ]
    }
   ],
   "source": [
    "print(df)"
   ]
  },
  {
   "cell_type": "code",
   "execution_count": 13,
   "id": "381823ea",
   "metadata": {},
   "outputs": [],
   "source": [
    "# to_excel() 메소드를 사용하여 Excel 파일로 내보내기\n",
    "# 파일명은 df_sample.xlsx\n",
    "df.to_excel(\"./df_sample.xlsx\")"
   ]
  },
  {
   "cell_type": "markdown",
   "id": "0c3fd91b",
   "metadata": {},
   "source": [
    "## 4-4 여러 개의 데이터프레임을 하나의 Excel 파일로 저장\n",
    "### ExcelWriter() 함수 : Excel 워크북 객체 생성\n",
    "### 워크북 객체 : Excel 파일\n",
    "### 데이터프레임에 to_excel() 메소드를 적용할 때 삽입하려는 워크북 객체를 인자로 전달\n",
    "### sheet_name 옵션에 Excel 파일의 시트이름 입력하여 삽입되는 시트 위치 지정\n",
    "### 데이터프레임을 삽입하는 시트 이름을 다르게 설정하면, 같은 Excel 파일의 서로 다른 시트에 여러 데이터프레임을 구분하여 지정\n",
    "### pandas.ExcelWriter(\"파일 이름\")"
   ]
  },
  {
   "cell_type": "code",
   "execution_count": 14,
   "id": "c13700e6",
   "metadata": {},
   "outputs": [],
   "source": [
    "# 판다스 DataFrame() 함수로 데이터프레임 변환.\n",
    "# 변수 df1, df2에 저장\n",
    "data1 = {'name' : ['Jerry', 'Fiah', 'Paul'],\n",
    "       'algol' : [\"A\", \"A+\", \"B\"],\n",
    "       'basic' : [\"C\", \"B\", \"B+\"],\n",
    "       'c++' : [\"B+\", \"C\", \"C+\"]\n",
    "       }\n",
    "\n",
    "data2 = {'c0' : [1, 2, 3],\n",
    "        'c1' : [4, 5, 6],\n",
    "        'c2' : [7, 8, 9],\n",
    "        'c3' : [10, 11, 12],\n",
    "        'c4' : [13, 14, 15]}"
   ]
  },
  {
   "cell_type": "code",
   "execution_count": 19,
   "id": "4a200894",
   "metadata": {},
   "outputs": [
    {
     "name": "stdout",
     "output_type": "stream",
     "text": [
      "    name algol basic c++\n",
      "0  Jerry     A     C  B+\n",
      "1   Fiah    A+     B   C\n",
      "2   Paul     B    B+  C+\n"
     ]
    }
   ],
   "source": [
    "df1 = pd.DataFrame(data1)\n",
    "print(df1)"
   ]
  },
  {
   "cell_type": "code",
   "execution_count": 20,
   "id": "01643777",
   "metadata": {},
   "outputs": [
    {
     "name": "stdout",
     "output_type": "stream",
     "text": [
      "      algol basic c++\n",
      "name                 \n",
      "Jerry     A     C  B+\n",
      "Fiah     A+     B   C\n",
      "Paul      B    B+  C+\n"
     ]
    }
   ],
   "source": [
    "# name 열을 인덱스로 지정\n",
    "df1.set_index('name', inplace=True)\n",
    "print(df1)"
   ]
  },
  {
   "cell_type": "code",
   "execution_count": 21,
   "id": "3baa4f46",
   "metadata": {},
   "outputs": [
    {
     "name": "stdout",
     "output_type": "stream",
     "text": [
      "   c0  c1  c2  c3  c4\n",
      "0   1   4   7  10  13\n",
      "1   2   5   8  11  14\n",
      "2   3   6   9  12  15\n"
     ]
    }
   ],
   "source": [
    "df2 = pd.DataFrame(data2)\n",
    "print(df2)"
   ]
  },
  {
   "cell_type": "code",
   "execution_count": 22,
   "id": "bac71d1b",
   "metadata": {},
   "outputs": [
    {
     "name": "stdout",
     "output_type": "stream",
     "text": [
      "    c1  c2  c3  c4\n",
      "c0                \n",
      "1    4   7  10  13\n",
      "2    5   8  11  14\n",
      "3    6   9  12  15\n"
     ]
    }
   ],
   "source": [
    "# c0 열을 인덱스로 지정\n",
    "df2.set_index('c0', inplace = True)\n",
    "print(df2)"
   ]
  },
  {
   "cell_type": "code",
   "execution_count": 23,
   "id": "045e35a6",
   "metadata": {},
   "outputs": [],
   "source": [
    "# df1을 'sheet1'으로, df2를 'sheet2'로 저장\n",
    "# 파일명은 df_excelwriter.xlsx\n",
    "writer = pd.ExcelWriter(\"./df_excelwriter.xlsx\")\n",
    "df1.to_excel(writer, sheet_name = \"sheet1\")\n",
    "df2.to_excel(writer, sheet_name = \"sheet2\")\n",
    "writer.save()"
   ]
  }
 ],
 "metadata": {
  "kernelspec": {
   "display_name": "Python 3 (ipykernel)",
   "language": "python",
   "name": "python3"
  },
  "language_info": {
   "codemirror_mode": {
    "name": "ipython",
    "version": 3
   },
   "file_extension": ".py",
   "mimetype": "text/x-python",
   "name": "python",
   "nbconvert_exporter": "python",
   "pygments_lexer": "ipython3",
   "version": "3.9.7"
  }
 },
 "nbformat": 4,
 "nbformat_minor": 5
}
