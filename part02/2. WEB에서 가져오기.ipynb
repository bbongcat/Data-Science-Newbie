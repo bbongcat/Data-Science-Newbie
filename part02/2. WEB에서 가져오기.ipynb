{
 "cells": [
  {
   "cell_type": "markdown",
   "id": "768aca72",
   "metadata": {},
   "source": [
    "## 2-1 HTML 웹 페이지에서 표 속성 가져오기"
   ]
  },
  {
   "cell_type": "markdown",
   "id": "fb22f8fd",
   "metadata": {},
   "source": [
    "### read_html() 함수\n",
    "* HTML 웹 페이지에 있는 table 태그에서\n",
    "* 표 형식의 데이터를 모두 찾아서\n",
    "* 데이터프레임으로 변환\n",
    "   \n",
    "* 표 데이터들은 각각 별도의 데이터프레임으로 변환되기 때문에\n",
    "* 여러 개의 데이터프레임(표)을 원소로 갖는 리스트가 반환된다."
   ]
  },
  {
   "cell_type": "markdown",
   "id": "27d0b0fd",
   "metadata": {},
   "source": [
    "### read_html() 함수를 이용하여 웹 페이지의 표 정보 파싱(parsing)\n",
    "### HTML 표 속성 읽기 : pandas.read_html(\"URL\" 또는 \"HTML 파일 경로\")"
   ]
  },
  {
   "cell_type": "code",
   "execution_count": 16,
   "id": "a4b78a47",
   "metadata": {},
   "outputs": [],
   "source": [
    "import pandas as pd"
   ]
  },
  {
   "cell_type": "code",
   "execution_count": 17,
   "id": "94b23803",
   "metadata": {},
   "outputs": [],
   "source": [
    "# HTML 파일 경로 or 웹 페이지 주소를 url 변수에 저장\n",
    "url = './sample.html'"
   ]
  },
  {
   "cell_type": "code",
   "execution_count": 28,
   "id": "95c6748b",
   "metadata": {},
   "outputs": [
    {
     "name": "stdout",
     "output_type": "stream",
     "text": [
      "[   Unnamed: 0  c0  c1  c2  c3\n",
      "0           0   0   1   4   7\n",
      "1           1   1   2   5   8\n",
      "2           2   2   3   6   9,          name  year        developer  opensource\n",
      "0       NumPy  2006  Travis Oliphant        True\n",
      "1  matplotlib  2003   John D. Hunter        True\n",
      "2      pandas  2008    Wes Mckinneye        True]\n"
     ]
    }
   ],
   "source": [
    "# HTML 웹페이지의 표(table)를 가져와서 데이터프레임으로 변환\n",
    "tables = pd.read_html(url)\n",
    "print(tables)"
   ]
  },
  {
   "cell_type": "code",
   "execution_count": 19,
   "id": "01ec6f21",
   "metadata": {},
   "outputs": [
    {
     "name": "stdout",
     "output_type": "stream",
     "text": [
      "2\n"
     ]
    }
   ],
   "source": [
    "# 표의 개수 확인\n",
    "print(len(tables))"
   ]
  },
  {
   "cell_type": "code",
   "execution_count": 20,
   "id": "537d14cf",
   "metadata": {},
   "outputs": [
    {
     "name": "stdout",
     "output_type": "stream",
     "text": [
      "tables[0]\n",
      "   Unnamed: 0  c0  c1  c2  c3\n",
      "0           0   0   1   4   7\n",
      "1           1   1   2   5   8\n",
      "2           2   2   3   6   9\n",
      "\n",
      "\n",
      "tables[1]\n",
      "         name  year        developer  opensource\n",
      "0       NumPy  2006  Travis Oliphant        True\n",
      "1  matplotlib  2003   John D. Hunter        True\n",
      "2      pandas  2008    Wes Mckinneye        True\n",
      "\n",
      "\n"
     ]
    }
   ],
   "source": [
    "# tables 리스트의 원소를 iteration(반복)하면서 각각 화면 출력\n",
    "for i in range(len(tables)) :\n",
    "    print(\"tables[%s]\" %i)\n",
    "    print(tables[i])\n",
    "    print('\\n')"
   ]
  },
  {
   "cell_type": "code",
   "execution_count": 29,
   "id": "1d3b8da6",
   "metadata": {},
   "outputs": [
    {
     "name": "stdout",
     "output_type": "stream",
     "text": [
      "         name  year        developer  opensource\n",
      "0       NumPy  2006  Travis Oliphant        True\n",
      "1  matplotlib  2003   John D. Hunter        True\n",
      "2      pandas  2008    Wes Mckinneye        True\n"
     ]
    }
   ],
   "source": [
    "# 파이썬 패키지 정보가 들어 있는 두 번째 데이터프레임을 선택하여 df 변수에 저장\n",
    "df = tables[1]\n",
    "print(df)"
   ]
  },
  {
   "cell_type": "code",
   "execution_count": 30,
   "id": "52986f78",
   "metadata": {},
   "outputs": [
    {
     "name": "stdout",
     "output_type": "stream",
     "text": [
      "            year        developer  opensource\n",
      "name                                         \n",
      "NumPy       2006  Travis Oliphant        True\n",
      "matplotlib  2003   John D. Hunter        True\n",
      "pandas      2008    Wes Mckinneye        True\n"
     ]
    }
   ],
   "source": [
    "# 'name' 열을 새로운 행 인덱스로 지정\n",
    "df.set_index(['name'], inplace = True)\n",
    "print(df)"
   ]
  },
  {
   "cell_type": "markdown",
   "id": "3334160e",
   "metadata": {},
   "source": [
    "## 2-2 웹 스크래핑"
   ]
  },
  {
   "cell_type": "markdown",
   "id": "c10b9e51",
   "metadata": {},
   "source": [
    "### 미국 ETF 리스트 가져오기\n",
    "### BeautifulSoup 등 웹 스크래핑 도구로 수집한 데이터를 판다스 데이터프레임으로 정리하는 방법\n",
    "\n",
    "1. 스크래핑한 내용을 파이썬 리스트, 딕셔너리 등으로 정리한 뒤\n",
    "2. DataFrame() 함수에 리스트나 딕셔너리 형태로 전달하여 데이터프레임으로 변환"
   ]
  },
  {
   "cell_type": "code",
   "execution_count": 42,
   "id": "7c8254d8",
   "metadata": {},
   "outputs": [],
   "source": [
    "# 라이브러리 불러오기\n",
    "from bs4 import BeautifulSoup\n",
    "import requests\n",
    "import re\n",
    "import pandas as pd"
   ]
  },
  {
   "cell_type": "code",
   "execution_count": 48,
   "id": "b1e48a4c",
   "metadata": {},
   "outputs": [],
   "source": [
    "# 위키피디아 미국 ETF 웹 페이지에서 필요한 정보를 스크래핑하여 딕셔너리 형태로 변수 etfs에 저장\n",
    "url = \"https://en.wikipedia.org/wiki/List_of_American_exchange-traded_funds\"\n",
    "resp = requests.get(url)\n",
    "soup = BeautifulSoup(resp.text, 'lxml')\n",
    "rows = soup.select('div > ul > li')"
   ]
  },
  {
   "cell_type": "code",
   "execution_count": 54,
   "id": "5ff6902a",
   "metadata": {},
   "outputs": [],
   "source": [
    "etfs = {}"
   ]
  },
  {
   "cell_type": "code",
   "execution_count": 56,
   "id": "4f256e64",
   "metadata": {},
   "outputs": [],
   "source": [
    "for row in rows:\n",
    "    \n",
    "    try:\n",
    "        etf_name = re.findall('^(.*) \\(NYSE', row.text)\n",
    "        etf_market = re.findall('\\((.*)\\|', row.text)\n",
    "        etf_ticker = re.findall('NYSE Arca\\|(.*)\\)', row.text)\n",
    "        \n",
    "        if (len(etf_ticker) > 0) & (len(etf_market) > 0) & (len(etf_name) > 0):\n",
    "            etfs[etf_ticker[0]] = [etf_market[0], etf_name[0]]\n",
    "\n",
    "    except AttributeError as err:\n",
    "        pass "
   ]
  },
  {
   "cell_type": "code",
   "execution_count": 58,
   "id": "01276bd4",
   "metadata": {},
   "outputs": [
    {
     "name": "stdout",
     "output_type": "stream",
     "text": [
      "{}\n"
     ]
    }
   ],
   "source": [
    "# etfs 딕셔너리 출력\n",
    "print(etfs)"
   ]
  },
  {
   "cell_type": "code",
   "execution_count": 59,
   "id": "678832af",
   "metadata": {},
   "outputs": [
    {
     "name": "stdout",
     "output_type": "stream",
     "text": [
      "Empty DataFrame\n",
      "Columns: []\n",
      "Index: []\n"
     ]
    }
   ],
   "source": [
    "# etfs 딕셔너리를 데이터프레임으로 변환\n",
    "df = pd.DataFrame(etfs)\n",
    "print(df)"
   ]
  }
 ],
 "metadata": {
  "kernelspec": {
   "display_name": "Python 3 (ipykernel)",
   "language": "python",
   "name": "python3"
  },
  "language_info": {
   "codemirror_mode": {
    "name": "ipython",
    "version": 3
   },
   "file_extension": ".py",
   "mimetype": "text/x-python",
   "name": "python",
   "nbconvert_exporter": "python",
   "pygments_lexer": "ipython3",
   "version": "3.9.7"
  }
 },
 "nbformat": 4,
 "nbformat_minor": 5
}
