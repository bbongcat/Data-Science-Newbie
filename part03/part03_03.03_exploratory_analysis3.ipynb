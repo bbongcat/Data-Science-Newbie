{
 "cells": [
  {
   "cell_type": "markdown",
   "metadata": {
    "pycharm": {
     "name": "#%% md\n"
    }
   },
   "source": [
    "# 2. 통계 함수 적용\n",
    "\n",
    "## 2-1 평균값\n",
    "\n",
    "데이터프레임에 `mean()` 메소드를 적용하면, 산술 데이터를 갖는 모든 열의 평균값을 각각 계산하여 시리즈 객체로 반환한다.<br>\n",
    "데이터프레임의 특정 열을 선택하여 평균값을 계산할 수도 있다.\n",
    "\n",
    "- 모든 열의 평균값: `DataFrame 객체.mean()`\n",
    "- 특정 열의 평균값: `DataFrame 객체[\"열 이름\"].mean()`"
   ]
  },
  {
   "cell_type": "code",
   "execution_count": 4,
   "metadata": {
    "collapsed": false,
    "jupyter": {
     "outputs_hidden": false
    },
    "pycharm": {
     "name": "#%%\n"
    }
   },
   "outputs": [
    {
     "name": "stdout",
     "output_type": "stream",
     "text": [
      "- 산술 데이터를 가진 7개 열에 대한 각각의 평균값을 계산\n",
      "mpg               23.514573\n",
      "cylinders          5.454774\n",
      "displacement     193.425879\n",
      "weight          2970.424623\n",
      "acceleration      15.568090\n",
      "model year        76.010050\n",
      "origin             1.572864\n",
      "dtype: float64\n",
      "\n",
      "\n",
      "- 특정 열 1개를 선택하여 평균값을 계산\n",
      "23.514572864321615\n",
      "23.514572864321615\n",
      "\n",
      "\n",
      "- 2개 열을 선택하여 평균값을 각각 계산\n",
      "mpg         23.514573\n",
      "weight    2970.424623\n",
      "dtype: float64\n"
     ]
    },
    {
     "name": "stderr",
     "output_type": "stream",
     "text": [
      "/var/folders/c7/9g12sj_s5pn6d36sm6m03b5w0000gn/T/ipykernel_26450/1845167507.py:12: FutureWarning: Dropping of nuisance columns in DataFrame reductions (with 'numeric_only=None') is deprecated; in a future version this will raise TypeError.  Select only valid columns before calling the reduction.\n",
      "  print(df.mean())\n"
     ]
    }
   ],
   "source": [
    "import pandas as pd\n",
    "\n",
    "# read_csv() 함수로 df 생성\n",
    "df = pd.read_csv('./auto-mpg.csv', header=None)\n",
    "\n",
    "# 열 이름 지정\n",
    "df.columns = ['mpg', 'cylinders', 'displacement', 'horsepower', 'weight',\n",
    "              'acceleration', 'model year', 'origin', 'name']\n",
    "\n",
    "# 평균값\n",
    "print('- 산술 데이터를 가진 7개 열에 대한 각각의 평균값을 계산')\n",
    "print(df.mean())\n",
    "print('\\n')\n",
    "\n",
    "print('- 특정 열 1개를 선택하여 평균값을 계산')\n",
    "print(df['mpg'].mean())\n",
    "print(df.mpg.mean())\n",
    "print('\\n')\n",
    "\n",
    "print('- 2개 열을 선택하여 평균값을 각각 계산')\n",
    "print(df[['mpg', 'weight']].mean())\n",
    "# 이후 버전에서는 타입에러가 발생할거라는 경고 메시지가 출력됨. 책의 예제와 결과는 동일"
   ]
  },
  {
   "cell_type": "markdown",
   "metadata": {},
   "source": [
    "---\n",
    "\n",
    "## 2-2 중간값\n",
    "\n",
    "데이터프레임에 `median()` 메소드를 적용하면 산술 데이터를 갖는 모든 열의 중간값을 계산하여 시리즈로 반환한다.<br>\n",
    "데이터프레임의 특정 열을 선택하여 중간값을 계산할 수도 있다.\n",
    "\n",
    "- 모든 열의 중간값: `DataFrame 객체.median()`\n",
    "- 특정 열의 중간값: `DataFrame 객체[\"열 이름\"].median()`\n"
   ]
  },
  {
   "cell_type": "code",
   "execution_count": 5,
   "metadata": {
    "collapsed": false,
    "jupyter": {
     "outputs_hidden": false
    },
    "pycharm": {
     "name": "#%%\n"
    }
   },
   "outputs": [
    {
     "name": "stdout",
     "output_type": "stream",
     "text": [
      "- 산술 데이터를 가진 7개 열의 중간값을 계산.\n",
      "열 이름이 인덱스가 되고, 각 열의 중간값을 데이터로 갖는 시리즈 반환\n",
      "mpg               23.0\n",
      "cylinders          4.0\n",
      "displacement     148.5\n",
      "weight          2803.5\n",
      "acceleration      15.5\n",
      "model year        76.0\n",
      "origin             1.0\n",
      "dtype: float64\n",
      "\n",
      "\n",
      "- mpg 열의 중간값 출력\n",
      "23.0\n"
     ]
    },
    {
     "name": "stderr",
     "output_type": "stream",
     "text": [
      "/var/folders/c7/9g12sj_s5pn6d36sm6m03b5w0000gn/T/ipykernel_26450/2685011913.py:3: FutureWarning: Dropping of nuisance columns in DataFrame reductions (with 'numeric_only=None') is deprecated; in a future version this will raise TypeError.  Select only valid columns before calling the reduction.\n",
      "  print(df.median())\n"
     ]
    }
   ],
   "source": [
    "# 중간값\n",
    "print('- 산술 데이터를 가진 7개 열의 중간값을 계산.\\n열 이름이 인덱스가 되고, 각 열의 중간값을 데이터로 갖는 시리즈 반환')\n",
    "print(df.median())\n",
    "print('\\n')\n",
    "\n",
    "print('- mpg 열의 중간값 출력')\n",
    "print(df['mpg'].median())"
   ]
  },
  {
   "cell_type": "markdown",
   "metadata": {},
   "source": [
    "---\n",
    "\n",
    "## 2-3 최대값\n",
    "\n",
    "데이터프레임에 `max()` 메소드를 적용하면 데이터프레임의 각 열이 갖는 데이터 값 중에서 최대 값을 계산하여 시리즈로 반환한다.<br>\n",
    "데이터프레임의 특정 열을 선택하여 계산할 수도 있다.\n",
    "\n",
    "- 모든 열의 최대값: `DataFrame 객체.max()`\n",
    "- 특정 열의 최대값: `DataFrame 객체[\"열 이름\"].max()`\n"
   ]
  },
  {
   "cell_type": "code",
   "execution_count": 6,
   "metadata": {
    "collapsed": false,
    "jupyter": {
     "outputs_hidden": false
    },
    "pycharm": {
     "name": "#%%\n"
    }
   },
   "outputs": [
    {
     "name": "stdout",
     "output_type": "stream",
     "text": [
      "- 산술 데이터를 가진 7개 열에 대해서는 가장 큰 숫자를 찾아서 최대값으로 반환\n",
      "문자열 데이터를 가진 'horsepower' 열과 'name' 열에 대해서는 문자열을 ASCII 숫자로 변환하여 크고 작음을 비교\n",
      "'horsepower' 열은 '?' 문자가 포함되어 있기 때문에 다른 숫자 값까지 전부 문자열로 인식\n",
      "mpg                         46.6\n",
      "cylinders                      8\n",
      "displacement               455.0\n",
      "horsepower                     ?\n",
      "weight                    5140.0\n",
      "acceleration                24.8\n",
      "model year                    82\n",
      "origin                         3\n",
      "name            vw rabbit custom\n",
      "dtype: object\n",
      "\n",
      "\n",
      "'mpg' 열의 최대값 출력\n",
      "46.6\n"
     ]
    }
   ],
   "source": [
    "# 최대값\n",
    "print(\"- 산술 데이터를 가진 7개 열에 대해서는 가장 큰 숫자를 찾아서 최대값으로 반환\\n\"\n",
    "      \"문자열 데이터를 가진 'horsepower' 열과 'name' 열에 대해서는 문자열을 ASCII 숫자로 변환하여 크고 작음을 비교\\n\"\n",
    "      \"'horsepower' 열은 '?' 문자가 포함되어 있기 때문에 다른 숫자 값까지 전부 문자열로 인식\")\n",
    "print(df.max())\n",
    "print('\\n')\n",
    "\n",
    "print(\"- 'mpg' 열의 최대값 출력\")\n",
    "print(df['mpg'].max())"
   ]
  },
  {
   "cell_type": "markdown",
   "metadata": {
    "pycharm": {
     "name": "#%% md\n"
    }
   },
   "source": [
    "---\n",
    "\n",
    "## 2-4 최소값\n",
    "\n",
    "데이터프레임에 `min()` 메소드를 적용하면 데이터프레임의 각 열이 갖는 데이터 값 중에서 최소값을 계산하여 시리즈로 반환한다.<br>\n",
    "데이터프레임의 특정 열을 선택하여 계산할 수도 있다.\n",
    "\n",
    "- 모든 열의 최소값: `DataFrame 객체.min()`\n",
    "- 특정 열의 최소값: `DataFrame 객체[\"열 이름\"].min()`\n",
    "\n",
    "아래 예제에서 'horsepower' 열의 경우 '?' 문자와 엔진 마력을 나타내는 숫자 값이 섞여 있는데,<br>\n",
    "숫자 값까지 전부 문자열로 인식되었기 때문에 최소값으로 문자열(100.0)을 반환한다.<br>\n",
    "만일, 'horsepower' 열의 숫자 크기를 비교해야 한다면 '?' 문자를 제거하거나 적절한 숫자로 바꾸고<br>\n",
    "문자열로 지정되어 있는 값을 숫자형 데이터로 변환해야 한다.<br>\n",
    "이처럼 데이터를 제거하거나 자료형을 변환하여 정리하는 과정은 [part 5]에서 자세하게 다룬다."
   ]
  },
  {
   "cell_type": "code",
   "execution_count": 8,
   "metadata": {
    "collapsed": false,
    "jupyter": {
     "outputs_hidden": false
    },
    "pycharm": {
     "name": "#%%\n"
    }
   },
   "outputs": [
    {
     "name": "stdout",
     "output_type": "stream",
     "text": [
      "- 산술 데이터를 가진 7개 열에 대해서 가장 작은 숫자를 찾아 최소값으로 반환\n",
      "문자열 데이터를 가진 'horsepower', 'name' 열에 대해서는 문자열을 ASCII 숫자로 변환하여 크고 작음을 비교\n",
      "mpg                                 9.0\n",
      "cylinders                             3\n",
      "displacement                       68.0\n",
      "horsepower                        100.0\n",
      "weight                           1613.0\n",
      "acceleration                        8.0\n",
      "model year                           70\n",
      "origin                                1\n",
      "name            amc ambassador brougham\n",
      "dtype: object\n",
      "\n",
      "\n",
      "- 'mpg' 열의 최소값 출력\n",
      "9.0\n"
     ]
    }
   ],
   "source": [
    "# 최소값\n",
    "print(\"- 산술 데이터를 가진 7개 열에 대해서 가장 작은 숫자를 찾아 최소값으로 반환\\n\"\n",
    "      \"문자열 데이터를 가진 'horsepower', 'name' 열에 대해서는 문자열을 ASCII 숫자로 변환하여 크고 작음을 비교\")\n",
    "print(df.min())\n",
    "print('\\n')\n",
    "\n",
    "print(\"- 'mpg' 열의 최소값 출력\")\n",
    "print(df['mpg'].min())"
   ]
  },
  {
   "cell_type": "markdown",
   "metadata": {},
   "source": [
    "---\n",
    "\n",
    "## 2-5 표준편차\n",
    "\n",
    "데이터프레임에 `std()` 메소드를 적용하면 산술 데이터를 갖는 열의 표준편차를 계산하여 시리즈로 반환한다.<br>\n",
    "데이터프레임의 특정 열을 선택하여 계산할 수도 있다.\n",
    "\n",
    "- 모든 열의 표준편차: `DataFrame 객체.std()`\n",
    "- 특정 열의 표준편차: `DataFrame 객체[\"열 이름\"].std()`\n"
   ]
  },
  {
   "cell_type": "code",
   "execution_count": 9,
   "metadata": {
    "collapsed": false,
    "jupyter": {
     "outputs_hidden": false
    },
    "pycharm": {
     "name": "#%%\n"
    }
   },
   "outputs": [
    {
     "name": "stdout",
     "output_type": "stream",
     "text": [
      "- 산술 데이터를 가진 7개 열의 표준편차를 시리즈 형태로 반환\n",
      "문자열 데이터를 가진 2개의 열('horsepower', 'name')에 대해서는 계산을 하지 않는다.\n",
      "mpg               7.815984\n",
      "cylinders         1.701004\n",
      "displacement    104.269838\n",
      "weight          846.841774\n",
      "acceleration      2.757689\n",
      "model year        3.697627\n",
      "origin            0.802055\n",
      "dtype: float64\n",
      "\n",
      "\n",
      "- 'mpg' 열의 표준편차 출력\n",
      "7.815984312565782\n"
     ]
    },
    {
     "name": "stderr",
     "output_type": "stream",
     "text": [
      "/var/folders/c7/9g12sj_s5pn6d36sm6m03b5w0000gn/T/ipykernel_26450/555100666.py:4: FutureWarning: Dropping of nuisance columns in DataFrame reductions (with 'numeric_only=None') is deprecated; in a future version this will raise TypeError.  Select only valid columns before calling the reduction.\n",
      "  print(df.std())\n"
     ]
    }
   ],
   "source": [
    "# 표준편차\n",
    "print(\"- 산술 데이터를 가진 7개 열의 표준편차를 시리즈 형태로 반환\\n\"\n",
    "      \"문자열 데이터를 가진 2개의 열('horsepower', 'name')에 대해서는 계산을 하지 않는다.\")\n",
    "print(df.std())\n",
    "print('\\n')\n",
    "\n",
    "print(\"- 'mpg' 열의 표준편차 출력\")\n",
    "print(df['mpg'].std())"
   ]
  },
  {
   "cell_type": "markdown",
   "metadata": {},
   "source": [
    "---\n",
    "\n",
    "## 2-6 상관계수\n",
    "\n",
    "데이터프레임에 `corr()` 메소드를 적용하면 두 열 간의 상관계수를 계산한다.<br>\n",
    "산술 데이터를 갖는 모든 열에 대하여 2개씩 서로 짝을 짓고, 각각의 경우에 대하여 상관계수를 계산한다.\n",
    "\n",
    "- 모든 열의 상관계수: `DataFrame 객체.corr()`\n",
    "- 특정 열의 상관계수: `DataFrame 객체[\"열 이름의 리스트\"].corr()`\n"
   ]
  },
  {
   "cell_type": "code",
   "execution_count": 10,
   "metadata": {
    "collapsed": false,
    "jupyter": {
     "outputs_hidden": false
    },
    "pycharm": {
     "name": "#%%\n"
    }
   },
   "outputs": [
    {
     "name": "stdout",
     "output_type": "stream",
     "text": [
      "- 산술 데이터를 가진 7개 열로 짝을 지을 수 있는 모든 경우의 수를 찾아서 두 열(변수) 사이의 상관계수를 출력\n",
      "문자열 데이터를 가진 2개의 열('horsepower', 'name')은 계산이 불가능하기 때문에 포함하지 않음\n",
      "7개 변수를 각각 행과 열에 위치하여 7개의 행과 7개의 열을 갖는 데이터프레임을 만들고, 각 경우에 대하여 상관계수를 표시\n",
      "                   mpg  cylinders  displacement    weight  acceleration  \\\n",
      "mpg           1.000000  -0.775396     -0.804203 -0.831741      0.420289   \n",
      "cylinders    -0.775396   1.000000      0.950721  0.896017     -0.505419   \n",
      "displacement -0.804203   0.950721      1.000000  0.932824     -0.543684   \n",
      "weight       -0.831741   0.896017      0.932824  1.000000     -0.417457   \n",
      "acceleration  0.420289  -0.505419     -0.543684 -0.417457      1.000000   \n",
      "model year    0.579267  -0.348746     -0.370164 -0.306564      0.288137   \n",
      "origin        0.563450  -0.562543     -0.609409 -0.581024      0.205873   \n",
      "\n",
      "              model year    origin  \n",
      "mpg             0.579267  0.563450  \n",
      "cylinders      -0.348746 -0.562543  \n",
      "displacement   -0.370164 -0.609409  \n",
      "weight         -0.306564 -0.581024  \n",
      "acceleration    0.288137  0.205873  \n",
      "model year      1.000000  0.180662  \n",
      "origin          0.180662  1.000000  \n",
      "\n",
      "\n",
      "- 2개의 열을 따로 선택하여 상관계수를 구하는 것도 가능함\n",
      "             mpg    weight\n",
      "mpg     1.000000 -0.831741\n",
      "weight -0.831741  1.000000\n"
     ]
    }
   ],
   "source": [
    "# 상관계수\n",
    "print(\"- 산술 데이터를 가진 7개 열로 짝을 지을 수 있는 모든 경우의 수를 찾아서 두 열(변수) 사이의 상관계수를 출력\\n\"\n",
    "      \"문자열 데이터를 가진 2개의 열('horsepower', 'name')은 계산이 불가능하기 때문에 포함하지 않음\\n\"\n",
    "      \"7개 변수를 각각 행과 열에 위치하여 7개의 행과 7개의 열을 갖는 데이터프레임을 만들고, 각 경우에 대하여 상관계수를 표시\")\n",
    "print(df.corr())\n",
    "print('\\n')\n",
    "\n",
    "print(\"- 2개의 열을 따로 선택하여 상관계수를 구하는 것도 가능함\")\n",
    "print(df[['mpg', 'weight']].corr())"
   ]
  }
 ],
 "metadata": {
  "kernelspec": {
   "display_name": "Python 3 (ipykernel)",
   "language": "python",
   "name": "python3"
  },
  "language_info": {
   "codemirror_mode": {
    "name": "ipython",
    "version": 3
   },
   "file_extension": ".py",
   "mimetype": "text/x-python",
   "name": "python",
   "nbconvert_exporter": "python",
   "pygments_lexer": "ipython3",
   "version": "3.9.7"
  }
 },
 "nbformat": 4,
 "nbformat_minor": 4
}