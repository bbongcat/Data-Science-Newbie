{
 "cells": [
  {
   "cell_type": "markdown",
   "metadata": {
    "pycharm": {
     "name": "#%% md\n"
    }
   },
   "source": [
    "### - 막대 그래프\n",
    "\n",
    "`plot()` 메소드로 선 그래프가 아닌 다른 종류의 그래프를 그리려면, kind 옵션에 그래프 종류를 지정한다.<br>\n",
    "막대 그래프를 예로 들면, 다음과 같이 `kind=bar` 옵션을 추가하는 방식이다.\n",
    "\n",
    "- 막대 그래프: `DataFrame 객체.plot(kind='bar')`\n",
    "\n",
    "남북한 발전량 데이터셋의 연도 값을 x축으로 바꾸기 위해서 행렬을 전치하여 tdf_ns 데이터프레임을 만들고,<br>\n",
    "`plot()` 메소드에 `kind='bar'` 옵션을 넣어서 막대 그래프를 그린다.<br>\n",
    "선 그래프와 비슷하게 남북한의 발전량 규모와 변화 추이를 한 눈에 알아볼 수 있다."
   ]
  },
  {
   "cell_type": "code",
   "execution_count": 1,
   "metadata": {
    "collapsed": false,
    "jupyter": {
     "outputs_hidden": false
    },
    "pycharm": {
     "name": "#%%\n"
    }
   },
   "outputs": [
    {
     "name": "stdout",
     "output_type": "stream",
     "text": [
      "     South North\n",
      "1991  1186   263\n",
      "1992  1310   247\n",
      "1993  1444   221\n",
      "1994  1650   231\n",
      "1995  1847   230\n",
      "\n",
      "\n"
     ]
    },
    {
     "data": {
      "text/plain": [
       "<AxesSubplot:>"
      ]
     },
     "execution_count": 1,
     "metadata": {},
     "output_type": "execute_result"
    },
    {
     "data": {
      "image/png": "[encoded data removed]",
      "text/plain": [
       "<Figure size 432x288 with 1 Axes>"
      ]
     },
     "metadata": {
      "needs_background": "light"
     },
     "output_type": "display_data"
    }
   ],
   "source": [
    "import pandas as pd\n",
    "\n",
    "df = pd.read_excel('./남북한발전전력량.xlsx', engine= 'openpyxl')   # 데이터프레임 변환\n",
    "\n",
    "df_ns = df.iloc[[0,5], 3:]              # 남한, 북한 발전량 합계 데이터만 추출\n",
    "df_ns.index = ['South', 'North']        # 행 인덱스 변경\n",
    "df_ns.columns = df_ns.columns.map(int)  # 열 이름의 자료형을 정수형으로 변경\n",
    "\n",
    "# 행, 열 전치하여 막대 그래프 그리기\n",
    "tdf_ns = df_ns.T\n",
    "print(tdf_ns.head())\n",
    "print('\\n')\n",
    "tdf_ns.plot(kind='bar')"
   ]
  }
 ],
 "metadata": {
  "kernelspec": {
   "display_name": "Python 3 (ipykernel)",
   "language": "python",
   "name": "python3"
  },
  "language_info": {
   "codemirror_mode": {
    "name": "ipython",
    "version": 3
   },
   "file_extension": ".py",
   "mimetype": "text/x-python",
   "name": "python",
   "nbconvert_exporter": "python",
   "pygments_lexer": "ipython3",
   "version": "3.9.7"
  }
 },
 "nbformat": 4,
 "nbformat_minor": 4
}