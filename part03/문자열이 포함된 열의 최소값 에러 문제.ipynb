{
 "cells": [
  {
   "cell_type": "code",
   "execution_count": 8,
   "metadata": {
    "collapsed": true
   },
   "outputs": [
    {
     "name": "stdout",
     "output_type": "stream",
     "text": [
      "100.0\n",
      "\n",
      "\n",
      "['130.0' '165.0' '150.0' '140.0' '198.0' '220.0' '215.0' '225.0' '190.0'\n",
      " '170.0' '160.0' '95.00' '97.00' '85.00' '88.00' '46.00' '87.00' '90.00'\n",
      " '113.0' '200.0' '210.0' '193.0' '?' '100.0' '105.0' '175.0' '153.0'\n",
      " '180.0' '110.0' '72.00' '86.00' '70.00' '76.00' '65.00' '69.00' '60.00'\n",
      " '80.00' '54.00' '208.0' '155.0' '112.0' '92.00' '145.0' '137.0' '158.0'\n",
      " '167.0' '94.00' '107.0' '230.0' '49.00' '75.00' '91.00' '122.0' '67.00'\n",
      " '83.00' '78.00' '52.00' '61.00' '93.00' '148.0' '129.0' '96.00' '71.00'\n",
      " '98.00' '115.0' '53.00' '81.00' '79.00' '120.0' '152.0' '102.0' '108.0'\n",
      " '68.00' '58.00' '149.0' '89.00' '63.00' '48.00' '66.00' '139.0' '103.0'\n",
      " '125.0' '133.0' '138.0' '135.0' '142.0' '77.00' '62.00' '132.0' '84.00'\n",
      " '64.00' '74.00' '116.0' '82.00']\n",
      "\n",
      "\n",
      "63\n",
      "\n",
      "\n",
      "46.0\n"
     ]
    }
   ],
   "source": [
    "import pandas as pd\n",
    "import numpy as np\n",
    "\n",
    "# read_csv() 함수로 df 생성\n",
    "df = pd.read_csv('./auto-mpg.csv', header=None)\n",
    "\n",
    "# 열 이름 지정\n",
    "df.columns = ['mpg', 'cylinders', 'displacement', 'horsepower', 'weight',\n",
    "              'acceleration', 'model year', 'origin', 'name']\n",
    "print(df.horsepower.min())\n",
    "print('\\n')\n",
    "print(df.horsepower.unique())\n",
    "print('\\n')\n",
    "\n",
    "# ?의 아스키코드는 63\n",
    "print(ord('?'))\n",
    "print('\\n')\n",
    "\n",
    "# horsepower 열의 누락 데이터('?')를 삭제하고 실수형으로 변환\n",
    "df['horsepower'].replace('?', np.nan, inplace=True)  # '?'을 np.nan으로 변경\n",
    "df.dropna(subset=['horsepower'], axis=0, inplace=True)  # 누락 데이터 행 삭제\n",
    "df['horsepower'] = df['horsepower'].astype('float')  # 문자열을 실수형으로 변환\n",
    "\n",
    "# 문자열 데이터를 제거하면 최소값이 46.0으로 제대로 출력되는 것을 볼 수 있음\n",
    "print(df.horsepower.min())"
   ]
  },
  {
   "cell_type": "code",
   "execution_count": 21,
   "outputs": [
    {
     "name": "stdout",
     "output_type": "stream",
     "text": [
      "      a    b      c     d     e\n",
      "0     ?    ?  10000  1001    01\n",
      "1     3   01    101     ?    99\n",
      "2  1111  001      ?    30     !\n",
      "3   111    ?      ?  1000  9999\n",
      "\n",
      "\n",
      "a    object\n",
      "b    object\n",
      "c    object\n",
      "d    object\n",
      "e    object\n",
      "dtype: object\n",
      "\n",
      "\n",
      "a      111\n",
      "b      001\n",
      "c    10000\n",
      "d     1000\n",
      "e        !\n",
      "dtype: object\n",
      "\n",
      "\n"
     ]
    }
   ],
   "source": [
    "## 문자열로 구성된 데이터프레임 열의 최소값은 누락 데이터의 바로 다음 값으로 출력되는가?\n",
    "\n",
    "# 문자열로 구성된 데이터프레임 생성\n",
    "exam_data = {'a': ['?', '3', '1111', '111'],\n",
    "             'b': ['?', '01', '001', '?'],\n",
    "             'c': ['10000', '101', '?', '?'],\n",
    "             'd': ['1001', '?', '30', '1000'],\n",
    "             'e': ['11', '8', '!', '9999']}\n",
    "df2 = pd.DataFrame(exam_data)\n",
    "print(df2)\n",
    "print('\\n')\n",
    "print(df2.dtypes)\n",
    "print('\\n')\n",
    "\n",
    "# 최소값 출력\n",
    "print(df2.min())\n",
    "print('\\n')\n",
    "\n",
    "# e행의 경우 !의 아스키코드가 33이므로 가설대로라면 11이 출력되어야 하지만\n",
    "# 값을 어떻게 바꿔도 !가 출력됨\n"
   ],
   "metadata": {
    "collapsed": false,
    "pycharm": {
     "name": "#%%\n"
    }
   }
  },
  {
   "cell_type": "markdown",
   "source": [
    "---\n",
    "\n",
    "## [결론]\n",
    "\n",
    "horsepower 열의 '?' 값 바로 다음 데이터가 100.0이므로\n",
    "문자열 바로 다음에 오는 데이터가 최소값으로 선택된다는 가정을 했으나<br>\n",
    "예제의 결과를 보면 문자열의 위치나 개수와 상관 없이 최소값이 출력되는 것을 볼 수 있다.\n",
    "<br><br>\n",
    "문자열이 포함된 열의 최소값 선택 규칙은 다음과 같다.\n",
    "\n",
    "    1. 제일 앞자리가 가장 작은 수 (100 < 3, 33 < 8)\n",
    "    2. 그 중에서 가장 크기가 작은 수 (100 < 101)\n",
    "    3. 같은 앞자리를 가졌다면 그 다음 자리까지 비교 (10000 < 101, 001 < 01)\n",
    "\n"
   ],
   "metadata": {
    "collapsed": false,
    "pycharm": {
     "name": "#%% md\n"
    }
   }
  }
 ],
 "metadata": {
  "kernelspec": {
   "display_name": "Python 3",
   "language": "python",
   "name": "python3"
  },
  "language_info": {
   "codemirror_mode": {
    "name": "ipython",
    "version": 2
   },
   "file_extension": ".py",
   "mimetype": "text/x-python",
   "name": "python",
   "nbconvert_exporter": "python",
   "pygments_lexer": "ipython2",
   "version": "2.7.6"
  }
 },
 "nbformat": 4,
 "nbformat_minor": 0
}