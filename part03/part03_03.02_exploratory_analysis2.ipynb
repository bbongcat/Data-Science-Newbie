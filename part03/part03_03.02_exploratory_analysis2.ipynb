{
 "cells": [
  {
   "cell_type": "markdown",
   "metadata": {
    "pycharm": {
     "name": "#%% md\n"
    }
   },
   "source": [
    "## 1-3 데이터 개수 확인\n",
    "\n",
    "### - 각 열의 데이터 개수\n",
    "\n",
    "`info()` 메소드는 화면에 각 열의 데이터 개수 정보를 출력하지만 반환해 주는 값이 없어서 다시 사용하는데 어려움이 있다.<br>\n",
    "반면 `count()` 메소드는 데이터프레임의 각 열이 가지고 있는 데이터 개수를 시리즈 객체로 반환한다.<br>\n",
    "단, 유효한 값의 개수만을 계산하는 점에 유의한다.\n",
    "\n",
    "- 열 데이터 개수 확인: `DataFrame 객체.count()`\n",
    "\n",
    "다음의 예제에서 `count()` 메소드를 통해 데이터프레임 df의 각 열의 데이터 개수를 시리즈 객체로 출력한다.<br>\n",
    "각 열의 이름이 왼쪽에 표시되고, 각 열의 데이터 개수가 오른쪽에 표시된다."
   ]
  },
  {
   "cell_type": "code",
   "execution_count": 1,
   "metadata": {
    "collapsed": false,
    "jupyter": {
     "outputs_hidden": false
    },
    "pycharm": {
     "name": "#%%\n"
    }
   },
   "outputs": [
    {
     "name": "stdout",
     "output_type": "stream",
     "text": [
      "mpg             398\n",
      "cylinders       398\n",
      "displacement    398\n",
      "horsepower      398\n",
      "weight          398\n",
      "acceleration    398\n",
      "model year      398\n",
      "origin          398\n",
      "name            398\n",
      "dtype: int64\n",
      "\n",
      "\n",
      "<class 'pandas.core.series.Series'>\n"
     ]
    }
   ],
   "source": [
    "import pandas as pd\n",
    "\n",
    "# read_csv() 함수로 df 생성\n",
    "df = pd.read_csv('./auto-mpg.csv', header=None)\n",
    "\n",
    "# 열 이름 지정\n",
    "df.columns = ['mpg','cylinders','displacement','horsepower','weight',\n",
    "              'acceleration','model year','origin','name']\n",
    "\n",
    "# 데이터프레임 df의 각 열이 가지고 있는 원소 개수 확인\n",
    "print(df.count())\n",
    "print('\\n')\n",
    "\n",
    "# df.count()가 반환하는 객체 타입 출력\n",
    "print(type(df.count()))"
   ]
  },
  {
   "cell_type": "markdown",
   "metadata": {
    "pycharm": {
     "name": "#%% md\n"
    }
   },
   "source": [
    "---\n",
    "\n",
    "### - 각 열의 고유값 개수\n",
    "\n",
    "`value_counts()` 메소드는 시리즈 객체의 고유값(unique value) 개수를 세는 데 사용한다.<br>\n",
    "데이터프레임의 열은 시리즈이므로, `value_counts()` 메소드로 각 열의 고유값의 종류와 개수를 확인할 수 있다.<br>\n",
    "고유값이 행 인덱스가 되고, 고유값의 개수가 데이터값이 되는 시리즈 객체가 만들어진다.<br>\n",
    "`dropna=True` 옵션을 설정하면 데이터 값 중에서 NaN을 제외하고 개수를 계산한다.<br>\n",
    "옵션을 따로 지정하지 않으면 `dropna=False` 옵션이 기본 적용된다. 이때는 NaN이 포함된다.\n",
    "\n",
    "- 열 데이터의 고유값 개수: `DataFrame 객체[\"열 이름\"].value_counts()`\n",
    "\n",
    "`value_counts()` 메소드를 'origin' 열에 적용하여 고유값의 종류와 개수를 확인한다.<br>\n",
    "'origin' 열은 제조국가 데이터를 저장하고 있다. 미국을 나타내는 고유값 1은 249개, 유럽을 나타내는 고유값 2는 70개,\n",
    "일본을 나타내는 고유값 3은 79개로 확인된다."
   ]
  },
  {
   "cell_type": "code",
   "execution_count": 2,
   "metadata": {
    "collapsed": false,
    "jupyter": {
     "outputs_hidden": false
    },
    "pycharm": {
     "name": "#%%\n"
    }
   },
   "outputs": [
    {
     "name": "stdout",
     "output_type": "stream",
     "text": [
      "1    249\n",
      "3     79\n",
      "2     70\n",
      "Name: origin, dtype: int64\n",
      "\n",
      "\n",
      "<class 'pandas.core.series.Series'>\n"
     ]
    }
   ],
   "source": [
    "# 데이터프레임 df의 특정 열이 가지고 있는 고유값 확인\n",
    "unique_value = df['origin'].value_counts()\n",
    "print(unique_value)\n",
    "print('\\n')\n",
    "\n",
    "# value_counts 메소드가 반환하는 객체 타입 출력\n",
    "print(type(unique_value))"
   ]
  }
 ],
 "metadata": {
  "kernelspec": {
   "display_name": "Python 3 (ipykernel)",
   "language": "python",
   "name": "python3"
  },
  "language_info": {
   "codemirror_mode": {
    "name": "ipython",
    "version": 3
   },
   "file_extension": ".py",
   "mimetype": "text/x-python",
   "name": "python",
   "nbconvert_exporter": "python",
   "pygments_lexer": "ipython3",
   "version": "3.9.7"
  }
 },
 "nbformat": 4,
 "nbformat_minor": 4
}