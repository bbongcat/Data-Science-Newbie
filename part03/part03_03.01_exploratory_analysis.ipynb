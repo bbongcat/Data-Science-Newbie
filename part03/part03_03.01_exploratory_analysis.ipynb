{
 "cells": [
  {
   "cell_type": "markdown",
   "metadata": {
    "pycharm": {
     "name": "#%% md\n"
    }
   },
   "source": [
    "# 1. 데이터프레임의 구조\n",
    "\n",
    "UCI 머신러닝 저장소에서 제공하는 자동차 연비(auto mpg) 데이터셋을 사용한다.<br>\n",
    "이 데이터셋은 연비, 실린더 수, 배기량, 출력, 차중, 가속능력, 출시년도, 제조국, 모델명에 관한 데이터 398개로 구성된다.<br>\n",
    "데이터셋 URL에 접속하여 직접 다운로드 받을 수도 있지만, 예제에서는 자료실의 CSV 파일을 다운로드 받아서 사용하는 것을 가정한다.\n",
    "\n",
    "No. | 속성(attributes) | - | 데이터 상세(범위)\n",
    "--|--|--|--\n",
    "1 | mpg | 연비 | 연속 값\n",
    "2 | cylinders | 실린더 수 | 이산 값 (예: 3, 4, 6, 8)\n",
    "3 | displacement | 배기량 | 연속 값\n",
    "4 | horsepower | 출력 | 연속 값\n",
    "5 | weight | 차중 | 연속 값\n",
    "6 | acceleration | 가속능력 | 연속 값\n",
    "7 | model_year | 출시년도 | 이산 값 (예: 70, 71, 80, 81)\n",
    "8 | origin | 제조국 | 이산 값 (예: 1(USA), 2(EU), 3(JPN))\n",
    "9 | name | 모델명 | 문자열\n",
    "\n",
    "데이터프레임은 파이썬 클래스로 만들어진다. 데이터프레임 클래스에는 데이터프레임의 크기, 데이터 구성 항목, 자료형, 통계 수치 등\n",
    "여러 정보를 확인할 수 있는 속성과 메소드가 포함된다.\n",
    "\n",
    "## 1-1 데이터 내용 미리보기\n",
    "\n",
    "데이터프레임으로 정리된 데이터셋을 처음 접할 때 가장 먼저 실행하는 판다스 명령은 `head()` 메소드일 가능성이 높다.<br>\n",
    "`head()` 메소드는 데이터프레임의 앞부분 일부 내용을 출력한다.<br>\n",
    "데이터셋의 내용과 구조를 개략적으로 살펴볼 수 있기 때문에 분석 방향을 정하는데 필요한 정보를 얻을 수 있다.<br>\n",
    "또한 데이터프레임이 너무 커서 한 화면에 출력하기 어려울 때 사용해도 좋다.<br>\n",
    "한편 데이터프레임의 마지막 부분의 내용을 보고 싶다면, `tail()` 메소드를 사용한다.\n",
    "<br><br>\n",
    "`head()` 메소드 인자로 정수 n을 전달하면 처음 n개의 행을 보여준다.<br>\n",
    "반면 `tail()` 메소드에 정수 n을 입력하면 마지막 n개의 행을 보여준다.<br>\n",
    "한편 정수 n을 입력하지 않고 `head()`와 같이 입력하면 처음 또는 마지막 5개 행을 보여준다. (디폴트값: n=5)\n",
    "\n",
    "- 앞부분 미리보기: `DataFrame 객체.head(n)`\n",
    "- 뒷부분 미리보기: `DataFrame 객체.tail(n)`\n",
    "\n",
    "다음의 예제는 자료실에서 다운로드한 CSV 파일을 `read_csv()` 함수로 읽은 뒤 데이터프레임의 내용을 살펴보는 과정을 설명한다.<br>\n",
    "내용을 살펴보기 전에 `df.columns` 속성을 이용하여 열 이름의 배열을 데이터셋의 자료 순서에 맞춰 지정한다.<br>\n",
    "그리고 데이터프레임에 `head()` 메소드와 `tail()` 메소드를 적용하여 첫 5행과 마지막 5행을 출력하고 내용과 구조를 살펴보자.\n",
    "모두 9개의 열로 구성되어 있다."
   ]
  },
  {
   "cell_type": "code",
   "execution_count": 1,
   "metadata": {
    "collapsed": false,
    "jupyter": {
     "outputs_hidden": false
    },
    "pycharm": {
     "name": "#%%\n"
    }
   },
   "outputs": [
    {
     "name": "stdout",
     "output_type": "stream",
     "text": [
      "    mpg  cylinders  displacement horsepower  weight  acceleration  model year  \\\n",
      "0  18.0          8         307.0      130.0  3504.0          12.0          70   \n",
      "1  15.0          8         350.0      165.0  3693.0          11.5          70   \n",
      "2  18.0          8         318.0      150.0  3436.0          11.0          70   \n",
      "3  16.0          8         304.0      150.0  3433.0          12.0          70   \n",
      "4  17.0          8         302.0      140.0  3449.0          10.5          70   \n",
      "\n",
      "   origin                       name  \n",
      "0       1  chevrolet chevelle malibu  \n",
      "1       1          buick skylark 320  \n",
      "2       1         plymouth satellite  \n",
      "3       1              amc rebel sst  \n",
      "4       1                ford torino  \n",
      "\n",
      "\n",
      "      mpg  cylinders  displacement horsepower  weight  acceleration  \\\n",
      "393  27.0          4         140.0      86.00  2790.0          15.6   \n",
      "394  44.0          4          97.0      52.00  2130.0          24.6   \n",
      "395  32.0          4         135.0      84.00  2295.0          11.6   \n",
      "396  28.0          4         120.0      79.00  2625.0          18.6   \n",
      "397  31.0          4         119.0      82.00  2720.0          19.4   \n",
      "\n",
      "     model year  origin             name  \n",
      "393          82       1  ford mustang gl  \n",
      "394          82       2        vw pickup  \n",
      "395          82       1    dodge rampage  \n",
      "396          82       1      ford ranger  \n",
      "397          82       1       chevy s-10  \n"
     ]
    }
   ],
   "source": [
    "import pandas as pd\n",
    "\n",
    "# read_csv() 함수로 df 생성\n",
    "df = pd.read_csv('./auto-mpg.csv', header=None)\n",
    "\n",
    "# 열 이름 지정\n",
    "df.columns = ['mpg','cylinders','displacement','horsepower','weight',\n",
    "              'acceleration','model year','origin','name']\n",
    "\n",
    "# 데이터프레임 df의 내용을 일부 확인\n",
    "print(df.head())        # 처음 5개 행\n",
    "print('\\n')\n",
    "print(df.tail())        # 마지막 5개 행"
   ]
  },
  {
   "cell_type": "markdown",
   "metadata": {
    "pycharm": {
     "name": "#%% md\n"
    }
   },
   "source": [
    "---\n",
    "\n",
    "## 1-2 데이터 요약 정보 확인하기\n",
    "\n",
    "### - 데이터프레임의 크기(행, 열)\n",
    "\n",
    "데이터프레임 클래스의 shape 속성은 행과 열의 개수를 튜플 형태로 보여준다.<br>\n",
    "예제에서 변수 df에 저장된 데이터프레임의 크기(행의 개수, 열의 개수)를 확인하려면 df.shape라고 입력한다.\n",
    "\n",
    "- 데이터프레임의 크기 확인: `DataFrame 객체.shape`"
   ]
  },
  {
   "cell_type": "code",
   "execution_count": 5,
   "metadata": {
    "collapsed": false,
    "jupyter": {
     "outputs_hidden": false
    },
    "pycharm": {
     "name": "#%%\n"
    }
   },
   "outputs": [
    {
     "name": "stdout",
     "output_type": "stream",
     "text": [
      "(398, 9)\n"
     ]
    }
   ],
   "source": [
    "# df의 모양과 크기 확인: (행의 개수, 열의 개수)를 튜플로 반환\n",
    "print(df.shape)"
   ]
  },
  {
   "cell_type": "markdown",
   "metadata": {
    "pycharm": {
     "name": "#%% md\n"
    }
   },
   "source": [
    "---\n",
    "\n",
    "데이터프레임의 크기를 출력하면 (398, 9)와 같이 튜플 형태로 행과 열의 개수를 보여준다.<br>\n",
    "따라서 UCI 자동차 연비 데이터셋은 398개의 행과 9개의 열로 만들어진 것을 알 수 있다."
   ]
  },
  {
   "cell_type": "markdown",
   "metadata": {},
   "source": [
    "### - 데이터프레임의 기본 정보\n",
    "\n",
    "`info()` 메소드를 데이터프레임에 적용하면 데이터프레임에 관한 기본 정보를 화면에 출력한다.<br>\n",
    "클래스 유형, 행 인덱스의 구성, 열 이름의 종류와 개수, 각 열의 자료형과 개수, 메모리 할당량에 관한 정보가 포함된다.<br>\n",
    "데이터프레임 df의 기본 정보를 확인하는 명령은 `df.info()`이다.\n",
    "\n",
    "- 데이터프레임의 기본 정보 출력: `DataFrame 객체.info()`"
   ]
  },
  {
   "cell_type": "code",
   "execution_count": 4,
   "metadata": {
    "collapsed": false,
    "jupyter": {
     "outputs_hidden": false
    },
    "pycharm": {
     "name": "#%%\n"
    }
   },
   "outputs": [
    {
     "name": "stdout",
     "output_type": "stream",
     "text": [
      "<class 'pandas.core.frame.DataFrame'>\n",
      "RangeIndex: 398 entries, 0 to 397\n",
      "Data columns (total 9 columns):\n",
      " #   Column        Non-Null Count  Dtype  \n",
      "---  ------        --------------  -----  \n",
      " 0   mpg           398 non-null    float64\n",
      " 1   cylinders     398 non-null    int64  \n",
      " 2   displacement  398 non-null    float64\n",
      " 3   horsepower    398 non-null    object \n",
      " 4   weight        398 non-null    float64\n",
      " 5   acceleration  398 non-null    float64\n",
      " 6   model year    398 non-null    int64  \n",
      " 7   origin        398 non-null    int64  \n",
      " 8   name          398 non-null    object \n",
      "dtypes: float64(4), int64(3), object(2)\n",
      "memory usage: 28.1+ KB\n",
      "None\n"
     ]
    }
   ],
   "source": [
    "# 데이터프레임 df의 내용 확인\n",
    "print(df.info())"
   ]
  },
  {
   "cell_type": "markdown",
   "metadata": {
    "pycharm": {
     "name": "#%% md\n"
    }
   },
   "source": [
    "---\n",
    "\n",
    "첫 행에 데이터프레임 df의 클래스 유형인 'pandas.core.frame.DataFrame'이 출력된다.<br>\n",
    "398개의 행 인덱스(0~397)와 9개의 열에 관한 정보가 있다. 이어서 각 열의 이름과 데이터 개수, 자료형이 출력된다.<br>\n",
    "다음으로 자료형(실수형 4개, 정수형 3개, 문자열 2개)과 메모리 사용량(24.9KB)이 표시된다."
   ]
  },
  {
   "cell_type": "markdown",
   "metadata": {},
   "source": [
    "---\n",
    "---\n",
    "\n",
    "- 판다스 자료형(data type)\n",
    "\n",
    "판다스는 NumPy를 기반으로 만들어졌기 때문에 NumPy에서 사용하는 자료형을 기본적으로 사용할 수 있다.<br>\n",
    "파이썬의 기본 자료형과 비슷하지만 시간을 나타내는 datetime64와 같은 자료형이 있다는 점에서 일부 차이가 있다.\n",
    "<br><br>\n",
    "\n",
    "판다스 자료형 | 파이썬 자료형 | 비고\n",
    "--|--|--\n",
    "int64 | int | 정수형 데이터\n",
    "float64 | float | 실수형 데이터(소수점이 있는 수)\n",
    "object | string | 문자열 데이터\n",
    "datetime64, timedelta64 | 없음(datetime 라이브러리 활용) | 시간 데이터\n",
    "\n",
    "앞에서 살펴본 info() 메소드 외 데이터프레임 클래스의 dtypes 속성을 활용하여 각 열의 자료형을 확인할 수 있다.<br>\n",
    "특정 열만 선택하여 적용하는 것도 가능하다."
   ]
  },
  {
   "cell_type": "code",
   "execution_count": null,
   "metadata": {
    "collapsed": false,
    "jupyter": {
     "outputs_hidden": false
    },
    "pycharm": {
     "name": "#%%\n"
    }
   },
   "outputs": [],
   "source": [
    "# 데이터프레임 df의 자료형 확인\n",
    "print(df.dtypes)\n",
    "print('\\n')\n",
    "\n",
    "# 시리즈(mpg 열)의 자료형 확인\n",
    "print(df.mpg.dtypes)"
   ]
  },
  {
   "cell_type": "markdown",
   "metadata": {
    "pycharm": {
     "name": "#%% md\n"
    }
   },
   "source": [
    "---\n",
    "\n",
    "### - 데이터프레임의 기술 통계 정보 요약\n",
    "\n",
    "데이터프레임에 `describe()` 메소드를 적용하면,\n",
    "산술(숫자) 데이터를 갖는 열에 대한 주요 기술 통계 정보(평균, 표준편차, 최대값, 최소값, 중간값 등)를 요약하여 출력한다.\n",
    "\n",
    "- 데이터프레임의 기술 통계 정보 요약: `DataFrame 객체.describe()`\n",
    "\n",
    "산술 데이터가 아닌 열에 대한 정보를 포함하고 싶을 때는, `include='all'` 옵션을 추가한다.<br>\n",
    "다음 예제의 실행 결과를 보면, 문자열 데이터가 들어 있는 'name' 열의 unique(고유값 개수), top(최빈값), freq(빈도수)에 대한 정보가 추가된다.<br>\n",
    "하지만 산술 데이터를 가진 열에 대해서는 앞의 3가지 추가되는 항목에 유효한 값이 없다는 뜻을 가진 NaN이 표시된다."
   ]
  },
  {
   "cell_type": "code",
   "execution_count": 8,
   "metadata": {
    "collapsed": false,
    "jupyter": {
     "outputs_hidden": false
    },
    "pycharm": {
     "name": "#%%\n"
    }
   },
   "outputs": [
    {
     "name": "stdout",
     "output_type": "stream",
     "text": [
      "              mpg   cylinders  displacement       weight  acceleration  \\\n",
      "count  398.000000  398.000000    398.000000   398.000000    398.000000   \n",
      "mean    23.514573    5.454774    193.425879  2970.424623     15.568090   \n",
      "std      7.815984    1.701004    104.269838   846.841774      2.757689   \n",
      "min      9.000000    3.000000     68.000000  1613.000000      8.000000   \n",
      "25%     17.500000    4.000000    104.250000  2223.750000     13.825000   \n",
      "50%     23.000000    4.000000    148.500000  2803.500000     15.500000   \n",
      "75%     29.000000    8.000000    262.000000  3608.000000     17.175000   \n",
      "max     46.600000    8.000000    455.000000  5140.000000     24.800000   \n",
      "\n",
      "       model year      origin  \n",
      "count  398.000000  398.000000  \n",
      "mean    76.010050    1.572864  \n",
      "std      3.697627    0.802055  \n",
      "min     70.000000    1.000000  \n",
      "25%     73.000000    1.000000  \n",
      "50%     76.000000    1.000000  \n",
      "75%     79.000000    2.000000  \n",
      "max     82.000000    3.000000  \n",
      "\n",
      "\n",
      "               mpg   cylinders  displacement horsepower       weight  \\\n",
      "count   398.000000  398.000000    398.000000        398   398.000000   \n",
      "unique         NaN         NaN           NaN         94          NaN   \n",
      "top            NaN         NaN           NaN      150.0          NaN   \n",
      "freq           NaN         NaN           NaN         22          NaN   \n",
      "mean     23.514573    5.454774    193.425879        NaN  2970.424623   \n",
      "std       7.815984    1.701004    104.269838        NaN   846.841774   \n",
      "min       9.000000    3.000000     68.000000        NaN  1613.000000   \n",
      "25%      17.500000    4.000000    104.250000        NaN  2223.750000   \n",
      "50%      23.000000    4.000000    148.500000        NaN  2803.500000   \n",
      "75%      29.000000    8.000000    262.000000        NaN  3608.000000   \n",
      "max      46.600000    8.000000    455.000000        NaN  5140.000000   \n",
      "\n",
      "        acceleration  model year      origin        name  \n",
      "count     398.000000  398.000000  398.000000         398  \n",
      "unique           NaN         NaN         NaN         305  \n",
      "top              NaN         NaN         NaN  ford pinto  \n",
      "freq             NaN         NaN         NaN           6  \n",
      "mean       15.568090   76.010050    1.572864         NaN  \n",
      "std         2.757689    3.697627    0.802055         NaN  \n",
      "min         8.000000   70.000000    1.000000         NaN  \n",
      "25%        13.825000   73.000000    1.000000         NaN  \n",
      "50%        15.500000   76.000000    1.000000         NaN  \n",
      "75%        17.175000   79.000000    2.000000         NaN  \n",
      "max        24.800000   82.000000    3.000000         NaN  \n"
     ]
    }
   ],
   "source": [
    "# 데이터프레임 df의 기술 통계 정보 확인\n",
    "print(df.describe())\n",
    "print('\\n')\n",
    "print(df.describe(include='all'))"
   ]
  }
 ],
 "metadata": {
  "kernelspec": {
   "display_name": "Python 3 (ipykernel)",
   "language": "python",
   "name": "python3"
  },
  "language_info": {
   "codemirror_mode": {
    "name": "ipython",
    "version": 3
   },
   "file_extension": ".py",
   "mimetype": "text/x-python",
   "name": "python",
   "nbconvert_exporter": "python",
   "pygments_lexer": "ipython3",
   "version": "3.9.7"
  }
 },
 "nbformat": 4,
 "nbformat_minor": 4
}