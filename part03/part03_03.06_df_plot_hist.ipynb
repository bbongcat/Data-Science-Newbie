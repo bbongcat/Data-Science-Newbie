{
 "cells": [
  {
   "cell_type": "markdown",
   "metadata": {
    "pycharm": {
     "name": "#%% md\n"
    }
   },
   "source": [
    "### - 히스토그램\n",
    "\n",
    "이번에는 남북한 발전량에 관한 히스토그램을 그린다.<br>\n",
    "`plot()` 메소드에 `kind='hist'` 옵션을 넣는다.\n",
    "\n",
    "- 히스토그램: `DataFrame 객체.plot(kind='hist')\n",
    "\n",
    "히스토그램의 x축은 발전량을 일정한 간격을 갖는 여러 구간으로 나눈 것이고,<br>\n",
    "y축은 연간 발전량이 x축에서 나눈 발전량 구간에 속하는 연도의 수를 빈도로 나타낸 것이다.<br>\n",
    "북한의 경우 지난 26년 동안 줄곧 800 미만의 발전량을 기록한 것을 데이터로 확인할 수 있다."
   ]
  },
  {
   "cell_type": "code",
   "execution_count": 1,
   "metadata": {
    "collapsed": false,
    "jupyter": {
     "outputs_hidden": false
    },
    "pycharm": {
     "name": "#%%\n"
    }
   },
   "outputs": [
    {
     "data": {
      "text/plain": [
       "<AxesSubplot:ylabel='Frequency'>"
      ]
     },
     "execution_count": 1,
     "metadata": {},
     "output_type": "execute_result"
    },
    {
     "data": {
      "image/png": "[encoded data removed]",
      "text/plain": [
       "<Figure size 432x288 with 1 Axes>"
      ]
     },
     "metadata": {
      "needs_background": "light"
     },
     "output_type": "display_data"
    }
   ],
   "source": [
    "import pandas as pd\n",
    "\n",
    "df = pd.read_excel('./남북한발전전력량.xlsx', engine= 'openpyxl')   # 데이터프레임 환환\n",
    "\n",
    "df_ns = df.iloc[[0,5], 3:]              # 남한, 북한 발전량 합계 데이터만 추출\n",
    "df_ns.index = ['South', 'North']        # 행 인덱스 변경\n",
    "df_ns.columns = df_ns.columns.map(int)  # 열 이름의 자료형을 정수형으로 변경\n",
    "\n",
    "# 행, 열 전치하여 히스토그램 그리기\n",
    "tdf_ns = df_ns.T\n",
    "tdf_ns.plot(kind='hist')"
   ]
  }
 ],
 "metadata": {
  "kernelspec": {
   "display_name": "Python 3 (ipykernel)",
   "language": "python",
   "name": "python3"
  },
  "language_info": {
   "codemirror_mode": {
    "name": "ipython",
    "version": 3
   },
   "file_extension": ".py",
   "mimetype": "text/x-python",
   "name": "python",
   "nbconvert_exporter": "python",
   "pygments_lexer": "ipython3",
   "version": "3.9.7"
  }
 },
 "nbformat": 4,
 "nbformat_minor": 4
}