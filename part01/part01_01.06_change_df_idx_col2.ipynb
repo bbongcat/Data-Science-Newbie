{
 "cells": [
  {
   "cell_type": "markdown",
   "metadata": {},
   "source": [
    "데이터프레임에 `rename()` 메소드를 사용하면 행 인덱스 또는 열 이름의 일부를 선택하여 변경할 수 있다.<br>\n",
    "단, 원본 객체를 직접 수정하는 것이 아니라 *새로운 데이터프레임 객체를 반환* 하는 점에 유의한다.<br>\n",
    "원본 객체를 변경하려면 `inplace=True` 옵션을 사용한다.\n",
    "\n",
    "- 행 인덱스 변경: `DataFrame 객체.rename(index={기존 인덱스:새 인덱스, ...})`\n",
    "- 열 이름 변경: `DataFrame 객체.rename(columns={기존 이름:새 이름, ...})`\n",
    "\n",
    "다음의 예제에서 rename() 메소드를 적용하여, df의 열 이름을 ['나이', '성별', '학교']에서\n",
    "['연령', '남녀', '소속']으로 변경한다.<br>\n",
    "행 인덱스는 ['준서', '예은']에서 ['학생1', '학생2']로 변경한다."
   ]
  },
  {
   "cell_type": "code",
   "execution_count": 1,
   "metadata": {
    "collapsed": false,
    "jupyter": {
     "outputs_hidden": false
    },
    "pycharm": {
     "name": "#%%\n"
    }
   },
   "outputs": [
    {
     "name": "stdout",
     "output_type": "stream",
     "text": [
      "    나이 성별   학교\n",
      "준서  15  남  덕영중\n",
      "예은  17  여  수리중\n",
      "\n",
      "\n",
      "     연령 남녀   소속\n",
      "학생1  15  남  덕영중\n",
      "학생2  17  여  수리중\n"
     ]
    }
   ],
   "source": [
    "import pandas as pd\n",
    "\n",
    "# 행 인덱스 / 열 이름 지정하여 데이터프레임 만들기\n",
    "\n",
    "df = pd.DataFrame([[15, '남', '덕영중'], [17, '여', '수리중']],\n",
    "                  index=['준서', '예은'],\n",
    "                  columns=['나이', '성별', '학교'])\n",
    "\n",
    "# 데이터프레임 df 출력\n",
    "print(df)\n",
    "print('\\n')\n",
    "\n",
    "# 열 이름 중, '나이'를 '연령'으로, '성별'을 '남녀'로, '학교'를 '소속'으로 바꾸기\n",
    "df.rename(columns={'나이': '연령', '성별': '남녀', '학교': '소속'}, inplace=True)\n",
    "\n",
    "# df의 행 인덱스 중에서, '준서'를 '학생1'로, '예은'을 '학생2'로 바꾸기\n",
    "df.rename(index={'준서': '학생1', '예은': '학생2'}, inplace=True)\n",
    "\n",
    "# df 출력 (변경 후)\n",
    "print(df)\n",
    "\n"
   ]
  }
 ],
 "metadata": {
  "kernelspec": {
   "display_name": "Python 3 (ipykernel)",
   "language": "python",
   "name": "python3"
  },
  "language_info": {
   "codemirror_mode": {
    "name": "ipython",
    "version": 3
   },
   "file_extension": ".py",
   "mimetype": "text/x-python",
   "name": "python",
   "nbconvert_exporter": "python",
   "pygments_lexer": "ipython3",
   "version": "3.9.7"
  }
 },
 "nbformat": 4,
 "nbformat_minor": 4
}