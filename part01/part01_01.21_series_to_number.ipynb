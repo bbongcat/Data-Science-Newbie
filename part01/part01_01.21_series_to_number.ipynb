{
 "cells": [
  {
   "cell_type": "markdown",
   "metadata": {
    "pycharm": {
     "name": "#%% md\n"
    }
   },
   "source": [
    "# 산술연산\n",
    "\n",
    "판다스 객체의 산술연산은 내부적으로 3단계 프로세스를 거친다.<br><br>\n",
    "1) 행/열 인덱스를 기준으로 모든 원소를 정렬한다.<br>\n",
    "2) 동일한 위치에 있는 원소끼리 일대일로 대응시킨다.<br>\n",
    "3) 일대일 대응이 되는 원소끼리 연산을 처리한다. 단, 이때 대응되는 원소가 없으면 NaN으로 처리한다.<br>\n",
    "\n",
    "## [ 시리즈 연산]\n",
    "\n",
    "### - 시리즈 vs 숫자\n",
    "\n",
    "시리즈 객체에 어떤 숫자를 더하면 시리즈의 개별 원소에 각각 숫자를 더하고 계산한 결과를 시리즈 객체로 반환한다.<br>\n",
    "덧셈, 뺄셈, 곱셈, 나눗셈 모두 가능하다. 다음의 예제에서는 시리즈 객체의 각 원소를 200으로 나누는 과정을 살펴보자.\n",
    "\n",
    "- 시리즈와 숫자 연산: `Series객체 + 연산자(+,-,*,/) + 숫자`\n"
   ]
  },
  {
   "cell_type": "code",
   "execution_count": 1,
   "metadata": {
    "collapsed": false,
    "jupyter": {
     "outputs_hidden": false
    },
    "pycharm": {
     "name": "#%%\n"
    }
   },
   "outputs": [
    {
     "name": "stdout",
     "output_type": "stream",
     "text": [
      "국어    100\n",
      "영어     80\n",
      "수학     90\n",
      "dtype: int64\n",
      "\n",
      "\n",
      "국어    0.50\n",
      "영어    0.40\n",
      "수학    0.45\n",
      "dtype: float64\n",
      "\n",
      "\n",
      "<class 'pandas.core.series.Series'>\n"
     ]
    }
   ],
   "source": [
    "import pandas as pd\n",
    "\n",
    "# 딕셔너리 데이터로 판다스 시리즈 만들기\n",
    "student1 = pd.Series({'국어': 100, '영어': 80, '수학': 90})\n",
    "print(student1)\n",
    "print('\\n')\n",
    "\n",
    "# 학생의 과목별 점수를 200으로 나누기\n",
    "percentage = student1/200\n",
    "\n",
    "print(percentage)\n",
    "print('\\n')\n",
    "print(type(percentage))\n"
   ]
  },
  {
   "cell_type": "markdown",
   "metadata": {
    "pycharm": {
     "name": "#%% md\n"
    }
   },
   "source": [
    "---\n",
    "\n",
    "국어 점수 100점을 200으로 나누면 0.50으로 변환된다. 영어 80점은 0.40이 되고, 수학 90점은 0.45가 된다.<br>\n",
    "연산 결과를 원래 인덱스와 동일한 '국어', '영어', '수학' 인덱스에 순서대로 매칭하여 시리즈를 반환한다.\n"
   ]
  }
 ],
 "metadata": {
  "kernelspec": {
   "display_name": "Python 3 (ipykernel)",
   "language": "python",
   "name": "python3"
  },
  "language_info": {
   "codemirror_mode": {
    "name": "ipython",
    "version": 3
   },
   "file_extension": ".py",
   "mimetype": "text/x-python",
   "name": "python",
   "nbconvert_exporter": "python",
   "pygments_lexer": "ipython3",
   "version": "3.9.7"
  }
 },
 "nbformat": 4,
 "nbformat_minor": 4
}