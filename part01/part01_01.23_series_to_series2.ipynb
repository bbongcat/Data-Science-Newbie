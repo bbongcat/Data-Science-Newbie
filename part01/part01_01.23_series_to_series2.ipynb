{
 "cells": [
  {
   "cell_type": "markdown",
   "metadata": {
    "pycharm": {
     "name": "#%% md\n"
    }
   },
   "source": [
    "연산을 하는 두 시리즈의 원소 개수가 다르거나, 시리즈의 크기가 같더라도 인덱스 값이 다를 수 있다.<br>\n",
    "이처럼 어느 한쪽에만 인덱스가 존재하고 다른 쪽에는 짝을 지을 수 있는 동일한 인덱스가 없는 경우 정상적으로 연산을 처리할 수 없다.<br>\n",
    "판다스는 유효한 값이 존재하지 않는다는 의미를 갖는 NaN으로 처리한다. 따라서 연산의 결과 또한 NaN으로 입력된다.\n",
    "<br><br>\n",
    "한편 동일한 인덱스가 양쪽에 모두 존재하여 서로 대응되더라도 어느 한 쪽의 데이터 값이 NaN인 경우가 있다.<br>\n",
    "이때도 연산의 대상인 데이터가 존재하지 않기 때문에 결과는 NaN이 된다.\n",
    "\n",
    "<img src=\"http://drive.google.com/uc?export=view&id=16tlL-bGZ8IjK6wr6BaN1tGLP4rgPlDO9\" width=540>\n"
   ]
  },
  {
   "cell_type": "code",
   "execution_count": 1,
   "metadata": {
    "collapsed": false,
    "jupyter": {
     "outputs_hidden": false
    },
    "pycharm": {
     "name": "#%%\n"
    }
   },
   "outputs": [
    {
     "name": "stdout",
     "output_type": "stream",
     "text": [
      "국어     NaN\n",
      "영어    80.0\n",
      "수학    90.0\n",
      "dtype: float64\n",
      "\n",
      "\n",
      "수학    80\n",
      "국어    90\n",
      "dtype: int64\n",
      "\n",
      "\n",
      "<class 'pandas.core.series.Series'>\n",
      "\n",
      "\n",
      "     국어        수학  영어\n",
      "덧셈  NaN   170.000 NaN\n",
      "뺄셈  NaN    10.000 NaN\n",
      "곱셈  NaN  7200.000 NaN\n",
      "나눗셈 NaN     1.125 NaN\n"
     ]
    }
   ],
   "source": [
    "import pandas as pd\n",
    "import numpy as np\n",
    "\n",
    "# 딕셔너리 데이터로 판다스 시리즈 만들기\n",
    "student1 = pd.Series({'국어': np.nan, '영어': 80, '수학': 90})\n",
    "student2 = pd.Series({'수학': 80, '국어': 90})\n",
    "\n",
    "print(student1)\n",
    "print('\\n')\n",
    "print(student2)\n",
    "print('\\n')\n",
    "\n",
    "# 두 학생의 과목별 점수로 사칙연산 수행 (시리즈 vs 시리즈)\n",
    "addition = student1 + student2              # 덧셈\n",
    "subtraction = student1 - student2           # 뺄셈\n",
    "multiplication = student1 * student2        # 곱셈\n",
    "division = student1 / student2              # 나눗셈\n",
    "print(type(division))\n",
    "print('\\n')\n",
    "\n",
    "# 사칙연산 결과를 데이터프레임으로 합치기 (시리즈 ➡️ 데이터프레임)\n",
    "result = pd.DataFrame([addition, subtraction, multiplication, division],\n",
    "                      index=['덧셈', '뺄셈', '곱셈', '나눗셈'])\n",
    "print(result)\n"
   ]
  },
  {
   "cell_type": "markdown",
   "metadata": {
    "pycharm": {
     "name": "#%% md\n"
    }
   },
   "source": [
    "student1의 '국어' 인덱스와 대응되는 '국어' 인덱스가 student2에 존재하지만,<br>\n",
    "student1의 데이터 값은 np.nan(NaN)이므로 국어 점수가 존재하지 않는다.<br>\n",
    "NaN을 포함한 연산 결과는 NaN으로 처리하므로, result의 '국어' 열에 있는 원소들은 모두 NaN이 된다.\n",
    "<br><br>\n",
    "시리즈 student2에 '영어' 인덱스가 없기 때문에 student2에는 영어 점수가 아예 존재하지 않는다.<br>\n",
    "따라서 result 객체의 '영어' 열에 반환되는 원소값은 모두 NaN이다.\n"
   ]
  }
 ],
 "metadata": {
  "kernelspec": {
   "display_name": "Python 3 (ipykernel)",
   "language": "python",
   "name": "python3"
  },
  "language_info": {
   "codemirror_mode": {
    "name": "ipython",
    "version": 3
   },
   "file_extension": ".py",
   "mimetype": "text/x-python",
   "name": "python",
   "nbconvert_exporter": "python",
   "pygments_lexer": "ipython3",
   "version": "3.9.7"
  }
 },
 "nbformat": 4,
 "nbformat_minor": 4
}