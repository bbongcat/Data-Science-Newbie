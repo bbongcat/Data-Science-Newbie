{
 "cells": [
  {
   "cell_type": "markdown",
   "metadata": {},
   "source": [
    "# 데이터프레임\n",
    "\n",
    "데이터프레임은 <b>2차원 배열</b>이다.<br>\n",
    "행과 열로 만들어지는 2차원 배열 구조는 마이크로소프트의 <b>엑셀</b>과 <b>관계형 데이터베이스(RDBMS)</b> 등 컴퓨터 관련 다양한 분야에서 사용된다.\n",
    "\n",
    "아래 [그림 1-6]은 여러 개의 시리즈들이 한데 모여서 데이터 프레임을 이루는 구조를 보여준다.<br>\n",
    "**데이터 프레임의 열**은 각각 <u>시리즈 객체</u>이다.<br>\n",
    "시리즈를 열벡터라고 하면, 데이터프레임은 여러 개의 열벡터들이 같은 행 인덱스를 기준으로 줄지어 결합된 2차원 벡터 또는 행렬(matrix)이다.\n",
    "<br>\n",
    "<br>\n",
    "<img src=\"http://drive.google.com/uc?export=view&id=1Ks8hqfm5nbNa28t7zjVexlxX5mCuiADl\" width=560>\n",
    "<br>\n",
    "<br>\n",
    "데이터 프레임은 행과 열을 나타내기 위해 두 가지 종류의 주소를 사용한다.<br>\n",
    "[그림 1-6]과 같이 행 인덱스(row index)와 열 이름(column name 또는 column label)으로 구분한다.\n",
    "<br>\n",
    "<br>\n",
    "데이터 프레임의 열은 *공통의 속성을 갖는 일련의 데이터* 를 나타내고,<br>\n",
    "행은 *개별 관측대상에 대한 다양한 속성 데이터들의 모음* 인 **레코드**가 된다.\n"
   ]
  },
  {
   "cell_type": "markdown",
   "metadata": {
    "pycharm": {
     "name": "#%% md\n"
    }
   },
   "source": [
    "### - 데이터프레임 만들기\n",
    "\n",
    "데이터프레임을 만들기 위해서는 같은 길이(원소의 개수가 동일한)의 1차원 배열 여러 개가 필요하다.<br>\n",
    "데이터프레임은 여러 개의 시리즈(열, column)을 모아 놓은 집합으로 이해하면 된다.<br>\n",
    "[그림1-7]에서 딕셔너리의 값에 해당하는 각 리스트가 시리즈 배열로 변환되어 데이터프레임의 열이 된다.<br>\n",
    "딕셔너리의 키는 각 시리즈의 이름으로 변환되어 최종적으로 데이터프레임의 열 이름이 된다.<br><br>\n",
    "<img src=\"http://drive.google.com/uc?export=view&id=13K5GU672xHrmg5-xqfptnxO4CduTfn9M\" height=240>\n",
    "\n",
    "데이터프레임을 만들 때는 판다스 <b>DataFrame()</b> 함수를 이용한다.<br>\n",
    "[그림 1-7]과 같이 여러 개의 리스트를 원소로 갖는 딕셔너리를 함수의 인자로 전달하는 방식이 주로 활용된다.<br>\n",
    "\n",
    "딕셔너리 ➡️ 데이터프레임 변환: `pandas.DataFrame( 딕셔너리 객체 )`\n",
    "\n",
    "---\n",
    "\n",
    "아래 예제에서는 리스트 5개를 원소로 갖는 딕셔너리를 정의하고, 판다스 DataFrame() 함수의 인자로 전달하여 모두 5개의 열을 갖는 데이터프레임을 만든다.<br>\n",
    "이때 딕셔너리의 키가 열 이름이 되고, 값에 해당하는 각 리스트가 데이터프레임의 열이 된다.<br>\n",
    "행 인덱스에는 정수형 위치 인덱스가 자동 지정된다. type() 함수로 확인해보면 반환되는 객체는 데이터프레임이다."
   ]
  },
  {
   "cell_type": "code",
   "execution_count": 1,
   "metadata": {
    "collapsed": false,
    "jupyter": {
     "outputs_hidden": false
    },
    "pycharm": {
     "name": "#%%\n"
    }
   },
   "outputs": [
    {
     "name": "stdout",
     "output_type": "stream",
     "text": [
      "<class 'pandas.core.frame.DataFrame'>\n",
      "\n",
      "\n",
      "   c0  c1  c2  c3  c4\n",
      "0   1   4   7  10  13\n",
      "1   2   5   8  11  14\n",
      "2   3   6   9  12  15\n"
     ]
    }
   ],
   "source": [
    "import pandas as pd\n",
    "\n",
    "# 열 이름을 key로 하고, 리스트를 value로 갖는 딕셔너리 정의 (2차원 배열)\n",
    "dict_data = {'c0': [1, 2, 3], 'c1': [4, 5, 6], 'c2':[7,8,9], 'c3':[10,11,12], 'c4':[13,14,15]}\n",
    "\n",
    "# 판다스 DataFrame() 함수로 딕셔너리를 데이터프레임으로 변환. 변수 df에 저장\n",
    "df = pd.DataFrame(dict_data)\n",
    "\n",
    "# df의 자료형 출력\n",
    "print(type(df))\n",
    "print('\\n')\n",
    "print(df)"
   ]
  }
 ],
 "metadata": {
  "kernelspec": {
   "display_name": "Python 3 (ipykernel)",
   "language": "python",
   "name": "python3"
  },
  "language_info": {
   "codemirror_mode": {
    "name": "ipython",
    "version": 3
   },
   "file_extension": ".py",
   "mimetype": "text/x-python",
   "name": "python",
   "nbconvert_exporter": "python",
   "pygments_lexer": "ipython3",
   "version": "3.9.7"
  }
 },
 "nbformat": 4,
 "nbformat_minor": 4
}