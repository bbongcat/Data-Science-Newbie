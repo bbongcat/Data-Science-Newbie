{
 "cells": [
  {
   "cell_type": "markdown",
   "metadata": {},
   "source": [
    "### - 행 선택\n",
    "\n",
    "데이터프레임의 행 데이터를 선택하기 위해서는 <b>loc와 iloc</b> 인덱서를 사용한다.<br>\n",
    "인덱스 이름을 기준으로 행을 선택할 때는 loc를 이용하고,\n",
    "정수형 위치 인덱스를 사용할 때는 iloc를 이용한다.\n",
    "\n",
    "구 분 | loc | iloc\n",
    "--|--|--\n",
    "탐색 대상 | 인덱스 이름 (index label) | 정수형 위치 인덱스 (integer position)\n",
    "범위 지정 | 가능 (범위의 끝 포함)<br>예) ['a':'c'] ➡️ 'a', 'b', 'c' | 가능 (범위의 끝 제외)<br>예) [3:7] ➡️ 3, 4, 5, 6 (* 7 제외)\n",
    "\n",
    "앞에서 사용한 학생 3명의 과목별 점수가 저장된 데이터프레임을 계속 활용한다.<br>\n",
    "데이터프레임의 첫 번째 행에는 '서준' 학생의 과목별 점수 데이터가 입력되어 있다.<br>\n",
    "'서준' 학생의 과목별 점수 데이터를 행으로 추출하면 시리즈 객체가 반환된다.\n",
    "<br><br>\n",
    "이때 loc 인덱서를 이용하려면 '서준'이라는 인덱스 이름을 직접 입력하고,\n",
    "iloc을 이용할 때는 첫 번째 정수형 위치를 나타내는 0을 입력한다.<br>\n",
    "각각 반환되는 값을 label1 변수와 position1 변수에 저장하여 출력해 보면 결과값에 차이가 없다."
   ]
  },
  {
   "cell_type": "code",
   "execution_count": 1,
   "metadata": {
    "collapsed": false,
    "jupyter": {
     "outputs_hidden": false
    },
    "pycharm": {
     "name": "#%%\n"
    }
   },
   "outputs": [
    {
     "name": "stdout",
     "output_type": "stream",
     "text": [
      "    수학  영어   음악   체육\n",
      "서준  90  98   85  100\n",
      "우현  80  89   95   90\n",
      "인아  70  95  100   90\n",
      "\n",
      "\n",
      "수학     90\n",
      "영어     98\n",
      "음악     85\n",
      "체육    100\n",
      "Name: 서준, dtype: int64\n",
      "\n",
      "\n",
      "수학     90\n",
      "영어     98\n",
      "음악     85\n",
      "체육    100\n",
      "Name: 서준, dtype: int64\n"
     ]
    }
   ],
   "source": [
    "import pandas as pd\n",
    "\n",
    "# DataFrame() 함수로 데이터프레임 변환. 변수 df에 저장\n",
    "exam_data = {'수학': [90, 80, 70], '영어': [98, 89, 95],\n",
    "             '음악': [85, 95, 100], '체육': [100, 90, 90]}\n",
    "\n",
    "df = pd.DataFrame(exam_data, index=['서준', '우현', '인아'])\n",
    "print(df)\n",
    "print('\\n')\n",
    "\n",
    "# 행 인덱스를 사용하여 행 1개 선택\n",
    "label1 = df.loc['서준']\n",
    "position1 = df.iloc[0]\n",
    "print(label1)\n",
    "print('\\n')\n",
    "print(position1)"
   ]
  },
  {
   "cell_type": "markdown",
   "metadata": {
    "pycharm": {
     "name": "#%% md\n"
    }
   },
   "source": [
    "---\n",
    "\n",
    "2개 이상의 행 인덱스를 리스트 형태로 입력하면 매칭되는 모든 행 데이터를 동시에 추출한다.<br>\n",
    "예제에서 데이터프레임의 1, 2번째 행에 있는 '서준', '우현' 학생을 인덱싱으로 선택해 본다.<br>\n",
    "loc 인덱서는 ['서준', '우현']과 같이 인덱스 이름을 배열로 전달하고,\n",
    "iloc을 이용할 때는 [0, 1]과 같이 정수형 위치를 전달한다.<br>\n",
    "이때 label2 변수와 position2 변수에 저장된 내용이 같다.\n"
   ]
  },
  {
   "cell_type": "code",
   "execution_count": 2,
   "metadata": {
    "collapsed": false,
    "jupyter": {
     "outputs_hidden": false
    },
    "pycharm": {
     "name": "#%%\n"
    }
   },
   "outputs": [
    {
     "name": "stdout",
     "output_type": "stream",
     "text": [
      "    수학  영어  음악   체육\n",
      "서준  90  98  85  100\n",
      "우현  80  89  95   90\n",
      "\n",
      "\n",
      "    수학  영어  음악   체육\n",
      "서준  90  98  85  100\n",
      "우현  80  89  95   90\n"
     ]
    }
   ],
   "source": [
    "# 행 인덱스를 사용하여 2개 이상의 행 선택\n",
    "label2 = df.loc[['서준', '우현']]\n",
    "position2 = df.iloc[[0, 1]]\n",
    "print(label2)\n",
    "print('\\n')\n",
    "print(position2)"
   ]
  },
  {
   "cell_type": "markdown",
   "metadata": {},
   "source": [
    "---\n",
    "\n",
    "마지막으로 행 인덱스의 범위를 지정하여 여러 개의 행을 동시에 선택하는 슬라이싱 기법을 살펴보자.<br>\n",
    "이번에는 label3와 position3의 <b>결과값에 차이가 있음</b>에 유의한다.<br>\n",
    "인덱스 이름을 범위로 지정한 label3의 경우 범위의 마지막 값인 '우현' 학생의 점수가 포함되지만,\n",
    "정수형 위치 인덱스를 사용한 position3에는 범위의 마지막 값인 '우현' 학생의 점수가 제외된다.\n"
   ]
  },
  {
   "cell_type": "code",
   "execution_count": 3,
   "metadata": {
    "collapsed": false,
    "jupyter": {
     "outputs_hidden": false
    },
    "pycharm": {
     "name": "#%%\n"
    }
   },
   "outputs": [
    {
     "name": "stdout",
     "output_type": "stream",
     "text": [
      "    수학  영어  음악   체육\n",
      "서준  90  98  85  100\n",
      "우현  80  89  95   90\n",
      "\n",
      "\n",
      "    수학  영어  음악   체육\n",
      "서준  90  98  85  100\n"
     ]
    }
   ],
   "source": [
    "# 행 인덱스의 범위를 지정하여 행 선택\n",
    "label3 = df.loc['서준':'우현']\n",
    "position3 = df.iloc[0:1]\n",
    "print(label3)\n",
    "print('\\n')\n",
    "print(position3)"
   ]
  }
 ],
 "metadata": {
  "kernelspec": {
   "display_name": "Python 3 (ipykernel)",
   "language": "python",
   "name": "python3"
  },
  "language_info": {
   "codemirror_mode": {
    "name": "ipython",
    "version": 3
   },
   "file_extension": ".py",
   "mimetype": "text/x-python",
   "name": "python",
   "nbconvert_exporter": "python",
   "pygments_lexer": "ipython3",
   "version": "3.9.7"
  }
 },
 "nbformat": 4,
 "nbformat_minor": 4
}