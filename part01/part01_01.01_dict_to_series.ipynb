{
 "cells": [
  {
   "cell_type": "markdown",
   "id": "09b5eba3-7263-4669-97f7-0af78560ce77",
   "metadata": {
    "tags": []
   },
   "source": [
    "# 시리즈\n",
    "\n",
    "시리즈는 데이터가 순차적으로 나열된 <b>1차원 배열</b>의 형태를 갖는다.  \n",
    "아래 표와 같이 인덱스와 데이터 값이 일대일 대응이 된다.  \n",
    "이런 관점에서 키와 값이 '{k:v}' 형태로 짝을 이루는 *파이썬 딕셔너리* 와 비슷한 구조를 갖는다고 볼 수 있다.  \n",
    "\n",
    "| 키(k) | 값(v) |\n",
    "|---|:---:|\n",
    "| index 0 | Data 0 |\n",
    "| index 1 | Data 1 |\n",
    "| index 2 | Data 2 |\n",
    "| index 3 | Data 3 |\n",
    "\n",
    "<br>\n",
    "\n",
    "### 시리즈 만들기\n",
    "\n",
    "딕셔너리와 시리즈의 구조가 비슷하기 때문에 딕셔너리를 시리즈로 변환하는 방법을 많이 사용한다.  \n",
    "판다스 내장 함수인 Series()를 이용하고, 딕셔너리를 함수의 인자로 전달한다.  \n",
    "\n",
    "딕셔너리 ➡️ 시리즈 변환:\n",
    "`pandas.Series( 딕셔너리 )`\n",
    "\n",
    "딕셔너리의 키는 시리즈의 인덱스에 대응하고, 딕셔너리 각 키에 매칭되는 값이 시리즈의 데이터 값으로 변환된다.\n",
    "\n"
   ]
  },
  {
   "cell_type": "code",
   "execution_count": 1,
   "id": "7df6a45f-3cb7-4050-ac59-6c8e4561418c",
   "metadata": {},
   "outputs": [
    {
     "name": "stdout",
     "output_type": "stream",
     "text": [
      "<class 'pandas.core.series.Series'>\n",
      "\n",
      "\n",
      "a    1\n",
      "b    2\n",
      "c    3\n",
      "dtype: int64\n"
     ]
    }
   ],
   "source": [
    "import pandas as pd\n",
    "\n",
    "# key:value 쌍으로 딕셔너리를 만들고, 변수 dict_data에 저장\n",
    "dict_data = {'a': 1, 'b': 2, 'c': 3}\n",
    "\n",
    "# 판다스 Series() 함수로 dictionary를 Series로 변환. 변수 sr에 저장\n",
    "sr = pd.Series(dict_data)\n",
    "\n",
    "# sr의 자료형 출력\n",
    "print(type(sr))\n",
    "print('\\n')\n",
    "\n",
    "# 변수 sr에 저장되어 있는 시리즈 객체를 출력\n",
    "print(sr)\n"
   ]
  },
  {
   "cell_type": "code",
   "execution_count": 2,
   "id": "05c7991e-289e-4f62-9e0d-8edadde85763",
   "metadata": {},
   "outputs": [
    {
     "name": "stdout",
     "output_type": "stream",
     "text": [
      "Index(['a', 'b', 'c'], dtype='object')\n"
     ]
    }
   ],
   "source": [
    "# 시리즈 클래스의 index 속성을 이용하여 인덱스 배열을 따로 선택할 수 있음\n",
    "print(sr.index)"
   ]
  },
  {
   "cell_type": "code",
   "execution_count": 3,
   "id": "526665b4-3f96-4cea-99ff-3b9dc32573b1",
   "metadata": {},
   "outputs": [
    {
     "name": "stdout",
     "output_type": "stream",
     "text": [
      "[1 2 3]\n"
     ]
    }
   ],
   "source": [
    "# 시리즈 클래스의 values 속성을 이용하여 데이터 값 배열만을 따로 선택할 수도 있다.\n",
    "print(sr.values)"
   ]
  },
  {
   "cell_type": "code",
   "execution_count": null,
   "id": "d59ac99d-c753-44da-9b59-0c552d752e35",
   "metadata": {},
   "outputs": [],
   "source": []
  }
 ],
 "metadata": {
  "kernelspec": {
   "display_name": "Python 3 (ipykernel)",
   "language": "python",
   "name": "python3"
  },
  "language_info": {
   "codemirror_mode": {
    "name": "ipython",
    "version": 3
   },
   "file_extension": ".py",
   "mimetype": "text/x-python",
   "name": "python",
   "nbconvert_exporter": "python",
   "pygments_lexer": "ipython3",
   "version": "3.9.7"
  }
 },
 "nbformat": 4,
 "nbformat_minor": 5
}
