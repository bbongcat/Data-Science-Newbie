{
 "cells": [
  {
   "cell_type": "markdown",
   "metadata": {},
   "source": [
    "### - 행 / 열 삭제\n",
    "\n",
    "데이터프레임의 행 또는 열을 삭제하는 명령으로 `drop()` 메소드가 있다.<br>\n",
    "행을 삭제할 때는 축(axis) 옵션으로 `axis=0`을 입력하거나, 별도로 입력하지 않는다.<br>\n",
    "반면, 축 옵션으로 `axis=1`을 입력하면 열을 삭제한다. 동시에 여러 개의 행 또는 열을 삭제하려면 리스트 형태로 입력한다.<br>\n",
    "<br>\n",
    "한편 drop() 메소드는 *기존 객체를 변경하지 않고 새로운 객체를 반환* 하는 점에 유의한다.<br>\n",
    "따라서 원본 객체를 직접 변경하기 위해서는 `inplace=True`옵션을 추가한다.<br>\n",
    "inplace 옵션을 False로 설정하면 새로운 객체가 생성되고, 원 객체는 변경 없이 그대로 유지된다.\n",
    "\n",
    "- 행 삭제: `DataFrame 객체.drop(행 인덱스 또는 배열, axis=0)`\n",
    "- 열 삭제: `DataFrame 객체.drop(열 이름 또는 배열, axis=1)`\n",
    "\n",
    "먼저 drop() 메소드를 적용하여 데이터프레임의 행을 삭제하는 방법을 살펴보자.<br>\n",
    "행을 삭제할 때는 축 옵션을 입력하지 않거나 axis=0과 같이 축 옵션을 설정한다.\n",
    "\n",
    "<img src=\"http://drive.google.com/uc?export=view&id=13Y866-BgbpNjgsITtGbukoB6FeNNbFtL\" width=560>\n",
    "<br>\n",
    "<br>\n",
    "학생의 이름을 행 인덱스로 하고, 과목명을 열 이름으로 하는 데이터 프레임 df를 만든다.<br>\n",
    "비교를 위해 df를 복제하여 df2와 df3을 만든다.<br>\n",
    "df2에서 이름이 '우현'인 학생의 행 데이터를 삭제하고, df3에서 ['우현', '인아']와 같이 이름의 리스트를 사용하여 학생 2명의 데이터를 삭제한다.\n"
   ]
  },
  {
   "cell_type": "code",
   "execution_count": 4,
   "metadata": {
    "collapsed": false,
    "jupyter": {
     "outputs_hidden": false
    },
    "pycharm": {
     "name": "#%%\n"
    }
   },
   "outputs": [
    {
     "name": "stdout",
     "output_type": "stream",
     "text": [
      "    수학  영어   음악   체육\n",
      "서준  90  98   85  100\n",
      "우현  80  89   95   90\n",
      "인아  70  95  100   90\n",
      "\n",
      "\n",
      "    수학  영어   음악   체육\n",
      "서준  90  98   85  100\n",
      "인아  70  95  100   90\n",
      "\n",
      "\n",
      "    수학  영어  음악   체육\n",
      "서준  90  98  85  100\n"
     ]
    }
   ],
   "source": [
    "import pandas as pd\n",
    "\n",
    "# DataFrame() 함수로 데이터 프레임 변환. 변수 df에 저장\n",
    "exam_data = {'수학': [90, 80, 70], '영어': [98, 89, 95],\n",
    "             '음악': [85, 95, 100], '체육': [100, 90, 90]}\n",
    "\n",
    "df = pd.DataFrame(exam_data, index=['서준', '우현', '인아'])\n",
    "print(df)\n",
    "print('\\n')\n",
    "\n",
    "# 데이터프레임 df를 복제하여 변수 df2에 저장. df2의 1개 행 삭제\n",
    "df2 = df[:]\n",
    "df2 = df2.drop('우현')\n",
    "# df2.drop('우현', inplace=True)  # 이 코드로 실행시키면 에러가 나서 주석처리\n",
    "print(df2)\n",
    "print('\\n')\n",
    "\n",
    "# 데이터프레임 df를 복제하여 변수 df3에 저장. df3의 2개 행 삭제\n",
    "df3 = df[:]\n",
    "df3 = df3.drop(['우현', '인아'])\n",
    "# df3.drop(['우현', '인아'], axis=0, inplace=True)\n",
    "print(df3)\n"
   ]
  },
  {
   "cell_type": "markdown",
   "metadata": {},
   "source": [
    "---\n",
    "inplace=True 옵션을 사용하는 대신, `df3 = df3.drop(['우현', '인아'])`라고 입력해도 결과는 같다.\n",
    "반환된 객체를 기존 변수에 저장하여 대체하는 방법이다."
   ]
  }
 ],
 "metadata": {
  "kernelspec": {
   "display_name": "Python 3 (ipykernel)",
   "language": "python",
   "name": "python3"
  },
  "language_info": {
   "codemirror_mode": {
    "name": "ipython",
    "version": 3
   },
   "file_extension": ".py",
   "mimetype": "text/x-python",
   "name": "python",
   "nbconvert_exporter": "python",
   "pygments_lexer": "ipython3",
   "version": "3.9.7"
  }
 },
 "nbformat": 4,
 "nbformat_minor": 4
}