{
 "cells": [
  {
   "cell_type": "markdown",
   "metadata": {
    "pycharm": {
     "name": "#%% md\n"
    }
   },
   "source": [
    "# 인덱스 활용\n",
    "\n",
    "### - 특정 열을 행 인덱스로 설정\n",
    "\n",
    "`set_index()` 메소드를 사용하여 데이터프레임의 특정 열을 행 인덱스로 설정한다.<br>\n",
    "단, 원본 데이터프레임을 바꾸지 않고 새로운 데이터프레임 객체를 반환하는 점에 유의한다.\n",
    "\n",
    "- 특정 열을 행 인덱스로 설정: `DataFrame 객체.set_index( [ '열 이름' ] 또는 '열 이름')`\n",
    "\n",
    "<img src=\"http://drive.google.com/uc?export=view&id=16tfiimkqAilncT0788Hq8EdqdGgkiqum\" width=540>\n",
    "<br><br>\n",
    "\n",
    "다음의 예제에서 데이터프레임 df의 '이름' 열을 행 인덱스로 설정하면 새로운 데이터프레임이 만들어진다.<br>\n",
    "이를 변수 ndf에 저장한다. 그리고 데이터프레임 ndf의 '음악' 열을 행 인덱스로 지정하여 생성되는 데이터프레임을 변수 ndf2에 저장한다.<br>\n",
    "원본 데이터프레임(df)에 변경사항을 적용하려면, `df = df.set_index(['이름'])`과 같이 원래 변수에 할당하거나,<br>\n",
    "`df.set_index(['이름'], inplace=True)`와 같이 inplace 옵션을 추가해야 한다.<br>\n",
    "ndf3은 2개의 열('수학', '음악')을 행 인덱스로 지정한 경우이다. 이런 경우를 <b>멀티인덱스</b>라고 하는데 part6에서 자세히 살펴보자.\n",
    "<br><br>\n",
    "한편 `set_index` 메소드를 사용하여 행 인덱스를 새로 지정하면 기존 행 인덱스는 삭제된다.\n"
   ]
  },
  {
   "cell_type": "code",
   "execution_count": 1,
   "metadata": {
    "collapsed": false,
    "jupyter": {
     "outputs_hidden": false
    },
    "pycharm": {
     "name": "#%%\n"
    }
   },
   "outputs": [
    {
     "name": "stdout",
     "output_type": "stream",
     "text": [
      "   이름  수학  영어   음악   체육\n",
      "0  서준  90  98   85  100\n",
      "1  우현  80  89   95   90\n",
      "2  인아  70  95  100   90\n",
      "\n",
      "\n",
      "    수학  영어   음악   체육\n",
      "이름                  \n",
      "서준  90  98   85  100\n",
      "우현  80  89   95   90\n",
      "인아  70  95  100   90\n",
      "\n",
      "\n",
      "     수학  영어   체육\n",
      "음악              \n",
      "85   90  98  100\n",
      "95   80  89   90\n",
      "100  70  95   90\n",
      "\n",
      "\n",
      "        영어   체육\n",
      "수학 음악          \n",
      "90 85   98  100\n",
      "80 95   89   90\n",
      "70 100  95   90\n"
     ]
    }
   ],
   "source": [
    "import pandas as pd\n",
    "\n",
    "# DataFrame() 함수로 데이터프레임 변환. 변수 df에 저장\n",
    "exam_data = {'이름': ['서준', '우현', '인아'],\n",
    "             '수학': [90, 80, 70],\n",
    "             '영어': [98, 89, 95],\n",
    "             '음악': [85, 95, 100],\n",
    "             '체육': [100, 90, 90]}\n",
    "df = pd.DataFrame(exam_data)\n",
    "print(df)\n",
    "print('\\n')\n",
    "\n",
    "# 특정 열(column)을 데이터프레임의 행 인덱스(index)로 설정\n",
    "ndf = df.set_index(['이름'])\n",
    "print(ndf)\n",
    "print('\\n')\n",
    "\n",
    "ndf2 = ndf.set_index('음악')\n",
    "print(ndf2)\n",
    "print('\\n')\n",
    "\n",
    "ndf3 = ndf.set_index(['수학', '음악'])\n",
    "print(ndf3)\n",
    "\n"
   ]
  }
 ],
 "metadata": {
  "kernelspec": {
   "display_name": "Python 3 (ipykernel)",
   "language": "python",
   "name": "python3"
  },
  "language_info": {
   "codemirror_mode": {
    "name": "ipython",
    "version": 3
   },
   "file_extension": ".py",
   "mimetype": "text/x-python",
   "name": "python",
   "nbconvert_exporter": "python",
   "pygments_lexer": "ipython3",
   "version": "3.9.7"
  }
 },
 "nbformat": 4,
 "nbformat_minor": 4
}