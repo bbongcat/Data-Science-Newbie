{
 "cells": [
  {
   "cell_type": "markdown",
   "metadata": {
    "pycharm": {
     "name": "#%% md\n"
    }
   },
   "source": [
    "### - 행 인덱스 / 열 이름 설정\n",
    "\n",
    "데이터프레임의 구조적 특성 때문에 2차원 배열 형태의 데이터를 데이터프레임으로 변환하기 쉽다.<br>\n",
    "2차원 배열에는 여러 개의 리스트(튜플)을 원소로 갖는 리스트(튜플)을 예로 들 수 있다.<br>\n",
    "<br>\n",
    "한편 2차원 배열을 DataFrame() 함수 인자로 전달하여 데이터프레임으로 변환할 때 행 인덱스와 열 이름 속성을 사용자가 직접 지정할 수도 있다.<br>\n",
    "```\n",
    "행 인덱스/열 이름 설정 : pandas.DataFrame( 2차원 배열,\n",
    "                                      index=행 인덱스 배열,\n",
    "                                      column=열 이름 배열 )\n",
    "```\n",
    "\n",
    "아래 예제에서는 '3개의 원소를 갖는 리스트' 2개를 원소로 갖는 리스트(2차원 배열)을 판다스 DataFrame() 함수에 전달한다.<br>\n",
    "index 옵션에 ['준서', '예은']과 같이 행 인덱스로 사용할 배열을 지정한다.<br>\n",
    "그리고 열 이름으로 사용할 ['나이', '성별', '학교'] 배열을 columns 옵션에 설정한다."
   ]
  },
  {
   "cell_type": "code",
   "execution_count": 6,
   "metadata": {
    "collapsed": false,
    "jupyter": {
     "outputs_hidden": false
    },
    "pycharm": {
     "name": "#%%\n"
    }
   },
   "outputs": [
    {
     "name": "stdout",
     "output_type": "stream",
     "text": [
      "    나이 성별   학교\n",
      "준서  15  남  덕영중\n",
      "예은  17  여  수리중\n",
      "\n",
      "\n",
      "Index(['준서', '예은'], dtype='object')\n",
      "\n",
      "\n",
      "Index(['나이', '성별', '학교'], dtype='object')\n"
     ]
    }
   ],
   "source": [
    "import pandas as pd\n",
    "\n",
    "# 행 인덱스/열 이름 지정하여 데이터프레임 만들기\n",
    "df = pd.DataFrame([[15, '남', '덕영중'], [17, '여', '수리중']],\n",
    "                  index=['준서', '예은'],\n",
    "                  columns=['나이', '성별', '학교'])\n",
    "\n",
    "# 행 인덱스, 열 이름 확인하기\n",
    "print(df)  # 데이터프레임\n",
    "print('\\n')\n",
    "print(df.index)  # 행 인덱스\n",
    "print('\\n')\n",
    "print(df.columns)  # 열 이름\n"
   ]
  },
  {
   "cell_type": "markdown",
   "metadata": {},
   "source": [
    "---\n",
    "\n",
    "실행 결과에서 리스트가 행으로 변환되는 점에 유의한다.\n",
    "앞에서 리스트를 원소로 갖는 딕셔너리를 이용했을 때는 리스트가 열이 된 것과 차이가 있다.<br>\n",
    "데이터프레임 df의 행 인덱스는 `df.index` 속성으로 접근하고, 행 인덱스 배열을 구성하는 원소와 자료형을 알 수 있다.\n",
    "열 이름 배열은 `df.columns` 속성으로 접근할 수 있다.\n",
    "<br>\n",
    "\n",
    "데이터프레임 df의 행 인덱스와 열 이름 객체를 나타내는 df.index와 df.columns의 속성에\n",
    "새로운 배열을 할당하는 식으로 행 인덱스와 열 이름을 변경할 수 있다.\n",
    "\n",
    "- 행 인덱스 변경 : `DataFrame 객체.index = 새로운 행 인덱스 배열`\n",
    "- 열 이름 변경 : `DataFrame 객체.columns = 새로운 열 이름 배열`\n",
    "<br>\n",
    "\n",
    "다음의 예제에서 데이터프레임 df의 행 인덱스를 ['준서', '예은']에서 ['학생1', '학생2']로 변경하고,\n",
    "열 이름을 ['나이', '성별', '학교']에서 ['연령', '남녀', '소속']으로 변경한다."
   ]
  },
  {
   "cell_type": "code",
   "execution_count": 7,
   "metadata": {
    "collapsed": false,
    "jupyter": {
     "outputs_hidden": false
    },
    "pycharm": {
     "name": "#%%\n"
    }
   },
   "outputs": [
    {
     "name": "stdout",
     "output_type": "stream",
     "text": [
      "     연령 남녀   소속\n",
      "학생1  15  남  덕영중\n",
      "학생2  17  여  수리중\n",
      "\n",
      "\n",
      "Index(['학생1', '학생2'], dtype='object')\n",
      "\n",
      "\n",
      "Index(['연령', '남녀', '소속'], dtype='object')\n"
     ]
    }
   ],
   "source": [
    "# 행 인덱스, 열 이름 변경하기\n",
    "df.index=['학생1', '학생2']\n",
    "df.columns=['연령', '남녀', '소속']\n",
    "\n",
    "print(df)           # 데이터프레임\n",
    "print('\\n')\n",
    "print(df.index)     # 행 인덱스\n",
    "print('\\n')\n",
    "print(df.columns)   # 열 이름"
   ]
  }
 ],
 "metadata": {
  "kernelspec": {
   "display_name": "Python 3 (ipykernel)",
   "language": "python",
   "name": "python3"
  },
  "language_info": {
   "codemirror_mode": {
    "name": "ipython",
    "version": 3
   },
   "file_extension": ".py",
   "mimetype": "text/x-python",
   "name": "python",
   "nbconvert_exporter": "python",
   "pygments_lexer": "ipython3",
   "version": "3.9.7"
  }
 },
 "nbformat": 4,
 "nbformat_minor": 4
}
