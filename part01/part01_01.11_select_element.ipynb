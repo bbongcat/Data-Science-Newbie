{
 "cells": [
  {
   "cell_type": "markdown",
   "metadata": {
    "pycharm": {
     "name": "#%% md\n"
    }
   },
   "source": [
    "### - 원소 선택\n",
    "\n",
    "데이터프레임의 행 인덱스와 열 이름을 [행, 열] 형식의 2차원 좌표로 입력하여 원소 위치를 지정하는 방법이다.<br>\n",
    "원소가 위치하는 행과 열의 좌표를 입력하면 해당 위치의 원소가 반환된다.<br>\n",
    "*1개 이상의 행과 2개 이상의 열* 을 사용하거나 반대로 *2개 이상의 행과 1개의 열* 을 선택하는 경우 시리즈 객체가 반환된다.<br>\n",
    "2개 이상의 행과 2개 이상의 열을 선택하면, 데이터프레임 객체를 반환한다.\n",
    "\n",
    "- 인덱스 이름: `DataFrame 객체.loc[행 인덱스, 열 이름]`\n",
    "- 정수 위치 인덱스: `DataFrame 객체.iloc[행 번호, 열 번호]`\n",
    "\n",
    "딕셔너리를 데이터프레임 df로 변환하고, set_index() 메소드를 적용하여 '이름' 열을 새로운 행 인덱스로 지정한다.<br>\n",
    "set_index() 메소드에 대해서는 다음 장에서 자세히 다룰 예정이다.<br>\n",
    "'이름' 열에 들어 있는 학생 3명의 이름이 행 인덱스 자리에 들어간다."
   ]
  },
  {
   "cell_type": "code",
   "execution_count": 2,
   "metadata": {
    "collapsed": false,
    "jupyter": {
     "outputs_hidden": false
    },
    "pycharm": {
     "name": "#%%\n"
    }
   },
   "outputs": [
    {
     "name": "stdout",
     "output_type": "stream",
     "text": [
      "   이름  수학  영어   음악   체육\n",
      "0  서준  90  98   85  100\n",
      "1  우현  80  89   95   90\n",
      "2  인아  70  95  100   90\n",
      "\n",
      "\n",
      "    수학  영어   음악   체육\n",
      "이름                  \n",
      "서준  90  98   85  100\n",
      "우현  80  89   95   90\n",
      "인아  70  95  100   90\n"
     ]
    }
   ],
   "source": [
    "import pandas as pd\n",
    "\n",
    "# DataFrame() 함수로 데이터프레임 변환. 변수 df에 저장\n",
    "exam_data = {'이름': ['서준', '우현', '인아'],\n",
    "             '수학': [90, 80, 70],\n",
    "             '영어': [98, 89, 95],\n",
    "             '음악': [85, 95, 100],\n",
    "             '체육': [100, 90, 90]}\n",
    "df = pd.DataFrame(exam_data)\n",
    "print(df)\n",
    "print('\\n')\n",
    "\n",
    "# '이름' 열을 새로운 인덱스로 지정하고, df 객체에 변경 사항 반영\n",
    "df.set_index('이름', inplace=True)\n",
    "print(df)"
   ]
  },
  {
   "cell_type": "markdown",
   "metadata": {
    "pycharm": {
     "name": "#%% md\n"
    }
   },
   "source": [
    "---\n",
    "\n",
    "데이터프레임 df의 원소 1개를 선택하여 출력하는 방법이다.<br>\n",
    "loc 인덱서를 사용하여 행 인덱스가 '서준'이고 열 이름이 '음악'인 원소를 찾아서 변수 a에 저장한다.<br>\n",
    "같은 원소를 찾는데 iloc 인덱서를 사용할 때는 (0행, 2열)을 뜻하는 정수형 위치 인덱스 (0,2)를 전달한다.<br>\n",
    "변수 a와 b 모두 '서준' 학생의 '음악' 점수인 85점이 저장된 것을 볼 수 있다.\n"
   ]
  },
  {
   "cell_type": "code",
   "execution_count": 3,
   "metadata": {
    "collapsed": false,
    "jupyter": {
     "outputs_hidden": false
    },
    "pycharm": {
     "name": "#%%\n"
    }
   },
   "outputs": [
    {
     "name": "stdout",
     "output_type": "stream",
     "text": [
      "85\n",
      "85\n"
     ]
    }
   ],
   "source": [
    "# 데이터프레임 df의 특정 원소 1개 선택 ('서준'의 '음악' 점수)\n",
    "a = df.loc['서준', '음악']\n",
    "print(a)\n",
    "b = df.iloc[0, 2]\n",
    "print(b)"
   ]
  },
  {
   "cell_type": "markdown",
   "metadata": {},
   "source": [
    "---\n",
    "\n",
    "데이터프레임 df의 원소 2개 이상을 선택하는 것도 가능하다.<br>\n",
    "예제에서는 '서준' 학생의 '음악' 점수와 '체육' 점수를 찾는 4가지 방법을 소개한다.<br>\n",
    "2개 이상의 인덱스 배열을 리스트로 입력할 수도 있고, 범위 지정(슬라이싱) 기법을 사용할 수도 있다.<br>\n",
    "반환되는 객체는 모두 <b>시리즈</b>이다."
   ]
  },
  {
   "cell_type": "code",
   "execution_count": 4,
   "metadata": {
    "collapsed": false,
    "jupyter": {
     "outputs_hidden": false
    },
    "pycharm": {
     "name": "#%%\n"
    }
   },
   "outputs": [
    {
     "name": "stdout",
     "output_type": "stream",
     "text": [
      "음악     85\n",
      "체육    100\n",
      "Name: 서준, dtype: int64\n",
      "음악     85\n",
      "체육    100\n",
      "Name: 서준, dtype: int64\n",
      "음악     85\n",
      "체육    100\n",
      "Name: 서준, dtype: int64\n",
      "음악     85\n",
      "체육    100\n",
      "Name: 서준, dtype: int64\n"
     ]
    }
   ],
   "source": [
    "# 데이터프레임 df의 특정 원소 2개 이상 선택 ('서준'의 '음악', '체육' 점수)\n",
    "c = df.loc['서준', ['음악', '체육']]\n",
    "print(c)\n",
    "d = df.iloc[0, [2, 3]]\n",
    "print(d)\n",
    "e = df.loc['서준', '음악':'체육']\n",
    "print(e)\n",
    "f = df.iloc[0, 2:]\n",
    "print(f)"
   ]
  },
  {
   "cell_type": "markdown",
   "metadata": {},
   "source": [
    "---\n",
    "\n",
    "데이터프레임의 원소를 선택할 때, 행 인덱스와 열 이름을 각각 2개 이상 선택하여 데이터프레임을 얻는 방법이다.<br>\n",
    "예제에서는 '서준'과 '우현' 학생의 '음악' 및 '체육' 점수를 선택한다."
   ]
  },
  {
   "cell_type": "code",
   "execution_count": 6,
   "metadata": {
    "collapsed": false,
    "jupyter": {
     "outputs_hidden": false
    },
    "pycharm": {
     "name": "#%%\n"
    }
   },
   "outputs": [
    {
     "name": "stdout",
     "output_type": "stream",
     "text": [
      "    음악   체육\n",
      "이름         \n",
      "서준  85  100\n",
      "우현  95   90\n",
      "    음악   체육\n",
      "이름         \n",
      "서준  85  100\n",
      "우현  95   90\n",
      "    음악   체육\n",
      "이름         \n",
      "서준  85  100\n",
      "우현  95   90\n",
      "    음악   체육\n",
      "이름         \n",
      "서준  85  100\n",
      "우현  95   90\n"
     ]
    }
   ],
   "source": [
    "# df 2개 이상의 행과 열에 속하는 원소들 선택 ('서준', '우현'의 '음악', '체육' 점수)\n",
    "g = df.loc[['서준', '우현'], ['음악', '체육']]\n",
    "print(g)\n",
    "h = df.iloc[[0, 1], [2, 3]]\n",
    "print(h)\n",
    "i = df.loc['서준':'우현', '음악':'체육']\n",
    "print(i)\n",
    "j = df.iloc[0:2, 2:]\n",
    "print(j)"
   ]
  },
  {
   "cell_type": "markdown",
   "metadata": {},
   "source": [
    "---\n",
    "\n",
    "이외에도 열을 선택하는 다양한 방법이 있다.<br>\n",
    "예를 들어, `df.iloc[ :, ['음악', '체육']]`은 모든 행에 대해 2개의 열(음악, 체육)을 찾는다.<br>\n",
    "또한 `df.iloc[ :, [2, 3]]`은 모든 행에 대해 인덱스 위치가 3, 4번째인 열(음악, 체육)을 선택하게 한다.<br>\n",
    "`df.iloc[ :, 2:4]`처럼 열 범위를 지정할 수도 있다.\n"
   ]
  }
 ],
 "metadata": {
  "kernelspec": {
   "display_name": "Python 3 (ipykernel)",
   "language": "python",
   "name": "python3"
  },
  "language_info": {
   "codemirror_mode": {
    "name": "ipython",
    "version": 3
   },
   "file_extension": ".py",
   "mimetype": "text/x-python",
   "name": "python",
   "nbconvert_exporter": "python",
   "pygments_lexer": "ipython3",
   "version": "3.9.7"
  }
 },
 "nbformat": 4,
 "nbformat_minor": 4
}