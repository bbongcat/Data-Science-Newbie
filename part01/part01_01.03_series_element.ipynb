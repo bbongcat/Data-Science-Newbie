{
 "cells": [
  {
   "cell_type": "markdown",
   "metadata": {
    "pycharm": {
     "name": "#%% md\n"
    }
   },
   "source": [
    "### 원소 선택\n",
    "\n",
    "원소의 위치를 나타내는 주소 역할을 하는 인덱스를 이용하여 시리즈의 원소를 선택한다.\n",
    "하나의 원소를 선택할 수도 있고, 여러 원소를 한꺼번에 선택할 수도 있다.\n",
    "파이썬 리스트 슬라이싱(slicing) 기법과 비슷하게 인덱스 범위를 지정하여 원소를 선택하는 방법도 있다.\n",
    "<br>\n",
    "\n",
    "인덱스의 두 가지 유형에 따라 사용법이 조금 다르다.\n",
    "정수형 위치 인덱스는 대괄호 안에 위치를 나타내는 숫자를 입력하는데 반해,\n",
    "인덱스 이름(라벨)을 사용할 때는 대괄호 안에 이름과 따옴표를 입력한다.\n",
    "\n",
    "| 인덱스 이름 | a | b | c | d | e | f |\n",
    "|:--|--|--|--|--|--|--|\n",
    "|원소|10|20|30|40|50|60|\n",
    "|정수형 위치 인덱스|0|1|2|3|4|5|\n",
    "\n",
    "  \n",
    "- 인덱스 이름으로 원소 선택: `Series['c'], Series[['d','e']], Series['d' : 'e']`\n",
    "- 정수형 위치 인덱스로 원소 선택: `Series[2], Series[[3,4]], Series[3 : 5]`\n",
    "  \n",
    "---\n",
    "  \n",
    "\n",
    "튜플(Tuple) 또한 시리즈로 변환 가능하다.\n",
    "튜플도 리스트처럼 키에 해당하는 값이 없기 때문에 시리즈로 변환 시 정수형 위치 인덱스가 자동 지정된다.\n",
    "\n",
    "리스트 또는 튜플을 시리즈로 만들 때 정수형 위치 인덱스 대신 <u>인덱스 이름을 따로 지정할 수 있다.</u>  \n",
    "Series() 함수의 index 옵션에 인덱스 이름을 직접 전달하는 방식이다.  \n",
    "예제에서는 시리즈로 변환할 튜플의 데이터 개수와 순서에 맞춰 인덱스 이름을 리스트 형태로 전달한다.  \n"
   ]
  },
  {
   "cell_type": "code",
   "execution_count": 2,
   "metadata": {
    "collapsed": false,
    "jupyter": {
     "outputs_hidden": false
    },
    "pycharm": {
     "name": "#%%\n"
    }
   },
   "outputs": [
    {
     "name": "stdout",
     "output_type": "stream",
     "text": [
      "이름              영인\n",
      "생년월일    2010-05-01\n",
      "성별               여\n",
      "학생여부          True\n",
      "dtype: object\n"
     ]
    }
   ],
   "source": [
    "import pandas as pd\n",
    "\n",
    "# 튜플을 시리즈로 변환 (인덱스 옵션 지정)\n",
    "tup_data = ('영인', '2010-05-01', '여', True)\n",
    "sr = pd.Series(tup_data, index=['이름', '생년월일', '성별', '학생여부'])\n",
    "\n",
    "print(sr)\n"
   ]
  },
  {
   "cell_type": "markdown",
   "metadata": {},
   "source": [
    "---\n",
    "왼쪽의 인덱스 위치에는 index 옵션에 전달한 4개의 인덱스 이름이 표시되고, 오른쪽 데이터 값 위치에는 함수에 전달된 튜플의 원소 값들이 표시된다.  \n",
    "시리즈를 구성하는 원소 데이터 값의 자료형은 문자열(object)로 확인된다.  \n",
    "\n",
    "앞에서 설명한 대로 인덱스를 이용하여 원소를 선택할 때는 대괄호 안에 인덱스를 입력한다.  \n",
    "예제에서는 시리즈의 첫 번째 데이터를 선택하기 위해 첫 번째를 뜻하는 정수형 위치 인덱스(0)와 첫 번째 위치에 있는 인덱스 라벨('이름')을 입력한다.  \n",
    "모두 같은 원소(영인)을 반환한다."
   ]
  },
  {
   "cell_type": "code",
   "execution_count": 4,
   "metadata": {},
   "outputs": [
    {
     "name": "stdout",
     "output_type": "stream",
     "text": [
      "영인\n",
      "영인\n"
     ]
    }
   ],
   "source": [
    "# 원소를 1개 선택\n",
    "\n",
    "print(sr[0])  # sr의 1번째 원소를 선택 (정수형 위치 인덱스)\n",
    "print(sr['이름'])  # '이름' 라벨을 가진 원소를 선택 (인덱스 이름)"
   ]
  },
  {
   "cell_type": "markdown",
   "metadata": {},
   "source": [
    "---\n",
    "여러 개의 인덱스를 리스트 형태로 대괄호 안에 입력하면 짝을 이루는 원소 데이터를 모두 반환한다.  \n",
    "정수형 위치 인덱스는 0부터 시작하기 때문에 2번째 인덱스 이름인 '생년월일'은 정수형 인덱스 1을 사용, 3번째 이름인 '성별'은 정수형 인덱스 2를 사용한다."
   ]
  },
  {
   "cell_type": "code",
   "execution_count": 10,
   "metadata": {
    "pycharm": {
     "name": "#%%\n"
    }
   },
   "outputs": [
    {
     "name": "stdout",
     "output_type": "stream",
     "text": [
      "생년월일    2010-05-01\n",
      "성별               여\n",
      "dtype: object\n",
      "\n",
      "\n",
      "생년월일    2010-05-01\n",
      "성별               여\n",
      "dtype: object\n"
     ]
    }
   ],
   "source": [
    "# 여러 개의 원소를 선택(인덱스 리스트 활용)\n",
    "print(sr[[1, 2]])\n",
    "print('\\n')\n",
    "print(sr[['생년월일', '성별']])"
   ]
  },
  {
   "cell_type": "markdown",
   "metadata": {},
   "source": [
    "---\n",
    "마지막으로 인덱스 범위를 지정하여 선택하는 방법이다.\n",
    "정수형 위치 인덱스`print(sr[1 : 2])`를 사용할 때는 범위의 끝(2)이 포함되지 않는다.\n",
    "그러나 인덱스 이름`print(['생년월일' : '성별'])`을 사용하면 범위의 끝('성별')이 포함된다."
   ]
  },
  {
   "cell_type": "code",
   "execution_count": 11,
   "metadata": {
    "collapsed": false,
    "jupyter": {
     "outputs_hidden": false
    },
    "pycharm": {
     "name": "#%%\n"
    }
   },
   "outputs": [
    {
     "name": "stdout",
     "output_type": "stream",
     "text": [
      "생년월일    2010-05-01\n",
      "dtype: object\n",
      "\n",
      "\n",
      "생년월일    2010-05-01\n",
      "성별               여\n",
      "dtype: object\n"
     ]
    }
   ],
   "source": [
    "# 여러 개의 원소를 선택(인덱스 범위 지정)\n",
    "print(sr[1 : 2])\n",
    "print('\\n')\n",
    "print(sr['생년월일' : '성별'])\n"
   ]
  }
 ],
 "metadata": {
  "kernelspec": {
   "display_name": "Python 3 (ipykernel)",
   "language": "python",
   "name": "python3"
  },
  "language_info": {
   "codemirror_mode": {
    "name": "ipython",
    "version": 3
   },
   "file_extension": ".py",
   "mimetype": "text/x-python",
   "name": "python",
   "nbconvert_exporter": "python",
   "pygments_lexer": "ipython3",
   "version": "3.9.7"
  }
 },
 "nbformat": 4,
 "nbformat_minor": 4
}
