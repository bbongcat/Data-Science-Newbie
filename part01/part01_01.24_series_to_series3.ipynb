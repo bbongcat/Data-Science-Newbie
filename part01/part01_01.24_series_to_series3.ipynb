{
 "cells": [
  {
   "cell_type": "markdown",
   "metadata": {
    "pycharm": {
     "name": "#%% md\n"
    }
   },
   "source": [
    "### - 연산 메소드\n",
    "\n",
    "객체 사이에 공통 인덱스가 없거나 NaN이 포함된 경우 연산 결과는 NaN으로 반환된다.<br>\n",
    "이런 상황을 피하려면 연산 메소드에 `fill_value` 옵션을 설정하여 적용한다.<br>\n",
    "다음의 예제에서는 누락 데이터 NaN 대신 숫자 0을 입력하는 예를 설명한다.\n",
    "\n",
    "- 연산 메소드 사용(시리즈와 시리즈 덧셈): `Series1.add(Series2, fill_value=0)`"
   ]
  },
  {
   "cell_type": "code",
   "execution_count": 1,
   "metadata": {
    "collapsed": false,
    "jupyter": {
     "outputs_hidden": false
    },
    "pycharm": {
     "name": "#%%\n"
    }
   },
   "outputs": [
    {
     "name": "stdout",
     "output_type": "stream",
     "text": [
      "국어     NaN\n",
      "영어    80.0\n",
      "수학    90.0\n",
      "dtype: float64\n",
      "\n",
      "\n",
      "수학    80\n",
      "국어    90\n",
      "dtype: int64\n",
      "\n",
      "\n",
      "       국어        수학    영어\n",
      "덧셈   90.0   170.000  80.0\n",
      "뺄셈  -90.0    10.000  80.0\n",
      "곱셈    0.0  7200.000   0.0\n",
      "나눗셈   0.0     1.125   inf\n"
     ]
    }
   ],
   "source": [
    "import pandas as pd\n",
    "import numpy as np\n",
    "\n",
    "# 딕셔너리 데이터로 판다스 시리즈 만들기\n",
    "student1 = pd.Series({'국어': np.nan, '영어': 80, '수학': 90})\n",
    "student2 = pd.Series({'수학': 80, '국어': 90})\n",
    "\n",
    "print(student1)\n",
    "print('\\n')\n",
    "print(student2)\n",
    "print('\\n')\n",
    "\n",
    "# 두 학생의 과목별 점수로 사칙연산 수행 (연산 메소드 사용)\n",
    "sr_add = student1.add(student2, fill_value=0)       # 덧셈\n",
    "sr_sub = student1.sub(student2, fill_value=0)       # 뺄셈\n",
    "sr_mul = student1.mul(student2, fill_value=0)       # 곱셈\n",
    "sr_div = student1.div(student2, fill_value=0)       # 나눗셈\n",
    "\n",
    "# 사칙연산 결과를 데이터프레임으로 합치기 (시리즈 ➡️ 데이터프레임)\n",
    "result = pd.DataFrame([sr_add, sr_sub, sr_mul, sr_div],\n",
    "                      index=['덧셈', '뺄셈', '곱셈', '나눗셈'])\n",
    "print(result)"
   ]
  },
  {
   "cell_type": "markdown",
   "metadata": {
    "pycharm": {
     "name": "#%% md\n"
    }
   },
   "source": [
    "연산 메소드에 `fill_value=0` 옵션을 설정하여 student1의 국어 점수와 student2의 영어 점수는 NaN 대신 0으로 입력된다.<br>\n",
    "한편 result의 '영어' 열의 나눗셈 값은 무한대(inf)이다. student1의 영어점수 80을 student2의 영어 점수 0으로 나눈 값이기 때문이다."
   ]
  }
 ],
 "metadata": {
  "kernelspec": {
   "display_name": "Python 3 (ipykernel)",
   "language": "python",
   "name": "python3"
  },
  "language_info": {
   "codemirror_mode": {
    "name": "ipython",
    "version": 3
   },
   "file_extension": ".py",
   "mimetype": "text/x-python",
   "name": "python",
   "nbconvert_exporter": "python",
   "pygments_lexer": "ipython3",
   "version": "3.9.7"
  }
 },
 "nbformat": 4,
 "nbformat_minor": 4
}