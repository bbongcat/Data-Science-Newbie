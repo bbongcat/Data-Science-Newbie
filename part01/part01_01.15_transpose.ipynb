{
 "cells": [
  {
   "cell_type": "markdown",
   "metadata": {
    "pycharm": {
     "name": "#%% md\n"
    }
   },
   "source": [
    "### - 행, 열의 위치 바꾸기\n",
    "\n",
    "데이터프레임의 행과 열을 서로 맞바꾸는 방법이다. 선형대수학의 전치행렬과 같은 개념이다.<br><br>\n",
    "전치의 결과로 새로운 객체를 반환하므로, 기존 객체를 변경하기 위해서는\n",
    "`df = df.transpose()` 또는 `df = df.T`와 같이 기존 객체에 새로운 객체를 할당해주는 과정이 필요하다.\n",
    "\n",
    "- 행, 열 바꾸기: `DataFrame 객체.transpose()` 또는 `DataFrame 객체.T`\n",
    "\n",
    "아래 예제는 `transpose()` 메소드를 적용하여 행과 열을 서로 바꾸는 전치 과정을 보여준다.<br>\n",
    "열 이름에 해당하는 과목명이 행 인덱스 위치로 이동하고, 행 인덱스에 있는 숫자들이 열 이름으로 이동한다.<br>\n",
    "df.T와 같이 클래스 속성을 활용할 수도 있다. 여기서 데이터 프레임의 행과 열을 한번 더 바꾸면 최초의 원본 데이터프레임과 같은 형태로 돌아온다.\n",
    "\n",
    "<img src=\"http://drive.google.com/uc?export=view&id=16XRqbFN8Of9t-gH6BGMod65A_8ZNuDll\" width=640>\n"
   ]
  },
  {
   "cell_type": "code",
   "execution_count": 2,
   "metadata": {
    "collapsed": false,
    "jupyter": {
     "outputs_hidden": false
    },
    "pycharm": {
     "name": "#%%\n"
    }
   },
   "outputs": [
    {
     "name": "stdout",
     "output_type": "stream",
     "text": [
      "   이름  수학  영어   음악   체육\n",
      "0  서준  90  98   85  100\n",
      "1  우현  80  89   95   90\n",
      "2  인아  70  95  100   90\n",
      "\n",
      "\n",
      "      0   1    2\n",
      "이름   서준  우현   인아\n",
      "수학   90  80   70\n",
      "영어   98  89   95\n",
      "음악   85  95  100\n",
      "체육  100  90   90\n",
      "\n",
      "\n",
      "   이름  수학  영어   음악   체육\n",
      "0  서준  90  98   85  100\n",
      "1  우현  80  89   95   90\n",
      "2  인아  70  95  100   90\n"
     ]
    }
   ],
   "source": [
    "import pandas as pd\n",
    "\n",
    "# DataFrame() 함수로 데이터프레임 변환. 변수 df에 저장\n",
    "exam_data = {'이름': ['서준', '우현', '인아'],\n",
    "             '수학': [90, 80, 70],\n",
    "             '영어': [98, 89, 95],\n",
    "             '음악': [85, 95, 100],\n",
    "             '체육': [100, 90, 90]}\n",
    "df = pd.DataFrame(exam_data)\n",
    "print(df)\n",
    "print('\\n')\n",
    "\n",
    "# 데이터프레임 df를 전치하기 (메소드 활용)\n",
    "df = df.transpose()\n",
    "print(df)\n",
    "print('\\n')\n",
    "\n",
    "# 데이터프레임 df를 다시 전치하기 (클래스 속성 활용)\n",
    "df = df.T\n",
    "print(df)\n",
    "\n"
   ]
  }
 ],
 "metadata": {
  "kernelspec": {
   "display_name": "Python 3 (ipykernel)",
   "language": "python",
   "name": "python3"
  },
  "language_info": {
   "codemirror_mode": {
    "name": "ipython",
    "version": 3
   },
   "file_extension": ".py",
   "mimetype": "text/x-python",
   "name": "python",
   "nbconvert_exporter": "python",
   "pygments_lexer": "ipython3",
   "version": "3.9.7"
  }
 },
 "nbformat": 4,
 "nbformat_minor": 4
}