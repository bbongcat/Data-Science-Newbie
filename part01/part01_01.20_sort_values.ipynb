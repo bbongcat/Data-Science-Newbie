{
 "cells": [
  {
   "cell_type": "markdown",
   "metadata": {
    "pycharm": {
     "name": "#%% md\n"
    }
   },
   "source": [
    "### - 특정 열의 데이터 값을 기준으로 데이터프레임 정렬하기\n",
    "\n",
    "특정 열의 데이터를 기준으로 데이터프레임을 정렬할 수 있다.<br>\n",
    "`sort_values()` 메소드를 활용하며, 새롭게 정렬된 데이터프레임 객체를 반환한다.\n",
    "\n",
    "- 열 기준 정렬: `DataFrame 객체.sort_values()`\n",
    "\n",
    "다음의 예제에서는 'c1' 열을 기준으로 데이터프레임을 내림차순 정렬한다.\n",
    "내림차순 정렬을 위해 `ascending=False` 옵션을 적용한다.\n"
   ]
  },
  {
   "cell_type": "code",
   "execution_count": 1,
   "metadata": {
    "collapsed": false,
    "jupyter": {
     "outputs_hidden": false
    },
    "pycharm": {
     "name": "#%%\n"
    }
   },
   "outputs": [
    {
     "name": "stdout",
     "output_type": "stream",
     "text": [
      "    c0  c1  c2  c3  c4\n",
      "r0   1   4   7  10  13\n",
      "r1   2   5   8  11  14\n",
      "r2   3   6   9  12  15\n",
      "\n",
      "\n",
      "    c0  c1  c2  c3  c4\n",
      "r2   3   6   9  12  15\n",
      "r1   2   5   8  11  14\n",
      "r0   1   4   7  10  13\n"
     ]
    }
   ],
   "source": [
    "import pandas as pd\n",
    "\n",
    "# 딕셔너리 정의\n",
    "dict_data = {'c0': [1, 2, 3], 'c1': [4, 5, 6], 'c2': [7, 8, 9], 'c3': [10, 11, 12], 'c4': [13, 14, 15]}\n",
    "\n",
    "# 딕셔너리를 데이터프레임으로 변환. 인덱스를 [r0, r1, r2]로 지정\n",
    "df = pd.DataFrame(dict_data, index=['r0', 'r1', 'r2'])\n",
    "print(df)\n",
    "print('\\n')\n",
    "\n",
    "# c1 열을 기준으로 내림차순 정렬\n",
    "ndf = df.sort_values(by='c1', ascending=False)\n",
    "print(ndf)\n"
   ]
  }
 ],
 "metadata": {
  "kernelspec": {
   "display_name": "Python 3 (ipykernel)",
   "language": "python",
   "name": "python3"
  },
  "language_info": {
   "codemirror_mode": {
    "name": "ipython",
    "version": 3
   },
   "file_extension": ".py",
   "mimetype": "text/x-python",
   "name": "python",
   "nbconvert_exporter": "python",
   "pygments_lexer": "ipython3",
   "version": "3.9.7"
  }
 },
 "nbformat": 4,
 "nbformat_minor": 4
}