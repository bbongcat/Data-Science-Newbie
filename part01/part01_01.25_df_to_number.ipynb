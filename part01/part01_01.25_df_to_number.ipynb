{
 "cells": [
  {
   "cell_type": "markdown",
   "metadata": {
    "pycharm": {
     "name": "#%% md\n"
    }
   },
   "source": [
    "# 데이터프레임 연산\n",
    "\n",
    "데이터프레임은 여러 시리즈가 한데 모인 것이므로 시리즈 연산을 확장하는 개념으로 이해하는 것이 좋다.<br>\n",
    "먼저 행/열 인덱스를 기준으로 정렬하고 일대일 대응되는 원소끼리 연산을 처리하낟.\n",
    "\n",
    "### - 데이터프레임 vs 숫자\n",
    "\n",
    "데이터프레임에 어떤 숫자를 더하면 모든 원소에 숫자를 더한다.\n",
    "덧셈, 뺄셈, 곱셈, 나눗셈 모두 가능하다.<br>\n",
    "기존 데이터프레임의 형태를 그대로 유지한 채 원소 값만 새로운 계산값으로 바뀐다.<br>\n",
    "새로운 데이터프레임 객체로 반환되는 점에 유의한다.\n",
    "\n",
    "- 데이터프레임과 숫자 연산: `DataFrame 객체 + 연산자(+,-,*,/) + 숫자`\n",
    "\n",
    "다음의 예제는 데이터프레임에 10을 더하는 과정을 설명한다.<br>\n",
    "여기서는 Seaborn 라이브러리에서 제공하는 데이터셋 중에서 타이타닉('titanic') 데이터셋을 사용한다.<br>\n",
    "타이타닉호 탑승자에 대한 인적사항과 구조 여부 등을 정리한 자료이다. `load_dataset()` 함수로 불러온다.\n"
   ]
  },
  {
   "cell_type": "code",
   "execution_count": 1,
   "metadata": {
    "collapsed": false,
    "jupyter": {
     "outputs_hidden": false
    },
    "pycharm": {
     "name": "#%%\n"
    }
   },
   "outputs": [
    {
     "name": "stdout",
     "output_type": "stream",
     "text": [
      "    age     fare\n",
      "0  22.0   7.2500\n",
      "1  38.0  71.2833\n",
      "2  26.0   7.9250\n",
      "3  35.0  53.1000\n",
      "4  35.0   8.0500\n",
      "\n",
      "\n",
      "<class 'pandas.core.frame.DataFrame'>\n",
      "\n",
      "\n",
      "    age     fare\n",
      "0  32.0  17.2500\n",
      "1  48.0  81.2833\n",
      "2  36.0  17.9250\n",
      "3  45.0  63.1000\n",
      "4  45.0  18.0500\n",
      "\n",
      "\n",
      "<class 'pandas.core.frame.DataFrame'>\n"
     ]
    }
   ],
   "source": [
    "import pandas as pd\n",
    "import seaborn as sns\n",
    "\n",
    "# titanic 데이터셋에서 age, fare 2개 열을 선택하여 데이터프레임 만들기\n",
    "titanic = sns.load_dataset('titanic')\n",
    "df = titanic.loc[:, ['age', 'fare']]\n",
    "print(df.head())            # 첫 5행만 표시\n",
    "print('\\n')\n",
    "print(type(df))\n",
    "print('\\n')\n",
    "\n",
    "# 데이터프레임에 숫자 10 더하기\n",
    "addition = df + 10\n",
    "print(addition.head())      # 첫 5행만 표시\n",
    "print('\\n')\n",
    "print(type(addition))"
   ]
  },
  {
   "cell_type": "markdown",
   "metadata": {
    "pycharm": {
     "name": "#%% md\n"
    }
   },
   "source": [
    "실행 결과를 보면 데이터프레임에 숫자 10을 더한 결과는 동일한 형태의 데이터프레임으로 정리된다.<br>\n",
    "즉, 모든 원소에 숫자 10을 더하고 데이터프레임의 크기와 모양은 변하지 않는다.\n",
    "\n"
   ]
  }
 ],
 "metadata": {
  "kernelspec": {
   "display_name": "Python 3 (ipykernel)",
   "language": "python",
   "name": "python3"
  },
  "language_info": {
   "codemirror_mode": {
    "name": "ipython",
    "version": 3
   },
   "file_extension": ".py",
   "mimetype": "text/x-python",
   "name": "python",
   "nbconvert_exporter": "python",
   "pygments_lexer": "ipython3",
   "version": "3.9.7"
  }
 },
 "nbformat": 4,
 "nbformat_minor": 4
}