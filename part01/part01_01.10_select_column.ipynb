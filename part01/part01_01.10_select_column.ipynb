{
 "cells": [
  {
   "cell_type": "markdown",
   "metadata": {
    "pycharm": {
     "name": "#%% md\n"
    }
   },
   "source": [
    "### - 열 선택\n",
    "\n",
    "데이터프레임의 열 데이터를 1개만 선택할 때는, 대괄호 안에 열 이름을 따옴표와 함께 입력하거나\n",
    "도트(.) 다음에 열 이름을 입력하는 두 가지 방식을 사용한다.<br>\n",
    "두 번째 방법은 반드시 열 이름이 문자열일 경우에만 가능하다. 이처럼 열 1개를 선택하면 시리즈 객체가 반환된다.\n",
    "\n",
    "- 열 1개 선택(시리즈 생성): `DataFrame 객체[\"열 이름\"]` 또는 `DataFrame 객체.열 이름`\n",
    "\n",
    "<img src=\"http://drive.google.com/uc?export=view&id=13dCw8Oq11dV9nICsBfJIjUtE4OoFdoCV\" width=480>\n",
    "<br><br>\n",
    "대괄호 안에 열 이름의 리스트를 입력하면 리스트의 원소인 열을 모두 선택하여 데이터프레임으로 반환한다.\n",
    "또한 리스트의 원소로 열 이름 한 개만 있는 경우에도, 2중 대괄호를 사용하는 것이 되어 반환되는 객체는 시리즈가 아니라 데이터프레임이 된다.\n",
    "<br>\n",
    "\n",
    "- 열 n개 선택(데이터프레임 생성): `DataFrame 객체[ [ 열1, 열2, ... , 열n ] ]`\n",
    "<br>\n",
    "\n",
    "먼저 데이터프레임에서 *열 1개를 선택하는 방법* 을 살펴보자.<br>\n",
    "대괄호 안에 열 이름을 넣는 방식으로 '수학' 점수를 시리즈 객체로 추출한다.<br>\n",
    "df.영어와 같이 도트 다음에 열 이름을 입력하면 '영어' 점수 데이터를 선택하여 시리즈 객체로 추출한다.\n"
   ]
  },
  {
   "cell_type": "code",
   "execution_count": 1,
   "metadata": {
    "collapsed": false,
    "jupyter": {
     "outputs_hidden": false
    },
    "pycharm": {
     "name": "#%%\n"
    }
   },
   "outputs": [
    {
     "name": "stdout",
     "output_type": "stream",
     "text": [
      "   이름  수학  영어   음악   체육\n",
      "0  서준  90  98   85  100\n",
      "1  우현  80  89   95   90\n",
      "2  인아  70  95  100   90\n",
      "<class 'pandas.core.frame.DataFrame'>\n",
      "\n",
      "\n",
      "0    90\n",
      "1    80\n",
      "2    70\n",
      "Name: 수학, dtype: int64\n",
      "<class 'pandas.core.series.Series'>\n",
      "\n",
      "\n",
      "0    98\n",
      "1    89\n",
      "2    95\n",
      "Name: 영어, dtype: int64\n",
      "<class 'pandas.core.series.Series'>\n"
     ]
    }
   ],
   "source": [
    "import pandas as pd\n",
    "\n",
    "# DataFrame() 함수로 데이터프레임 변환. 변수 df에 저장\n",
    "exam_data = {'이름': ['서준', '우현', '인아'],\n",
    "             '수학': [90, 80, 70],\n",
    "             '영어': [98, 89, 95],\n",
    "             '음악': [85, 95, 100],\n",
    "             '체육': [100, 90, 90]}\n",
    "df = pd.DataFrame(exam_data)\n",
    "print(df)\n",
    "print(type(df))\n",
    "print('\\n')\n",
    "\n",
    "# '수학' 점수 데이터만 선택. 변수 math1에 저장\n",
    "math1 = df['수학']\n",
    "print(math1)\n",
    "print(type(math1))\n",
    "print('\\n')\n",
    "\n",
    "# '영어' 점수 데이터만 선택. 변수 english에 저장\n",
    "english = df.영어\n",
    "print(english)\n",
    "print(type(english))\n"
   ]
  },
  {
   "cell_type": "markdown",
   "metadata": {
    "pycharm": {
     "name": "#%% md\n"
    }
   },
   "source": [
    "---\n",
    "\n",
    "데이터프레임에서 2개 이상의 열을 추출하는 방법이다.<br>\n",
    "대괄호 안에 ['음악', '체육'] 점수를 열 이름의 리스트로 입력하면 데이터 프레임이 반환된다.\n",
    "또한 df[['수학']]과 같이 2중 대괄호를 사용하면 열 이름 1개를 원소로 갖는 리스트를 사용하는 경우에도 시리즈가 아닌 데이터프레임을 반환한다.\n",
    "\n"
   ]
  },
  {
   "cell_type": "code",
   "execution_count": 2,
   "metadata": {
    "collapsed": false,
    "jupyter": {
     "outputs_hidden": false
    },
    "pycharm": {
     "name": "#%%\n"
    }
   },
   "outputs": [
    {
     "name": "stdout",
     "output_type": "stream",
     "text": [
      "    음악   체육\n",
      "0   85  100\n",
      "1   95   90\n",
      "2  100   90\n",
      "<class 'pandas.core.frame.DataFrame'>\n",
      "\n",
      "\n",
      "   수학\n",
      "0  90\n",
      "1  80\n",
      "2  70\n",
      "<class 'pandas.core.frame.DataFrame'>\n"
     ]
    }
   ],
   "source": [
    "# '음악', '체육' 점수 데이터를 선택. 변수 music_gym에 저장\n",
    "music_gym = df[['음악', '체육']]\n",
    "print(music_gym)\n",
    "print(type(music_gym))\n",
    "print('\\n')\n",
    "\n",
    "# '수학' 점수 데이터만 선택. 변수 math2에 저장\n",
    "math2 = df[['수학']]\n",
    "print(math2)\n",
    "print(type(math2))\n"
   ]
  },
  {
   "cell_type": "code",
   "execution_count": null,
   "metadata": {},
   "outputs": [],
   "source": []
  }
 ],
 "metadata": {
  "kernelspec": {
   "display_name": "Python 3 (ipykernel)",
   "language": "python",
   "name": "python3"
  },
  "language_info": {
   "codemirror_mode": {
    "name": "ipython",
    "version": 3
   },
   "file_extension": ".py",
   "mimetype": "text/x-python",
   "name": "python",
   "nbconvert_exporter": "python",
   "pygments_lexer": "ipython3",
   "version": "3.9.7"
  }
 },
 "nbformat": 4,
 "nbformat_minor": 4
}