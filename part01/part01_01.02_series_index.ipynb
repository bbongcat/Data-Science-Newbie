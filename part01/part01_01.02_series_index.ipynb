{
 "cells": [
  {
   "cell_type": "markdown",
   "id": "0545e5d8-f8b1-4579-b304-cc1b5944929e",
   "metadata": {},
   "source": [
    "앞의 예제에서는 딕셔너리를 시리즈 함수에 전달했지만 키 값이 없는 <b>리스트</b>를 전달해서 시리즈 객체를 만드는 것도 가능하다.  \n",
    "단, 리스트를 시리즈로 변환할 때는 인덱스로 변환될 키 값이 없으므로 디폴트로 정수형 위치 인덱스(0, 1, 2....)가 자동으로 지정된다.  \n",
    "다음 예제를 보면 sr 객체의 인덱스에 0 ~ 4 범위의 정수값이 자동으로 인덱스로 지정되었다."
   ]
  },
  {
   "cell_type": "code",
   "execution_count": 1,
   "id": "8e795c51-5319-44bb-8932-8b8e3d71b17f",
   "metadata": {},
   "outputs": [
    {
     "name": "stdout",
     "output_type": "stream",
     "text": [
      "0    2019-01-02\n",
      "1          3.14\n",
      "2           ABC\n",
      "3           100\n",
      "4          True\n",
      "dtype: object\n"
     ]
    }
   ],
   "source": [
    "import pandas as pd\n",
    "\n",
    "# 리스트를 시리즈로 변환하여 변수 sr에 저장\n",
    "list_data = ['2019-01-02', 3.14, 'ABC', 100, True]\n",
    "sr = pd.Series(list_data)\n",
    "print(sr)"
   ]
  },
  {
   "cell_type": "code",
   "execution_count": 2,
   "id": "6dc60c0b-be62-469d-b982-c456e5f2649c",
   "metadata": {},
   "outputs": [
    {
     "name": "stdout",
     "output_type": "stream",
     "text": [
      "RangeIndex(start=0, stop=5, step=1)\n",
      "\n",
      "\n",
      "['2019-01-02' 3.14 'ABC' 100 True]\n"
     ]
    }
   ],
   "source": [
    "# 인덱스 배열은 변수 idx에 저장. 데이터 값 배열은 변수 val에 저장\n",
    "idx = sr.index\n",
    "val = sr.values\n",
    "print(idx)\n",
    "print('\\n')\n",
    "print(val)"
   ]
  },
  {
   "cell_type": "code",
   "execution_count": null,
   "id": "bc6afb1a-3bf8-4b77-b264-d6d0668660c8",
   "metadata": {},
   "outputs": [],
   "source": []
  }
 ],
 "metadata": {
  "kernelspec": {
   "display_name": "Python 3 (ipykernel)",
   "language": "python",
   "name": "python3"
  },
  "language_info": {
   "codemirror_mode": {
    "name": "ipython",
    "version": 3
   },
   "file_extension": ".py",
   "mimetype": "text/x-python",
   "name": "python",
   "nbconvert_exporter": "python",
   "pygments_lexer": "ipython3",
   "version": "3.9.7"
  }
 },
 "nbformat": 4,
 "nbformat_minor": 5
}
