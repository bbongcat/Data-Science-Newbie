{
 "cells": [
  {
   "cell_type": "code",
   "execution_count": 2,
   "id": "351039ef",
   "metadata": {},
   "outputs": [],
   "source": [
    "import pandas as pd\n",
    "import matplotlib.pyplot as plt"
   ]
  },
  {
   "cell_type": "code",
   "execution_count": 3,
   "id": "c0e16075",
   "metadata": {},
   "outputs": [],
   "source": [
    "# 한글폰트오류\n",
    "from matplotlib import font_manager, rc\n",
    "font_path = \"./malgun.ttf\"  # 폰트 파일 위치\n",
    "font_name = font_manager.FontProperties(fname=font_path).get_name()\n",
    "rc('font', family = font_name)"
   ]
  },
  {
   "cell_type": "code",
   "execution_count": 4,
   "id": "59ed81fd",
   "metadata": {},
   "outputs": [
    {
     "data": {
      "text/html": [
       "<div>\n",
       "<style scoped>\n",
       "    .dataframe tbody tr th:only-of-type {\n",
       "        vertical-align: middle;\n",
       "    }\n",
       "\n",
       "    .dataframe tbody tr th {\n",
       "        vertical-align: top;\n",
       "    }\n",
       "\n",
       "    .dataframe thead th {\n",
       "        text-align: right;\n",
       "    }\n",
       "</style>\n",
       "<table border=\"1\" class=\"dataframe\">\n",
       "  <thead>\n",
       "    <tr style=\"text-align: right;\">\n",
       "      <th></th>\n",
       "      <th>날짜</th>\n",
       "      <th>지점</th>\n",
       "      <th>평균기온(℃)</th>\n",
       "      <th>최저기온(℃)</th>\n",
       "      <th>최고기온(℃)</th>\n",
       "    </tr>\n",
       "  </thead>\n",
       "  <tbody>\n",
       "    <tr>\n",
       "      <th>0</th>\n",
       "      <td>1907-10-01</td>\n",
       "      <td>108</td>\n",
       "      <td>13.5</td>\n",
       "      <td>7.9</td>\n",
       "      <td>20.7</td>\n",
       "    </tr>\n",
       "    <tr>\n",
       "      <th>1</th>\n",
       "      <td>1907-10-02</td>\n",
       "      <td>108</td>\n",
       "      <td>16.2</td>\n",
       "      <td>7.9</td>\n",
       "      <td>22.0</td>\n",
       "    </tr>\n",
       "    <tr>\n",
       "      <th>2</th>\n",
       "      <td>1907-10-03</td>\n",
       "      <td>108</td>\n",
       "      <td>16.2</td>\n",
       "      <td>13.1</td>\n",
       "      <td>21.3</td>\n",
       "    </tr>\n",
       "    <tr>\n",
       "      <th>3</th>\n",
       "      <td>1907-10-04</td>\n",
       "      <td>108</td>\n",
       "      <td>16.5</td>\n",
       "      <td>11.2</td>\n",
       "      <td>22.0</td>\n",
       "    </tr>\n",
       "    <tr>\n",
       "      <th>4</th>\n",
       "      <td>1907-10-05</td>\n",
       "      <td>108</td>\n",
       "      <td>17.6</td>\n",
       "      <td>10.9</td>\n",
       "      <td>25.4</td>\n",
       "    </tr>\n",
       "  </tbody>\n",
       "</table>\n",
       "</div>"
      ],
      "text/plain": [
       "           날짜   지점  평균기온(℃)  최저기온(℃)  최고기온(℃)\n",
       "0  1907-10-01  108     13.5      7.9     20.7\n",
       "1  1907-10-02  108     16.2      7.9     22.0\n",
       "2  1907-10-03  108     16.2     13.1     21.3\n",
       "3  1907-10-04  108     16.5     11.2     22.0\n",
       "4  1907-10-05  108     17.6     10.9     25.4"
      ]
     },
     "execution_count": 4,
     "metadata": {},
     "output_type": "execute_result"
    }
   ],
   "source": [
    "df = pd.read_csv('seoul.csv')\n",
    "df.head()"
   ]
  },
  {
   "cell_type": "markdown",
   "id": "a0e60299",
   "metadata": {},
   "source": [
    "* df_temp에 df 복사"
   ]
  },
  {
   "cell_type": "code",
   "execution_count": 5,
   "id": "40bf8709",
   "metadata": {},
   "outputs": [
    {
     "data": {
      "text/html": [
       "<div>\n",
       "<style scoped>\n",
       "    .dataframe tbody tr th:only-of-type {\n",
       "        vertical-align: middle;\n",
       "    }\n",
       "\n",
       "    .dataframe tbody tr th {\n",
       "        vertical-align: top;\n",
       "    }\n",
       "\n",
       "    .dataframe thead th {\n",
       "        text-align: right;\n",
       "    }\n",
       "</style>\n",
       "<table border=\"1\" class=\"dataframe\">\n",
       "  <thead>\n",
       "    <tr style=\"text-align: right;\">\n",
       "      <th></th>\n",
       "      <th>날짜</th>\n",
       "      <th>지점</th>\n",
       "      <th>평균기온(℃)</th>\n",
       "      <th>최저기온(℃)</th>\n",
       "      <th>최고기온(℃)</th>\n",
       "    </tr>\n",
       "  </thead>\n",
       "  <tbody>\n",
       "    <tr>\n",
       "      <th>0</th>\n",
       "      <td>1907-10-01</td>\n",
       "      <td>108</td>\n",
       "      <td>13.5</td>\n",
       "      <td>7.9</td>\n",
       "      <td>20.7</td>\n",
       "    </tr>\n",
       "    <tr>\n",
       "      <th>1</th>\n",
       "      <td>1907-10-02</td>\n",
       "      <td>108</td>\n",
       "      <td>16.2</td>\n",
       "      <td>7.9</td>\n",
       "      <td>22.0</td>\n",
       "    </tr>\n",
       "    <tr>\n",
       "      <th>2</th>\n",
       "      <td>1907-10-03</td>\n",
       "      <td>108</td>\n",
       "      <td>16.2</td>\n",
       "      <td>13.1</td>\n",
       "      <td>21.3</td>\n",
       "    </tr>\n",
       "    <tr>\n",
       "      <th>3</th>\n",
       "      <td>1907-10-04</td>\n",
       "      <td>108</td>\n",
       "      <td>16.5</td>\n",
       "      <td>11.2</td>\n",
       "      <td>22.0</td>\n",
       "    </tr>\n",
       "    <tr>\n",
       "      <th>4</th>\n",
       "      <td>1907-10-05</td>\n",
       "      <td>108</td>\n",
       "      <td>17.6</td>\n",
       "      <td>10.9</td>\n",
       "      <td>25.4</td>\n",
       "    </tr>\n",
       "  </tbody>\n",
       "</table>\n",
       "</div>"
      ],
      "text/plain": [
       "           날짜   지점  평균기온(℃)  최저기온(℃)  최고기온(℃)\n",
       "0  1907-10-01  108     13.5      7.9     20.7\n",
       "1  1907-10-02  108     16.2      7.9     22.0\n",
       "2  1907-10-03  108     16.2     13.1     21.3\n",
       "3  1907-10-04  108     16.5     11.2     22.0\n",
       "4  1907-10-05  108     17.6     10.9     25.4"
      ]
     },
     "execution_count": 5,
     "metadata": {},
     "output_type": "execute_result"
    }
   ],
   "source": [
    "df_temp = df.copy()\n",
    "df_temp.head()"
   ]
  },
  {
   "cell_type": "code",
   "execution_count": 6,
   "id": "f1642fb5",
   "metadata": {},
   "outputs": [
    {
     "data": {
      "text/html": [
       "<div>\n",
       "<style scoped>\n",
       "    .dataframe tbody tr th:only-of-type {\n",
       "        vertical-align: middle;\n",
       "    }\n",
       "\n",
       "    .dataframe tbody tr th {\n",
       "        vertical-align: top;\n",
       "    }\n",
       "\n",
       "    .dataframe thead th {\n",
       "        text-align: right;\n",
       "    }\n",
       "</style>\n",
       "<table border=\"1\" class=\"dataframe\">\n",
       "  <thead>\n",
       "    <tr style=\"text-align: right;\">\n",
       "      <th></th>\n",
       "      <th>날짜</th>\n",
       "      <th>평균기온(℃)</th>\n",
       "      <th>최저기온(℃)</th>\n",
       "      <th>최고기온(℃)</th>\n",
       "    </tr>\n",
       "  </thead>\n",
       "  <tbody>\n",
       "    <tr>\n",
       "      <th>0</th>\n",
       "      <td>1907-10-01</td>\n",
       "      <td>13.5</td>\n",
       "      <td>7.9</td>\n",
       "      <td>20.7</td>\n",
       "    </tr>\n",
       "    <tr>\n",
       "      <th>1</th>\n",
       "      <td>1907-10-02</td>\n",
       "      <td>16.2</td>\n",
       "      <td>7.9</td>\n",
       "      <td>22.0</td>\n",
       "    </tr>\n",
       "    <tr>\n",
       "      <th>2</th>\n",
       "      <td>1907-10-03</td>\n",
       "      <td>16.2</td>\n",
       "      <td>13.1</td>\n",
       "      <td>21.3</td>\n",
       "    </tr>\n",
       "    <tr>\n",
       "      <th>3</th>\n",
       "      <td>1907-10-04</td>\n",
       "      <td>16.5</td>\n",
       "      <td>11.2</td>\n",
       "      <td>22.0</td>\n",
       "    </tr>\n",
       "    <tr>\n",
       "      <th>4</th>\n",
       "      <td>1907-10-05</td>\n",
       "      <td>17.6</td>\n",
       "      <td>10.9</td>\n",
       "      <td>25.4</td>\n",
       "    </tr>\n",
       "  </tbody>\n",
       "</table>\n",
       "</div>"
      ],
      "text/plain": [
       "           날짜  평균기온(℃)  최저기온(℃)  최고기온(℃)\n",
       "0  1907-10-01     13.5      7.9     20.7\n",
       "1  1907-10-02     16.2      7.9     22.0\n",
       "2  1907-10-03     16.2     13.1     21.3\n",
       "3  1907-10-04     16.5     11.2     22.0\n",
       "4  1907-10-05     17.6     10.9     25.4"
      ]
     },
     "execution_count": 6,
     "metadata": {},
     "output_type": "execute_result"
    }
   ],
   "source": [
    "df_temp = df_temp.drop(['지점'], axis = 1)\n",
    "df_temp.head()"
   ]
  },
  {
   "cell_type": "markdown",
   "id": "726b4e43",
   "metadata": {},
   "source": [
    "* '날짜' column을 '연도', '월', '일' column으로 분리"
   ]
  },
  {
   "cell_type": "code",
   "execution_count": 7,
   "id": "c3f34fb1",
   "metadata": {},
   "outputs": [],
   "source": [
    "year = []\n",
    "month = []\n",
    "day = []"
   ]
  },
  {
   "cell_type": "code",
   "execution_count": 8,
   "id": "b9fac266",
   "metadata": {},
   "outputs": [
    {
     "data": {
      "text/plain": [
       "['1907', '10', '01']"
      ]
     },
     "execution_count": 8,
     "metadata": {},
     "output_type": "execute_result"
    }
   ],
   "source": [
    "df_temp['날짜'][0].split('-')"
   ]
  },
  {
   "cell_type": "code",
   "execution_count": 9,
   "id": "0f11b734",
   "metadata": {},
   "outputs": [
    {
     "data": {
      "text/plain": [
       "39926"
      ]
     },
     "execution_count": 9,
     "metadata": {},
     "output_type": "execute_result"
    }
   ],
   "source": [
    "length = len(df_temp['날짜'])\n",
    "length"
   ]
  },
  {
   "cell_type": "code",
   "execution_count": 10,
   "id": "0447936f",
   "metadata": {},
   "outputs": [],
   "source": [
    "for i in range(0, length) :\n",
    "    token = df_temp['날짜'][i].split('-')\n",
    "#     print(token[0], token[1], token[2])\n",
    "    year.append(int(token[0])) \n",
    "    month.append(int(token[1]))\n",
    "    day.append(int(token[2]))"
   ]
  },
  {
   "cell_type": "code",
   "execution_count": 11,
   "id": "02bb105b",
   "metadata": {},
   "outputs": [
    {
     "data": {
      "text/plain": [
       "39926"
      ]
     },
     "execution_count": 11,
     "metadata": {},
     "output_type": "execute_result"
    }
   ],
   "source": [
    "len(year)"
   ]
  },
  {
   "cell_type": "code",
   "execution_count": 12,
   "id": "f1bb9a6b",
   "metadata": {},
   "outputs": [
    {
     "data": {
      "text/html": [
       "<div>\n",
       "<style scoped>\n",
       "    .dataframe tbody tr th:only-of-type {\n",
       "        vertical-align: middle;\n",
       "    }\n",
       "\n",
       "    .dataframe tbody tr th {\n",
       "        vertical-align: top;\n",
       "    }\n",
       "\n",
       "    .dataframe thead th {\n",
       "        text-align: right;\n",
       "    }\n",
       "</style>\n",
       "<table border=\"1\" class=\"dataframe\">\n",
       "  <thead>\n",
       "    <tr style=\"text-align: right;\">\n",
       "      <th></th>\n",
       "      <th>날짜</th>\n",
       "      <th>평균기온(℃)</th>\n",
       "      <th>최저기온(℃)</th>\n",
       "      <th>최고기온(℃)</th>\n",
       "      <th>연도</th>\n",
       "      <th>월</th>\n",
       "      <th>일</th>\n",
       "    </tr>\n",
       "  </thead>\n",
       "  <tbody>\n",
       "    <tr>\n",
       "      <th>0</th>\n",
       "      <td>1907-10-01</td>\n",
       "      <td>13.5</td>\n",
       "      <td>7.9</td>\n",
       "      <td>20.7</td>\n",
       "      <td>1907</td>\n",
       "      <td>10</td>\n",
       "      <td>1</td>\n",
       "    </tr>\n",
       "    <tr>\n",
       "      <th>1</th>\n",
       "      <td>1907-10-02</td>\n",
       "      <td>16.2</td>\n",
       "      <td>7.9</td>\n",
       "      <td>22.0</td>\n",
       "      <td>1907</td>\n",
       "      <td>10</td>\n",
       "      <td>2</td>\n",
       "    </tr>\n",
       "    <tr>\n",
       "      <th>2</th>\n",
       "      <td>1907-10-03</td>\n",
       "      <td>16.2</td>\n",
       "      <td>13.1</td>\n",
       "      <td>21.3</td>\n",
       "      <td>1907</td>\n",
       "      <td>10</td>\n",
       "      <td>3</td>\n",
       "    </tr>\n",
       "    <tr>\n",
       "      <th>3</th>\n",
       "      <td>1907-10-04</td>\n",
       "      <td>16.5</td>\n",
       "      <td>11.2</td>\n",
       "      <td>22.0</td>\n",
       "      <td>1907</td>\n",
       "      <td>10</td>\n",
       "      <td>4</td>\n",
       "    </tr>\n",
       "    <tr>\n",
       "      <th>4</th>\n",
       "      <td>1907-10-05</td>\n",
       "      <td>17.6</td>\n",
       "      <td>10.9</td>\n",
       "      <td>25.4</td>\n",
       "      <td>1907</td>\n",
       "      <td>10</td>\n",
       "      <td>5</td>\n",
       "    </tr>\n",
       "  </tbody>\n",
       "</table>\n",
       "</div>"
      ],
      "text/plain": [
       "           날짜  평균기온(℃)  최저기온(℃)  최고기온(℃)    연도   월  일\n",
       "0  1907-10-01     13.5      7.9     20.7  1907  10  1\n",
       "1  1907-10-02     16.2      7.9     22.0  1907  10  2\n",
       "2  1907-10-03     16.2     13.1     21.3  1907  10  3\n",
       "3  1907-10-04     16.5     11.2     22.0  1907  10  4\n",
       "4  1907-10-05     17.6     10.9     25.4  1907  10  5"
      ]
     },
     "execution_count": 12,
     "metadata": {},
     "output_type": "execute_result"
    }
   ],
   "source": [
    "df_temp['연도'] = year\n",
    "df_temp['월'] = month\n",
    "df_temp['일'] = day\n",
    "df_temp.head()"
   ]
  },
  {
   "cell_type": "markdown",
   "id": "365e3b53",
   "metadata": {},
   "source": [
    "* 일교차 column 추가"
   ]
  },
  {
   "cell_type": "code",
   "execution_count": 13,
   "id": "e4682ff4",
   "metadata": {},
   "outputs": [
    {
     "data": {
      "text/html": [
       "<div>\n",
       "<style scoped>\n",
       "    .dataframe tbody tr th:only-of-type {\n",
       "        vertical-align: middle;\n",
       "    }\n",
       "\n",
       "    .dataframe tbody tr th {\n",
       "        vertical-align: top;\n",
       "    }\n",
       "\n",
       "    .dataframe thead th {\n",
       "        text-align: right;\n",
       "    }\n",
       "</style>\n",
       "<table border=\"1\" class=\"dataframe\">\n",
       "  <thead>\n",
       "    <tr style=\"text-align: right;\">\n",
       "      <th></th>\n",
       "      <th>날짜</th>\n",
       "      <th>평균기온(℃)</th>\n",
       "      <th>최저기온(℃)</th>\n",
       "      <th>최고기온(℃)</th>\n",
       "      <th>연도</th>\n",
       "      <th>월</th>\n",
       "      <th>일</th>\n",
       "      <th>일교차(℃)</th>\n",
       "    </tr>\n",
       "  </thead>\n",
       "  <tbody>\n",
       "    <tr>\n",
       "      <th>0</th>\n",
       "      <td>1907-10-01</td>\n",
       "      <td>13.5</td>\n",
       "      <td>7.9</td>\n",
       "      <td>20.7</td>\n",
       "      <td>1907</td>\n",
       "      <td>10</td>\n",
       "      <td>1</td>\n",
       "      <td>12.8</td>\n",
       "    </tr>\n",
       "    <tr>\n",
       "      <th>1</th>\n",
       "      <td>1907-10-02</td>\n",
       "      <td>16.2</td>\n",
       "      <td>7.9</td>\n",
       "      <td>22.0</td>\n",
       "      <td>1907</td>\n",
       "      <td>10</td>\n",
       "      <td>2</td>\n",
       "      <td>14.1</td>\n",
       "    </tr>\n",
       "    <tr>\n",
       "      <th>2</th>\n",
       "      <td>1907-10-03</td>\n",
       "      <td>16.2</td>\n",
       "      <td>13.1</td>\n",
       "      <td>21.3</td>\n",
       "      <td>1907</td>\n",
       "      <td>10</td>\n",
       "      <td>3</td>\n",
       "      <td>8.2</td>\n",
       "    </tr>\n",
       "    <tr>\n",
       "      <th>3</th>\n",
       "      <td>1907-10-04</td>\n",
       "      <td>16.5</td>\n",
       "      <td>11.2</td>\n",
       "      <td>22.0</td>\n",
       "      <td>1907</td>\n",
       "      <td>10</td>\n",
       "      <td>4</td>\n",
       "      <td>10.8</td>\n",
       "    </tr>\n",
       "    <tr>\n",
       "      <th>4</th>\n",
       "      <td>1907-10-05</td>\n",
       "      <td>17.6</td>\n",
       "      <td>10.9</td>\n",
       "      <td>25.4</td>\n",
       "      <td>1907</td>\n",
       "      <td>10</td>\n",
       "      <td>5</td>\n",
       "      <td>14.5</td>\n",
       "    </tr>\n",
       "  </tbody>\n",
       "</table>\n",
       "</div>"
      ],
      "text/plain": [
       "           날짜  평균기온(℃)  최저기온(℃)  최고기온(℃)    연도   월  일  일교차(℃)\n",
       "0  1907-10-01     13.5      7.9     20.7  1907  10  1    12.8\n",
       "1  1907-10-02     16.2      7.9     22.0  1907  10  2    14.1\n",
       "2  1907-10-03     16.2     13.1     21.3  1907  10  3     8.2\n",
       "3  1907-10-04     16.5     11.2     22.0  1907  10  4    10.8\n",
       "4  1907-10-05     17.6     10.9     25.4  1907  10  5    14.5"
      ]
     },
     "execution_count": 13,
     "metadata": {},
     "output_type": "execute_result"
    }
   ],
   "source": [
    "diff = []\n",
    "for i in range(0, length) :\n",
    "    diff.append(df_temp['최고기온(℃)'][i] - df_temp['최저기온(℃)'][i])\n",
    "    \n",
    "df_temp['일교차(℃)'] = diff\n",
    "df_temp.head()"
   ]
  },
  {
   "cell_type": "markdown",
   "id": "81d5573b",
   "metadata": {},
   "source": [
    "* column의 순서 정리"
   ]
  },
  {
   "cell_type": "code",
   "execution_count": 14,
   "id": "95e2d0d9",
   "metadata": {
    "scrolled": true
   },
   "outputs": [
    {
     "data": {
      "text/html": [
       "<div>\n",
       "<style scoped>\n",
       "    .dataframe tbody tr th:only-of-type {\n",
       "        vertical-align: middle;\n",
       "    }\n",
       "\n",
       "    .dataframe tbody tr th {\n",
       "        vertical-align: top;\n",
       "    }\n",
       "\n",
       "    .dataframe thead th {\n",
       "        text-align: right;\n",
       "    }\n",
       "</style>\n",
       "<table border=\"1\" class=\"dataframe\">\n",
       "  <thead>\n",
       "    <tr style=\"text-align: right;\">\n",
       "      <th></th>\n",
       "      <th>날짜</th>\n",
       "      <th>연도</th>\n",
       "      <th>월</th>\n",
       "      <th>일</th>\n",
       "      <th>평균기온(℃)</th>\n",
       "      <th>최고기온(℃)</th>\n",
       "      <th>최저기온(℃)</th>\n",
       "      <th>일교차(℃)</th>\n",
       "    </tr>\n",
       "  </thead>\n",
       "  <tbody>\n",
       "    <tr>\n",
       "      <th>39921</th>\n",
       "      <td>2018-03-24</td>\n",
       "      <td>2018</td>\n",
       "      <td>3</td>\n",
       "      <td>24</td>\n",
       "      <td>7.6</td>\n",
       "      <td>13.1</td>\n",
       "      <td>4.0</td>\n",
       "      <td>9.1</td>\n",
       "    </tr>\n",
       "    <tr>\n",
       "      <th>39922</th>\n",
       "      <td>2018-03-25</td>\n",
       "      <td>2018</td>\n",
       "      <td>3</td>\n",
       "      <td>25</td>\n",
       "      <td>9.6</td>\n",
       "      <td>16.9</td>\n",
       "      <td>4.6</td>\n",
       "      <td>12.3</td>\n",
       "    </tr>\n",
       "    <tr>\n",
       "      <th>39923</th>\n",
       "      <td>2018-03-26</td>\n",
       "      <td>2018</td>\n",
       "      <td>3</td>\n",
       "      <td>26</td>\n",
       "      <td>11.0</td>\n",
       "      <td>18.1</td>\n",
       "      <td>5.3</td>\n",
       "      <td>12.8</td>\n",
       "    </tr>\n",
       "    <tr>\n",
       "      <th>39924</th>\n",
       "      <td>2018-03-27</td>\n",
       "      <td>2018</td>\n",
       "      <td>3</td>\n",
       "      <td>27</td>\n",
       "      <td>13.3</td>\n",
       "      <td>20.0</td>\n",
       "      <td>7.7</td>\n",
       "      <td>12.3</td>\n",
       "    </tr>\n",
       "    <tr>\n",
       "      <th>39925</th>\n",
       "      <td>2018-03-28</td>\n",
       "      <td>2018</td>\n",
       "      <td>3</td>\n",
       "      <td>28</td>\n",
       "      <td>14.0</td>\n",
       "      <td>19.0</td>\n",
       "      <td>9.4</td>\n",
       "      <td>9.6</td>\n",
       "    </tr>\n",
       "  </tbody>\n",
       "</table>\n",
       "</div>"
      ],
      "text/plain": [
       "               날짜    연도  월   일  평균기온(℃)  최고기온(℃)  최저기온(℃)  일교차(℃)\n",
       "39921  2018-03-24  2018  3  24      7.6     13.1      4.0     9.1\n",
       "39922  2018-03-25  2018  3  25      9.6     16.9      4.6    12.3\n",
       "39923  2018-03-26  2018  3  26     11.0     18.1      5.3    12.8\n",
       "39924  2018-03-27  2018  3  27     13.3     20.0      7.7    12.3\n",
       "39925  2018-03-28  2018  3  28     14.0     19.0      9.4     9.6"
      ]
     },
     "execution_count": 14,
     "metadata": {},
     "output_type": "execute_result"
    }
   ],
   "source": [
    "df_temp = df_temp[['날짜', '연도', '월', '일',\n",
    "                   '평균기온(℃)', '최고기온(℃)', '최저기온(℃)', '일교차(℃)']]\n",
    "df_temp.tail()"
   ]
  },
  {
   "cell_type": "markdown",
   "id": "7e64f461",
   "metadata": {},
   "source": [
    "## 데이터 info"
   ]
  },
  {
   "cell_type": "code",
   "execution_count": 15,
   "id": "6c00dc66",
   "metadata": {
    "scrolled": false
   },
   "outputs": [
    {
     "name": "stdout",
     "output_type": "stream",
     "text": [
      "<class 'pandas.core.frame.DataFrame'>\n",
      "RangeIndex: 39926 entries, 0 to 39925\n",
      "Data columns (total 8 columns):\n",
      " #   Column   Non-Null Count  Dtype  \n",
      "---  ------   --------------  -----  \n",
      " 0   날짜       39926 non-null  object \n",
      " 1   연도       39926 non-null  int64  \n",
      " 2   월        39926 non-null  int64  \n",
      " 3   일        39926 non-null  int64  \n",
      " 4   평균기온(℃)  39170 non-null  float64\n",
      " 5   최고기온(℃)  39168 non-null  float64\n",
      " 6   최저기온(℃)  39169 non-null  float64\n",
      " 7   일교차(℃)   39168 non-null  float64\n",
      "dtypes: float64(4), int64(3), object(1)\n",
      "memory usage: 2.4+ MB\n"
     ]
    }
   ],
   "source": [
    "df_temp.info()"
   ]
  },
  {
   "cell_type": "code",
   "execution_count": 16,
   "id": "51728fd8",
   "metadata": {},
   "outputs": [
    {
     "data": {
      "text/plain": [
       "날짜           0\n",
       "연도           0\n",
       "월            0\n",
       "일            0\n",
       "평균기온(℃)    756\n",
       "최고기온(℃)    758\n",
       "최저기온(℃)    757\n",
       "일교차(℃)     758\n",
       "dtype: int64"
      ]
     },
     "execution_count": 16,
     "metadata": {},
     "output_type": "execute_result"
    }
   ],
   "source": [
    "df_temp.isnull().sum()"
   ]
  },
  {
   "cell_type": "markdown",
   "id": "de8c91af",
   "metadata": {},
   "source": [
    "# 1. 서울이 가장 더웠던 날은 언제였을까?"
   ]
  },
  {
   "cell_type": "code",
   "execution_count": 17,
   "id": "f52d934b",
   "metadata": {},
   "outputs": [
    {
     "name": "stdout",
     "output_type": "stream",
     "text": [
      "38.4\n"
     ]
    }
   ],
   "source": [
    "highest_temp = max(df_temp['최고기온(℃)'])\n",
    "print(highest_temp)"
   ]
  },
  {
   "cell_type": "code",
   "execution_count": 18,
   "id": "2f84d05e",
   "metadata": {},
   "outputs": [
    {
     "data": {
      "text/html": [
       "<div>\n",
       "<style scoped>\n",
       "    .dataframe tbody tr th:only-of-type {\n",
       "        vertical-align: middle;\n",
       "    }\n",
       "\n",
       "    .dataframe tbody tr th {\n",
       "        vertical-align: top;\n",
       "    }\n",
       "\n",
       "    .dataframe thead th {\n",
       "        text-align: right;\n",
       "    }\n",
       "</style>\n",
       "<table border=\"1\" class=\"dataframe\">\n",
       "  <thead>\n",
       "    <tr style=\"text-align: right;\">\n",
       "      <th></th>\n",
       "      <th>날짜</th>\n",
       "      <th>연도</th>\n",
       "      <th>월</th>\n",
       "      <th>일</th>\n",
       "      <th>평균기온(℃)</th>\n",
       "      <th>최고기온(℃)</th>\n",
       "      <th>최저기온(℃)</th>\n",
       "      <th>일교차(℃)</th>\n",
       "    </tr>\n",
       "  </thead>\n",
       "  <tbody>\n",
       "    <tr>\n",
       "      <th>31277</th>\n",
       "      <td>1994-07-24</td>\n",
       "      <td>1994</td>\n",
       "      <td>7</td>\n",
       "      <td>24</td>\n",
       "      <td>33.1</td>\n",
       "      <td>38.4</td>\n",
       "      <td>28.1</td>\n",
       "      <td>10.3</td>\n",
       "    </tr>\n",
       "  </tbody>\n",
       "</table>\n",
       "</div>"
      ],
      "text/plain": [
       "               날짜    연도  월   일  평균기온(℃)  최고기온(℃)  최저기온(℃)  일교차(℃)\n",
       "31277  1994-07-24  1994  7  24     33.1     38.4     28.1    10.3"
      ]
     },
     "execution_count": 18,
     "metadata": {},
     "output_type": "execute_result"
    }
   ],
   "source": [
    "highest_row = df_temp[df_temp['최고기온(℃)'] == highest_temp]\n",
    "highest_row"
   ]
  },
  {
   "cell_type": "code",
   "execution_count": 19,
   "id": "3f3a58b1",
   "metadata": {},
   "outputs": [
    {
     "data": {
      "text/plain": [
       "pandas.core.frame.DataFrame"
      ]
     },
     "execution_count": 19,
     "metadata": {},
     "output_type": "execute_result"
    }
   ],
   "source": [
    "type(highest_row)"
   ]
  },
  {
   "cell_type": "code",
   "execution_count": 20,
   "id": "884650c6",
   "metadata": {
    "scrolled": false
   },
   "outputs": [
    {
     "name": "stdout",
     "output_type": "stream",
     "text": [
      "1994\n",
      "7\n",
      "24\n"
     ]
    }
   ],
   "source": [
    "# print(highest_row['날짜'])\n",
    "# print(highest_row['연도'])\n",
    "# print(highest_row['월'])\n",
    "# print(highest_row['일'])\n",
    "\n",
    "highest_year = highest_row['연도'].to_string(index = False)\n",
    "highest_month = highest_row['월'].to_string(index = False)\n",
    "highest_day = highest_row['일'].to_string(index = False)\n",
    "\n",
    "print(highest_year)\n",
    "print(highest_month)\n",
    "print(highest_day)"
   ]
  },
  {
   "cell_type": "code",
   "execution_count": 21,
   "id": "f334efa8",
   "metadata": {
    "scrolled": false
   },
   "outputs": [
    {
     "name": "stdout",
     "output_type": "stream",
     "text": [
      "서울이 가장 더웠던 날 : 1994년 7월 24일\n"
     ]
    }
   ],
   "source": [
    "print(f'서울이 가장 더웠던 날 : {highest_year}년 {highest_month}월 {highest_day}일')"
   ]
  },
  {
   "cell_type": "markdown",
   "id": "3ae28d69",
   "metadata": {},
   "source": [
    "# "
   ]
  },
  {
   "cell_type": "markdown",
   "id": "470a4a8c",
   "metadata": {},
   "source": [
    "# 2. 내 생일의 기온 변화를 그래프로 그려보자"
   ]
  },
  {
   "cell_type": "code",
   "execution_count": 22,
   "id": "946967d8",
   "metadata": {},
   "outputs": [],
   "source": [
    "birth_month = 10\n",
    "birth_day = 4"
   ]
  },
  {
   "cell_type": "code",
   "execution_count": 23,
   "id": "6b86f985",
   "metadata": {
    "scrolled": true
   },
   "outputs": [
    {
     "data": {
      "text/html": [
       "<div>\n",
       "<style scoped>\n",
       "    .dataframe tbody tr th:only-of-type {\n",
       "        vertical-align: middle;\n",
       "    }\n",
       "\n",
       "    .dataframe tbody tr th {\n",
       "        vertical-align: top;\n",
       "    }\n",
       "\n",
       "    .dataframe thead th {\n",
       "        text-align: right;\n",
       "    }\n",
       "</style>\n",
       "<table border=\"1\" class=\"dataframe\">\n",
       "  <thead>\n",
       "    <tr style=\"text-align: right;\">\n",
       "      <th></th>\n",
       "      <th>날짜</th>\n",
       "      <th>연도</th>\n",
       "      <th>월</th>\n",
       "      <th>일</th>\n",
       "      <th>평균기온(℃)</th>\n",
       "      <th>최고기온(℃)</th>\n",
       "      <th>최저기온(℃)</th>\n",
       "      <th>일교차(℃)</th>\n",
       "    </tr>\n",
       "  </thead>\n",
       "  <tbody>\n",
       "    <tr>\n",
       "      <th>0</th>\n",
       "      <td>1907-10-01</td>\n",
       "      <td>1907</td>\n",
       "      <td>10</td>\n",
       "      <td>1</td>\n",
       "      <td>13.5</td>\n",
       "      <td>20.7</td>\n",
       "      <td>7.9</td>\n",
       "      <td>12.8</td>\n",
       "    </tr>\n",
       "    <tr>\n",
       "      <th>1</th>\n",
       "      <td>1907-10-02</td>\n",
       "      <td>1907</td>\n",
       "      <td>10</td>\n",
       "      <td>2</td>\n",
       "      <td>16.2</td>\n",
       "      <td>22.0</td>\n",
       "      <td>7.9</td>\n",
       "      <td>14.1</td>\n",
       "    </tr>\n",
       "    <tr>\n",
       "      <th>2</th>\n",
       "      <td>1907-10-03</td>\n",
       "      <td>1907</td>\n",
       "      <td>10</td>\n",
       "      <td>3</td>\n",
       "      <td>16.2</td>\n",
       "      <td>21.3</td>\n",
       "      <td>13.1</td>\n",
       "      <td>8.2</td>\n",
       "    </tr>\n",
       "    <tr>\n",
       "      <th>3</th>\n",
       "      <td>1907-10-04</td>\n",
       "      <td>1907</td>\n",
       "      <td>10</td>\n",
       "      <td>4</td>\n",
       "      <td>16.5</td>\n",
       "      <td>22.0</td>\n",
       "      <td>11.2</td>\n",
       "      <td>10.8</td>\n",
       "    </tr>\n",
       "    <tr>\n",
       "      <th>4</th>\n",
       "      <td>1907-10-05</td>\n",
       "      <td>1907</td>\n",
       "      <td>10</td>\n",
       "      <td>5</td>\n",
       "      <td>17.6</td>\n",
       "      <td>25.4</td>\n",
       "      <td>10.9</td>\n",
       "      <td>14.5</td>\n",
       "    </tr>\n",
       "  </tbody>\n",
       "</table>\n",
       "</div>"
      ],
      "text/plain": [
       "           날짜    연도   월  일  평균기온(℃)  최고기온(℃)  최저기온(℃)  일교차(℃)\n",
       "0  1907-10-01  1907  10  1     13.5     20.7      7.9    12.8\n",
       "1  1907-10-02  1907  10  2     16.2     22.0      7.9    14.1\n",
       "2  1907-10-03  1907  10  3     16.2     21.3     13.1     8.2\n",
       "3  1907-10-04  1907  10  4     16.5     22.0     11.2    10.8\n",
       "4  1907-10-05  1907  10  5     17.6     25.4     10.9    14.5"
      ]
     },
     "execution_count": 23,
     "metadata": {},
     "output_type": "execute_result"
    }
   ],
   "source": [
    "month_condi = df_temp['월'] == birth_month\n",
    "df_temp[month_condi].head()"
   ]
  },
  {
   "cell_type": "code",
   "execution_count": 24,
   "id": "2c8f3a3a",
   "metadata": {},
   "outputs": [
    {
     "data": {
      "text/html": [
       "<div>\n",
       "<style scoped>\n",
       "    .dataframe tbody tr th:only-of-type {\n",
       "        vertical-align: middle;\n",
       "    }\n",
       "\n",
       "    .dataframe tbody tr th {\n",
       "        vertical-align: top;\n",
       "    }\n",
       "\n",
       "    .dataframe thead th {\n",
       "        text-align: right;\n",
       "    }\n",
       "</style>\n",
       "<table border=\"1\" class=\"dataframe\">\n",
       "  <thead>\n",
       "    <tr style=\"text-align: right;\">\n",
       "      <th></th>\n",
       "      <th>날짜</th>\n",
       "      <th>연도</th>\n",
       "      <th>월</th>\n",
       "      <th>일</th>\n",
       "      <th>평균기온(℃)</th>\n",
       "      <th>최고기온(℃)</th>\n",
       "      <th>최저기온(℃)</th>\n",
       "      <th>일교차(℃)</th>\n",
       "    </tr>\n",
       "  </thead>\n",
       "  <tbody>\n",
       "    <tr>\n",
       "      <th>3</th>\n",
       "      <td>1907-10-04</td>\n",
       "      <td>1907</td>\n",
       "      <td>10</td>\n",
       "      <td>4</td>\n",
       "      <td>16.5</td>\n",
       "      <td>22.0</td>\n",
       "      <td>11.2</td>\n",
       "      <td>10.8</td>\n",
       "    </tr>\n",
       "    <tr>\n",
       "      <th>34</th>\n",
       "      <td>1907-11-04</td>\n",
       "      <td>1907</td>\n",
       "      <td>11</td>\n",
       "      <td>4</td>\n",
       "      <td>5.9</td>\n",
       "      <td>13.6</td>\n",
       "      <td>-1.0</td>\n",
       "      <td>14.6</td>\n",
       "    </tr>\n",
       "    <tr>\n",
       "      <th>64</th>\n",
       "      <td>1907-12-04</td>\n",
       "      <td>1907</td>\n",
       "      <td>12</td>\n",
       "      <td>4</td>\n",
       "      <td>-1.2</td>\n",
       "      <td>1.3</td>\n",
       "      <td>-2.7</td>\n",
       "      <td>4.0</td>\n",
       "    </tr>\n",
       "    <tr>\n",
       "      <th>95</th>\n",
       "      <td>1908-01-04</td>\n",
       "      <td>1908</td>\n",
       "      <td>1</td>\n",
       "      <td>4</td>\n",
       "      <td>-7.5</td>\n",
       "      <td>-1.7</td>\n",
       "      <td>-12.8</td>\n",
       "      <td>11.1</td>\n",
       "    </tr>\n",
       "    <tr>\n",
       "      <th>126</th>\n",
       "      <td>1908-02-04</td>\n",
       "      <td>1908</td>\n",
       "      <td>2</td>\n",
       "      <td>4</td>\n",
       "      <td>-7.0</td>\n",
       "      <td>-4.1</td>\n",
       "      <td>-10.3</td>\n",
       "      <td>6.2</td>\n",
       "    </tr>\n",
       "  </tbody>\n",
       "</table>\n",
       "</div>"
      ],
      "text/plain": [
       "             날짜    연도   월  일  평균기온(℃)  최고기온(℃)  최저기온(℃)  일교차(℃)\n",
       "3    1907-10-04  1907  10  4     16.5     22.0     11.2    10.8\n",
       "34   1907-11-04  1907  11  4      5.9     13.6     -1.0    14.6\n",
       "64   1907-12-04  1907  12  4     -1.2      1.3     -2.7     4.0\n",
       "95   1908-01-04  1908   1  4     -7.5     -1.7    -12.8    11.1\n",
       "126  1908-02-04  1908   2  4     -7.0     -4.1    -10.3     6.2"
      ]
     },
     "execution_count": 24,
     "metadata": {},
     "output_type": "execute_result"
    }
   ],
   "source": [
    "day_condi = df_temp['일'] == birth_day\n",
    "df_temp[day_condi].head()"
   ]
  },
  {
   "cell_type": "code",
   "execution_count": 25,
   "id": "6701a09d",
   "metadata": {},
   "outputs": [
    {
     "data": {
      "text/html": [
       "<div>\n",
       "<style scoped>\n",
       "    .dataframe tbody tr th:only-of-type {\n",
       "        vertical-align: middle;\n",
       "    }\n",
       "\n",
       "    .dataframe tbody tr th {\n",
       "        vertical-align: top;\n",
       "    }\n",
       "\n",
       "    .dataframe thead th {\n",
       "        text-align: right;\n",
       "    }\n",
       "</style>\n",
       "<table border=\"1\" class=\"dataframe\">\n",
       "  <thead>\n",
       "    <tr style=\"text-align: right;\">\n",
       "      <th></th>\n",
       "      <th>날짜</th>\n",
       "      <th>연도</th>\n",
       "      <th>월</th>\n",
       "      <th>일</th>\n",
       "      <th>평균기온(℃)</th>\n",
       "      <th>최고기온(℃)</th>\n",
       "      <th>최저기온(℃)</th>\n",
       "      <th>일교차(℃)</th>\n",
       "    </tr>\n",
       "  </thead>\n",
       "  <tbody>\n",
       "    <tr>\n",
       "      <th>38289</th>\n",
       "      <td>2013-10-04</td>\n",
       "      <td>2013</td>\n",
       "      <td>10</td>\n",
       "      <td>4</td>\n",
       "      <td>17.4</td>\n",
       "      <td>25.1</td>\n",
       "      <td>10.7</td>\n",
       "      <td>14.4</td>\n",
       "    </tr>\n",
       "    <tr>\n",
       "      <th>38654</th>\n",
       "      <td>2014-10-04</td>\n",
       "      <td>2014</td>\n",
       "      <td>10</td>\n",
       "      <td>4</td>\n",
       "      <td>16.9</td>\n",
       "      <td>23.0</td>\n",
       "      <td>11.6</td>\n",
       "      <td>11.4</td>\n",
       "    </tr>\n",
       "    <tr>\n",
       "      <th>39019</th>\n",
       "      <td>2015-10-04</td>\n",
       "      <td>2015</td>\n",
       "      <td>10</td>\n",
       "      <td>4</td>\n",
       "      <td>16.6</td>\n",
       "      <td>22.4</td>\n",
       "      <td>11.2</td>\n",
       "      <td>11.2</td>\n",
       "    </tr>\n",
       "    <tr>\n",
       "      <th>39385</th>\n",
       "      <td>2016-10-04</td>\n",
       "      <td>2016</td>\n",
       "      <td>10</td>\n",
       "      <td>4</td>\n",
       "      <td>22.0</td>\n",
       "      <td>29.0</td>\n",
       "      <td>15.6</td>\n",
       "      <td>13.4</td>\n",
       "    </tr>\n",
       "    <tr>\n",
       "      <th>39750</th>\n",
       "      <td>2017-10-04</td>\n",
       "      <td>2017</td>\n",
       "      <td>10</td>\n",
       "      <td>4</td>\n",
       "      <td>16.7</td>\n",
       "      <td>24.3</td>\n",
       "      <td>10.7</td>\n",
       "      <td>13.6</td>\n",
       "    </tr>\n",
       "  </tbody>\n",
       "</table>\n",
       "</div>"
      ],
      "text/plain": [
       "               날짜    연도   월  일  평균기온(℃)  최고기온(℃)  최저기온(℃)  일교차(℃)\n",
       "38289  2013-10-04  2013  10  4     17.4     25.1     10.7    14.4\n",
       "38654  2014-10-04  2014  10  4     16.9     23.0     11.6    11.4\n",
       "39019  2015-10-04  2015  10  4     16.6     22.4     11.2    11.2\n",
       "39385  2016-10-04  2016  10  4     22.0     29.0     15.6    13.4\n",
       "39750  2017-10-04  2017  10  4     16.7     24.3     10.7    13.6"
      ]
     },
     "execution_count": 25,
     "metadata": {},
     "output_type": "execute_result"
    }
   ],
   "source": [
    "df_birth = df_temp[month_condi & day_condi]\n",
    "df_birth.tail()"
   ]
  },
  {
   "cell_type": "code",
   "execution_count": 26,
   "id": "9e36ea87",
   "metadata": {
    "scrolled": true
   },
   "outputs": [
    {
     "data": {
      "image/png": "[encoded data removed]",
      "text/plain": [
       "<Figure size 1008x360 with 1 Axes>"
      ]
     },
     "metadata": {
      "needs_background": "light"
     },
     "output_type": "display_data"
    }
   ],
   "source": [
    "plt.figure(figsize = (14, 5))\n",
    "plt.style.use('ggplot')\n",
    "plt.plot(df_birth['연도'], df_birth['평균기온(℃)'], marker = 'o', markersize = 5)\n",
    "plt.title(f'내 생일({birth_month}월 {birth_day}일)의 기온 변화 그래프')\n",
    "plt.show()"
   ]
  },
  {
   "cell_type": "markdown",
   "id": "160ac96f",
   "metadata": {},
   "source": [
    "# 3. 연도별 서울 8월 1일 기온에 대한 누적치 히스토그램 작성"
   ]
  },
  {
   "cell_type": "code",
   "execution_count": 27,
   "id": "c5c154d7",
   "metadata": {},
   "outputs": [
    {
     "data": {
      "text/html": [
       "<div>\n",
       "<style scoped>\n",
       "    .dataframe tbody tr th:only-of-type {\n",
       "        vertical-align: middle;\n",
       "    }\n",
       "\n",
       "    .dataframe tbody tr th {\n",
       "        vertical-align: top;\n",
       "    }\n",
       "\n",
       "    .dataframe thead th {\n",
       "        text-align: right;\n",
       "    }\n",
       "</style>\n",
       "<table border=\"1\" class=\"dataframe\">\n",
       "  <thead>\n",
       "    <tr style=\"text-align: right;\">\n",
       "      <th></th>\n",
       "      <th>날짜</th>\n",
       "      <th>연도</th>\n",
       "      <th>월</th>\n",
       "      <th>일</th>\n",
       "      <th>평균기온(℃)</th>\n",
       "      <th>최고기온(℃)</th>\n",
       "      <th>최저기온(℃)</th>\n",
       "      <th>일교차(℃)</th>\n",
       "    </tr>\n",
       "  </thead>\n",
       "  <tbody>\n",
       "    <tr>\n",
       "      <th>0</th>\n",
       "      <td>1907-10-01</td>\n",
       "      <td>1907</td>\n",
       "      <td>10</td>\n",
       "      <td>1</td>\n",
       "      <td>13.5</td>\n",
       "      <td>20.7</td>\n",
       "      <td>7.9</td>\n",
       "      <td>12.8</td>\n",
       "    </tr>\n",
       "    <tr>\n",
       "      <th>1</th>\n",
       "      <td>1907-10-02</td>\n",
       "      <td>1907</td>\n",
       "      <td>10</td>\n",
       "      <td>2</td>\n",
       "      <td>16.2</td>\n",
       "      <td>22.0</td>\n",
       "      <td>7.9</td>\n",
       "      <td>14.1</td>\n",
       "    </tr>\n",
       "    <tr>\n",
       "      <th>2</th>\n",
       "      <td>1907-10-03</td>\n",
       "      <td>1907</td>\n",
       "      <td>10</td>\n",
       "      <td>3</td>\n",
       "      <td>16.2</td>\n",
       "      <td>21.3</td>\n",
       "      <td>13.1</td>\n",
       "      <td>8.2</td>\n",
       "    </tr>\n",
       "    <tr>\n",
       "      <th>3</th>\n",
       "      <td>1907-10-04</td>\n",
       "      <td>1907</td>\n",
       "      <td>10</td>\n",
       "      <td>4</td>\n",
       "      <td>16.5</td>\n",
       "      <td>22.0</td>\n",
       "      <td>11.2</td>\n",
       "      <td>10.8</td>\n",
       "    </tr>\n",
       "    <tr>\n",
       "      <th>4</th>\n",
       "      <td>1907-10-05</td>\n",
       "      <td>1907</td>\n",
       "      <td>10</td>\n",
       "      <td>5</td>\n",
       "      <td>17.6</td>\n",
       "      <td>25.4</td>\n",
       "      <td>10.9</td>\n",
       "      <td>14.5</td>\n",
       "    </tr>\n",
       "  </tbody>\n",
       "</table>\n",
       "</div>"
      ],
      "text/plain": [
       "           날짜    연도   월  일  평균기온(℃)  최고기온(℃)  최저기온(℃)  일교차(℃)\n",
       "0  1907-10-01  1907  10  1     13.5     20.7      7.9    12.8\n",
       "1  1907-10-02  1907  10  2     16.2     22.0      7.9    14.1\n",
       "2  1907-10-03  1907  10  3     16.2     21.3     13.1     8.2\n",
       "3  1907-10-04  1907  10  4     16.5     22.0     11.2    10.8\n",
       "4  1907-10-05  1907  10  5     17.6     25.4     10.9    14.5"
      ]
     },
     "execution_count": 27,
     "metadata": {},
     "output_type": "execute_result"
    }
   ],
   "source": [
    "df_temp.head()"
   ]
  },
  {
   "cell_type": "code",
   "execution_count": 28,
   "id": "687059f3",
   "metadata": {},
   "outputs": [
    {
     "name": "stdout",
     "output_type": "stream",
     "text": [
      "<class 'pandas.core.frame.DataFrame'>\n",
      "RangeIndex: 39926 entries, 0 to 39925\n",
      "Data columns (total 8 columns):\n",
      " #   Column   Non-Null Count  Dtype  \n",
      "---  ------   --------------  -----  \n",
      " 0   날짜       39926 non-null  object \n",
      " 1   연도       39926 non-null  int64  \n",
      " 2   월        39926 non-null  int64  \n",
      " 3   일        39926 non-null  int64  \n",
      " 4   평균기온(℃)  39170 non-null  float64\n",
      " 5   최고기온(℃)  39168 non-null  float64\n",
      " 6   최저기온(℃)  39169 non-null  float64\n",
      " 7   일교차(℃)   39168 non-null  float64\n",
      "dtypes: float64(4), int64(3), object(1)\n",
      "memory usage: 2.4+ MB\n"
     ]
    }
   ],
   "source": [
    "df_temp.info()"
   ]
  },
  {
   "cell_type": "code",
   "execution_count": 29,
   "id": "c01da78f",
   "metadata": {},
   "outputs": [],
   "source": [
    "find_month1 = 8\n",
    "find_day1 = 1"
   ]
  },
  {
   "cell_type": "code",
   "execution_count": 30,
   "id": "1b73fd7b",
   "metadata": {},
   "outputs": [
    {
     "data": {
      "text/html": [
       "<div>\n",
       "<style scoped>\n",
       "    .dataframe tbody tr th:only-of-type {\n",
       "        vertical-align: middle;\n",
       "    }\n",
       "\n",
       "    .dataframe tbody tr th {\n",
       "        vertical-align: top;\n",
       "    }\n",
       "\n",
       "    .dataframe thead th {\n",
       "        text-align: right;\n",
       "    }\n",
       "</style>\n",
       "<table border=\"1\" class=\"dataframe\">\n",
       "  <thead>\n",
       "    <tr style=\"text-align: right;\">\n",
       "      <th></th>\n",
       "      <th>날짜</th>\n",
       "      <th>연도</th>\n",
       "      <th>월</th>\n",
       "      <th>일</th>\n",
       "      <th>평균기온(℃)</th>\n",
       "      <th>최고기온(℃)</th>\n",
       "      <th>최저기온(℃)</th>\n",
       "      <th>일교차(℃)</th>\n",
       "    </tr>\n",
       "  </thead>\n",
       "  <tbody>\n",
       "    <tr>\n",
       "      <th>305</th>\n",
       "      <td>1908-08-01</td>\n",
       "      <td>1908</td>\n",
       "      <td>8</td>\n",
       "      <td>1</td>\n",
       "      <td>26.2</td>\n",
       "      <td>29.6</td>\n",
       "      <td>24.4</td>\n",
       "      <td>5.2</td>\n",
       "    </tr>\n",
       "    <tr>\n",
       "      <th>306</th>\n",
       "      <td>1908-08-02</td>\n",
       "      <td>1908</td>\n",
       "      <td>8</td>\n",
       "      <td>2</td>\n",
       "      <td>26.4</td>\n",
       "      <td>30.7</td>\n",
       "      <td>23.3</td>\n",
       "      <td>7.4</td>\n",
       "    </tr>\n",
       "    <tr>\n",
       "      <th>307</th>\n",
       "      <td>1908-08-03</td>\n",
       "      <td>1908</td>\n",
       "      <td>8</td>\n",
       "      <td>3</td>\n",
       "      <td>26.9</td>\n",
       "      <td>32.0</td>\n",
       "      <td>24.2</td>\n",
       "      <td>7.8</td>\n",
       "    </tr>\n",
       "    <tr>\n",
       "      <th>308</th>\n",
       "      <td>1908-08-04</td>\n",
       "      <td>1908</td>\n",
       "      <td>8</td>\n",
       "      <td>4</td>\n",
       "      <td>26.3</td>\n",
       "      <td>31.5</td>\n",
       "      <td>22.6</td>\n",
       "      <td>8.9</td>\n",
       "    </tr>\n",
       "    <tr>\n",
       "      <th>309</th>\n",
       "      <td>1908-08-05</td>\n",
       "      <td>1908</td>\n",
       "      <td>8</td>\n",
       "      <td>5</td>\n",
       "      <td>27.3</td>\n",
       "      <td>32.4</td>\n",
       "      <td>23.6</td>\n",
       "      <td>8.8</td>\n",
       "    </tr>\n",
       "  </tbody>\n",
       "</table>\n",
       "</div>"
      ],
      "text/plain": [
       "             날짜    연도  월  일  평균기온(℃)  최고기온(℃)  최저기온(℃)  일교차(℃)\n",
       "305  1908-08-01  1908  8  1     26.2     29.6     24.4     5.2\n",
       "306  1908-08-02  1908  8  2     26.4     30.7     23.3     7.4\n",
       "307  1908-08-03  1908  8  3     26.9     32.0     24.2     7.8\n",
       "308  1908-08-04  1908  8  4     26.3     31.5     22.6     8.9\n",
       "309  1908-08-05  1908  8  5     27.3     32.4     23.6     8.8"
      ]
     },
     "execution_count": 30,
     "metadata": {},
     "output_type": "execute_result"
    }
   ],
   "source": [
    "month_condi2 = df_temp['월'] == find_month1\n",
    "df_temp[month_condi2].head()"
   ]
  },
  {
   "cell_type": "code",
   "execution_count": 31,
   "id": "37a53234",
   "metadata": {},
   "outputs": [
    {
     "data": {
      "text/html": [
       "<div>\n",
       "<style scoped>\n",
       "    .dataframe tbody tr th:only-of-type {\n",
       "        vertical-align: middle;\n",
       "    }\n",
       "\n",
       "    .dataframe tbody tr th {\n",
       "        vertical-align: top;\n",
       "    }\n",
       "\n",
       "    .dataframe thead th {\n",
       "        text-align: right;\n",
       "    }\n",
       "</style>\n",
       "<table border=\"1\" class=\"dataframe\">\n",
       "  <thead>\n",
       "    <tr style=\"text-align: right;\">\n",
       "      <th></th>\n",
       "      <th>날짜</th>\n",
       "      <th>연도</th>\n",
       "      <th>월</th>\n",
       "      <th>일</th>\n",
       "      <th>평균기온(℃)</th>\n",
       "      <th>최고기온(℃)</th>\n",
       "      <th>최저기온(℃)</th>\n",
       "      <th>일교차(℃)</th>\n",
       "    </tr>\n",
       "  </thead>\n",
       "  <tbody>\n",
       "    <tr>\n",
       "      <th>0</th>\n",
       "      <td>1907-10-01</td>\n",
       "      <td>1907</td>\n",
       "      <td>10</td>\n",
       "      <td>1</td>\n",
       "      <td>13.5</td>\n",
       "      <td>20.7</td>\n",
       "      <td>7.9</td>\n",
       "      <td>12.8</td>\n",
       "    </tr>\n",
       "    <tr>\n",
       "      <th>31</th>\n",
       "      <td>1907-11-01</td>\n",
       "      <td>1907</td>\n",
       "      <td>11</td>\n",
       "      <td>1</td>\n",
       "      <td>16.1</td>\n",
       "      <td>21.3</td>\n",
       "      <td>11.7</td>\n",
       "      <td>9.6</td>\n",
       "    </tr>\n",
       "    <tr>\n",
       "      <th>61</th>\n",
       "      <td>1907-12-01</td>\n",
       "      <td>1907</td>\n",
       "      <td>12</td>\n",
       "      <td>1</td>\n",
       "      <td>-4.6</td>\n",
       "      <td>1.4</td>\n",
       "      <td>-10.5</td>\n",
       "      <td>11.9</td>\n",
       "    </tr>\n",
       "    <tr>\n",
       "      <th>92</th>\n",
       "      <td>1908-01-01</td>\n",
       "      <td>1908</td>\n",
       "      <td>1</td>\n",
       "      <td>1</td>\n",
       "      <td>-5.9</td>\n",
       "      <td>-1.3</td>\n",
       "      <td>-9.1</td>\n",
       "      <td>7.8</td>\n",
       "    </tr>\n",
       "    <tr>\n",
       "      <th>123</th>\n",
       "      <td>1908-02-01</td>\n",
       "      <td>1908</td>\n",
       "      <td>2</td>\n",
       "      <td>1</td>\n",
       "      <td>-2.2</td>\n",
       "      <td>1.6</td>\n",
       "      <td>-6.4</td>\n",
       "      <td>8.0</td>\n",
       "    </tr>\n",
       "  </tbody>\n",
       "</table>\n",
       "</div>"
      ],
      "text/plain": [
       "             날짜    연도   월  일  평균기온(℃)  최고기온(℃)  최저기온(℃)  일교차(℃)\n",
       "0    1907-10-01  1907  10  1     13.5     20.7      7.9    12.8\n",
       "31   1907-11-01  1907  11  1     16.1     21.3     11.7     9.6\n",
       "61   1907-12-01  1907  12  1     -4.6      1.4    -10.5    11.9\n",
       "92   1908-01-01  1908   1  1     -5.9     -1.3     -9.1     7.8\n",
       "123  1908-02-01  1908   2  1     -2.2      1.6     -6.4     8.0"
      ]
     },
     "execution_count": 31,
     "metadata": {},
     "output_type": "execute_result"
    }
   ],
   "source": [
    "day_condi2 = df_temp['일'] == find_day1\n",
    "df_temp[day_condi2].head()"
   ]
  },
  {
   "cell_type": "code",
   "execution_count": 32,
   "id": "e19a208f",
   "metadata": {
    "scrolled": true
   },
   "outputs": [
    {
     "data": {
      "text/html": [
       "<div>\n",
       "<style scoped>\n",
       "    .dataframe tbody tr th:only-of-type {\n",
       "        vertical-align: middle;\n",
       "    }\n",
       "\n",
       "    .dataframe tbody tr th {\n",
       "        vertical-align: top;\n",
       "    }\n",
       "\n",
       "    .dataframe thead th {\n",
       "        text-align: right;\n",
       "    }\n",
       "</style>\n",
       "<table border=\"1\" class=\"dataframe\">\n",
       "  <thead>\n",
       "    <tr style=\"text-align: right;\">\n",
       "      <th></th>\n",
       "      <th>날짜</th>\n",
       "      <th>연도</th>\n",
       "      <th>월</th>\n",
       "      <th>일</th>\n",
       "      <th>평균기온(℃)</th>\n",
       "      <th>최고기온(℃)</th>\n",
       "      <th>최저기온(℃)</th>\n",
       "      <th>일교차(℃)</th>\n",
       "    </tr>\n",
       "  </thead>\n",
       "  <tbody>\n",
       "    <tr>\n",
       "      <th>305</th>\n",
       "      <td>1908-08-01</td>\n",
       "      <td>1908</td>\n",
       "      <td>8</td>\n",
       "      <td>1</td>\n",
       "      <td>26.2</td>\n",
       "      <td>29.6</td>\n",
       "      <td>24.4</td>\n",
       "      <td>5.2</td>\n",
       "    </tr>\n",
       "    <tr>\n",
       "      <th>670</th>\n",
       "      <td>1909-08-01</td>\n",
       "      <td>1909</td>\n",
       "      <td>8</td>\n",
       "      <td>1</td>\n",
       "      <td>26.5</td>\n",
       "      <td>32.3</td>\n",
       "      <td>22.3</td>\n",
       "      <td>10.0</td>\n",
       "    </tr>\n",
       "    <tr>\n",
       "      <th>1035</th>\n",
       "      <td>1910-08-01</td>\n",
       "      <td>1910</td>\n",
       "      <td>8</td>\n",
       "      <td>1</td>\n",
       "      <td>27.0</td>\n",
       "      <td>32.0</td>\n",
       "      <td>23.5</td>\n",
       "      <td>8.5</td>\n",
       "    </tr>\n",
       "    <tr>\n",
       "      <th>1400</th>\n",
       "      <td>1911-08-01</td>\n",
       "      <td>1911</td>\n",
       "      <td>8</td>\n",
       "      <td>1</td>\n",
       "      <td>25.1</td>\n",
       "      <td>31.0</td>\n",
       "      <td>21.7</td>\n",
       "      <td>9.3</td>\n",
       "    </tr>\n",
       "    <tr>\n",
       "      <th>1766</th>\n",
       "      <td>1912-08-01</td>\n",
       "      <td>1912</td>\n",
       "      <td>8</td>\n",
       "      <td>1</td>\n",
       "      <td>26.2</td>\n",
       "      <td>31.5</td>\n",
       "      <td>23.7</td>\n",
       "      <td>7.8</td>\n",
       "    </tr>\n",
       "  </tbody>\n",
       "</table>\n",
       "</div>"
      ],
      "text/plain": [
       "              날짜    연도  월  일  평균기온(℃)  최고기온(℃)  최저기온(℃)  일교차(℃)\n",
       "305   1908-08-01  1908  8  1     26.2     29.6     24.4     5.2\n",
       "670   1909-08-01  1909  8  1     26.5     32.3     22.3    10.0\n",
       "1035  1910-08-01  1910  8  1     27.0     32.0     23.5     8.5\n",
       "1400  1911-08-01  1911  8  1     25.1     31.0     21.7     9.3\n",
       "1766  1912-08-01  1912  8  1     26.2     31.5     23.7     7.8"
      ]
     },
     "execution_count": 32,
     "metadata": {},
     "output_type": "execute_result"
    }
   ],
   "source": [
    "df_0801 = df_temp[month_condi2 & day_condi2]\n",
    "df_0801.head()"
   ]
  },
  {
   "cell_type": "code",
   "execution_count": 33,
   "id": "e4f2118e",
   "metadata": {},
   "outputs": [
    {
     "data": {
      "text/plain": [
       "305      26.2\n",
       "670      26.5\n",
       "1035     27.0\n",
       "1400     25.1\n",
       "1766     26.2\n",
       "         ... \n",
       "38225    28.0\n",
       "38590    30.2\n",
       "38955    28.2\n",
       "39321    28.4\n",
       "39686    28.6\n",
       "Name: 평균기온(℃), Length: 108, dtype: float64"
      ]
     },
     "execution_count": 33,
     "metadata": {},
     "output_type": "execute_result"
    }
   ],
   "source": [
    "df_0801['평균기온(℃)']"
   ]
  },
  {
   "cell_type": "code",
   "execution_count": 68,
   "id": "80b6f698",
   "metadata": {},
   "outputs": [
    {
     "data": {
      "image/png": "[encoded data removed]",
      "text/plain": [
       "<Figure size 720x360 with 1 Axes>"
      ]
     },
     "metadata": {},
     "output_type": "display_data"
    }
   ],
   "source": [
    "df_0801['평균기온(℃)'].plot(kind = 'hist', bins=10, color='coral', figsize=(10, 5), edgecolor = 'k', cumulative=True)\n",
    "\n",
    "plt.title(f'연도별 서울 {find_month1}월 {find_day1}일 기온에 대한 누적치')\n",
    "plt.xlabel('평균기온(℃)')\n",
    "plt.show()"
   ]
  },
  {
   "cell_type": "markdown",
   "id": "60764692",
   "metadata": {},
   "source": [
    "# 4. 연도별 서울 1월 1일 기온데 대한 누적치 히스토그램 작성"
   ]
  },
  {
   "cell_type": "code",
   "execution_count": 35,
   "id": "8886db78",
   "metadata": {},
   "outputs": [],
   "source": [
    "find_month2 = 1\n",
    "find_day2 = 1"
   ]
  },
  {
   "cell_type": "code",
   "execution_count": 36,
   "id": "08607675",
   "metadata": {
    "scrolled": true
   },
   "outputs": [
    {
     "data": {
      "text/html": [
       "<div>\n",
       "<style scoped>\n",
       "    .dataframe tbody tr th:only-of-type {\n",
       "        vertical-align: middle;\n",
       "    }\n",
       "\n",
       "    .dataframe tbody tr th {\n",
       "        vertical-align: top;\n",
       "    }\n",
       "\n",
       "    .dataframe thead th {\n",
       "        text-align: right;\n",
       "    }\n",
       "</style>\n",
       "<table border=\"1\" class=\"dataframe\">\n",
       "  <thead>\n",
       "    <tr style=\"text-align: right;\">\n",
       "      <th></th>\n",
       "      <th>날짜</th>\n",
       "      <th>연도</th>\n",
       "      <th>월</th>\n",
       "      <th>일</th>\n",
       "      <th>평균기온(℃)</th>\n",
       "      <th>최고기온(℃)</th>\n",
       "      <th>최저기온(℃)</th>\n",
       "      <th>일교차(℃)</th>\n",
       "    </tr>\n",
       "  </thead>\n",
       "  <tbody>\n",
       "    <tr>\n",
       "      <th>92</th>\n",
       "      <td>1908-01-01</td>\n",
       "      <td>1908</td>\n",
       "      <td>1</td>\n",
       "      <td>1</td>\n",
       "      <td>-5.9</td>\n",
       "      <td>-1.3</td>\n",
       "      <td>-9.1</td>\n",
       "      <td>7.8</td>\n",
       "    </tr>\n",
       "    <tr>\n",
       "      <th>93</th>\n",
       "      <td>1908-01-02</td>\n",
       "      <td>1908</td>\n",
       "      <td>1</td>\n",
       "      <td>2</td>\n",
       "      <td>-7.7</td>\n",
       "      <td>-3.0</td>\n",
       "      <td>-13.9</td>\n",
       "      <td>10.9</td>\n",
       "    </tr>\n",
       "    <tr>\n",
       "      <th>94</th>\n",
       "      <td>1908-01-03</td>\n",
       "      <td>1908</td>\n",
       "      <td>1</td>\n",
       "      <td>3</td>\n",
       "      <td>-6.2</td>\n",
       "      <td>-2.9</td>\n",
       "      <td>-10.8</td>\n",
       "      <td>7.9</td>\n",
       "    </tr>\n",
       "    <tr>\n",
       "      <th>95</th>\n",
       "      <td>1908-01-04</td>\n",
       "      <td>1908</td>\n",
       "      <td>1</td>\n",
       "      <td>4</td>\n",
       "      <td>-7.5</td>\n",
       "      <td>-1.7</td>\n",
       "      <td>-12.8</td>\n",
       "      <td>11.1</td>\n",
       "    </tr>\n",
       "    <tr>\n",
       "      <th>96</th>\n",
       "      <td>1908-01-05</td>\n",
       "      <td>1908</td>\n",
       "      <td>1</td>\n",
       "      <td>5</td>\n",
       "      <td>-4.8</td>\n",
       "      <td>-0.1</td>\n",
       "      <td>-11.3</td>\n",
       "      <td>11.2</td>\n",
       "    </tr>\n",
       "  </tbody>\n",
       "</table>\n",
       "</div>"
      ],
      "text/plain": [
       "            날짜    연도  월  일  평균기온(℃)  최고기온(℃)  최저기온(℃)  일교차(℃)\n",
       "92  1908-01-01  1908  1  1     -5.9     -1.3     -9.1     7.8\n",
       "93  1908-01-02  1908  1  2     -7.7     -3.0    -13.9    10.9\n",
       "94  1908-01-03  1908  1  3     -6.2     -2.9    -10.8     7.9\n",
       "95  1908-01-04  1908  1  4     -7.5     -1.7    -12.8    11.1\n",
       "96  1908-01-05  1908  1  5     -4.8     -0.1    -11.3    11.2"
      ]
     },
     "execution_count": 36,
     "metadata": {},
     "output_type": "execute_result"
    }
   ],
   "source": [
    "month_condi3 = df_temp['월'] == find_month2\n",
    "df_temp[month_condi3].head()"
   ]
  },
  {
   "cell_type": "code",
   "execution_count": 37,
   "id": "c705a42e",
   "metadata": {},
   "outputs": [
    {
     "data": {
      "text/html": [
       "<div>\n",
       "<style scoped>\n",
       "    .dataframe tbody tr th:only-of-type {\n",
       "        vertical-align: middle;\n",
       "    }\n",
       "\n",
       "    .dataframe tbody tr th {\n",
       "        vertical-align: top;\n",
       "    }\n",
       "\n",
       "    .dataframe thead th {\n",
       "        text-align: right;\n",
       "    }\n",
       "</style>\n",
       "<table border=\"1\" class=\"dataframe\">\n",
       "  <thead>\n",
       "    <tr style=\"text-align: right;\">\n",
       "      <th></th>\n",
       "      <th>날짜</th>\n",
       "      <th>연도</th>\n",
       "      <th>월</th>\n",
       "      <th>일</th>\n",
       "      <th>평균기온(℃)</th>\n",
       "      <th>최고기온(℃)</th>\n",
       "      <th>최저기온(℃)</th>\n",
       "      <th>일교차(℃)</th>\n",
       "    </tr>\n",
       "  </thead>\n",
       "  <tbody>\n",
       "    <tr>\n",
       "      <th>0</th>\n",
       "      <td>1907-10-01</td>\n",
       "      <td>1907</td>\n",
       "      <td>10</td>\n",
       "      <td>1</td>\n",
       "      <td>13.5</td>\n",
       "      <td>20.7</td>\n",
       "      <td>7.9</td>\n",
       "      <td>12.8</td>\n",
       "    </tr>\n",
       "    <tr>\n",
       "      <th>31</th>\n",
       "      <td>1907-11-01</td>\n",
       "      <td>1907</td>\n",
       "      <td>11</td>\n",
       "      <td>1</td>\n",
       "      <td>16.1</td>\n",
       "      <td>21.3</td>\n",
       "      <td>11.7</td>\n",
       "      <td>9.6</td>\n",
       "    </tr>\n",
       "    <tr>\n",
       "      <th>61</th>\n",
       "      <td>1907-12-01</td>\n",
       "      <td>1907</td>\n",
       "      <td>12</td>\n",
       "      <td>1</td>\n",
       "      <td>-4.6</td>\n",
       "      <td>1.4</td>\n",
       "      <td>-10.5</td>\n",
       "      <td>11.9</td>\n",
       "    </tr>\n",
       "    <tr>\n",
       "      <th>92</th>\n",
       "      <td>1908-01-01</td>\n",
       "      <td>1908</td>\n",
       "      <td>1</td>\n",
       "      <td>1</td>\n",
       "      <td>-5.9</td>\n",
       "      <td>-1.3</td>\n",
       "      <td>-9.1</td>\n",
       "      <td>7.8</td>\n",
       "    </tr>\n",
       "    <tr>\n",
       "      <th>123</th>\n",
       "      <td>1908-02-01</td>\n",
       "      <td>1908</td>\n",
       "      <td>2</td>\n",
       "      <td>1</td>\n",
       "      <td>-2.2</td>\n",
       "      <td>1.6</td>\n",
       "      <td>-6.4</td>\n",
       "      <td>8.0</td>\n",
       "    </tr>\n",
       "  </tbody>\n",
       "</table>\n",
       "</div>"
      ],
      "text/plain": [
       "             날짜    연도   월  일  평균기온(℃)  최고기온(℃)  최저기온(℃)  일교차(℃)\n",
       "0    1907-10-01  1907  10  1     13.5     20.7      7.9    12.8\n",
       "31   1907-11-01  1907  11  1     16.1     21.3     11.7     9.6\n",
       "61   1907-12-01  1907  12  1     -4.6      1.4    -10.5    11.9\n",
       "92   1908-01-01  1908   1  1     -5.9     -1.3     -9.1     7.8\n",
       "123  1908-02-01  1908   2  1     -2.2      1.6     -6.4     8.0"
      ]
     },
     "execution_count": 37,
     "metadata": {},
     "output_type": "execute_result"
    }
   ],
   "source": [
    "day_condi3 = df_temp['일'] == find_day1\n",
    "df_temp[day_condi2].head()"
   ]
  },
  {
   "cell_type": "code",
   "execution_count": 38,
   "id": "9276efce",
   "metadata": {
    "scrolled": true
   },
   "outputs": [
    {
     "data": {
      "text/html": [
       "<div>\n",
       "<style scoped>\n",
       "    .dataframe tbody tr th:only-of-type {\n",
       "        vertical-align: middle;\n",
       "    }\n",
       "\n",
       "    .dataframe tbody tr th {\n",
       "        vertical-align: top;\n",
       "    }\n",
       "\n",
       "    .dataframe thead th {\n",
       "        text-align: right;\n",
       "    }\n",
       "</style>\n",
       "<table border=\"1\" class=\"dataframe\">\n",
       "  <thead>\n",
       "    <tr style=\"text-align: right;\">\n",
       "      <th></th>\n",
       "      <th>날짜</th>\n",
       "      <th>연도</th>\n",
       "      <th>월</th>\n",
       "      <th>일</th>\n",
       "      <th>평균기온(℃)</th>\n",
       "      <th>최고기온(℃)</th>\n",
       "      <th>최저기온(℃)</th>\n",
       "      <th>일교차(℃)</th>\n",
       "    </tr>\n",
       "  </thead>\n",
       "  <tbody>\n",
       "    <tr>\n",
       "      <th>92</th>\n",
       "      <td>1908-01-01</td>\n",
       "      <td>1908</td>\n",
       "      <td>1</td>\n",
       "      <td>1</td>\n",
       "      <td>-5.9</td>\n",
       "      <td>-1.3</td>\n",
       "      <td>-9.1</td>\n",
       "      <td>7.8</td>\n",
       "    </tr>\n",
       "    <tr>\n",
       "      <th>458</th>\n",
       "      <td>1909-01-01</td>\n",
       "      <td>1909</td>\n",
       "      <td>1</td>\n",
       "      <td>1</td>\n",
       "      <td>-7.4</td>\n",
       "      <td>-3.5</td>\n",
       "      <td>-10.8</td>\n",
       "      <td>7.3</td>\n",
       "    </tr>\n",
       "    <tr>\n",
       "      <th>823</th>\n",
       "      <td>1910-01-01</td>\n",
       "      <td>1910</td>\n",
       "      <td>1</td>\n",
       "      <td>1</td>\n",
       "      <td>-5.2</td>\n",
       "      <td>0.6</td>\n",
       "      <td>-6.6</td>\n",
       "      <td>7.2</td>\n",
       "    </tr>\n",
       "    <tr>\n",
       "      <th>1188</th>\n",
       "      <td>1911-01-01</td>\n",
       "      <td>1911</td>\n",
       "      <td>1</td>\n",
       "      <td>1</td>\n",
       "      <td>-10.1</td>\n",
       "      <td>-6.5</td>\n",
       "      <td>-14.2</td>\n",
       "      <td>7.7</td>\n",
       "    </tr>\n",
       "    <tr>\n",
       "      <th>1553</th>\n",
       "      <td>1912-01-01</td>\n",
       "      <td>1912</td>\n",
       "      <td>1</td>\n",
       "      <td>1</td>\n",
       "      <td>-0.8</td>\n",
       "      <td>4.2</td>\n",
       "      <td>-7.3</td>\n",
       "      <td>11.5</td>\n",
       "    </tr>\n",
       "  </tbody>\n",
       "</table>\n",
       "</div>"
      ],
      "text/plain": [
       "              날짜    연도  월  일  평균기온(℃)  최고기온(℃)  최저기온(℃)  일교차(℃)\n",
       "92    1908-01-01  1908  1  1     -5.9     -1.3     -9.1     7.8\n",
       "458   1909-01-01  1909  1  1     -7.4     -3.5    -10.8     7.3\n",
       "823   1910-01-01  1910  1  1     -5.2      0.6     -6.6     7.2\n",
       "1188  1911-01-01  1911  1  1    -10.1     -6.5    -14.2     7.7\n",
       "1553  1912-01-01  1912  1  1     -0.8      4.2     -7.3    11.5"
      ]
     },
     "execution_count": 38,
     "metadata": {},
     "output_type": "execute_result"
    }
   ],
   "source": [
    "df_0101 = df_temp[month_condi3 & day_condi3]\n",
    "df_0101.head()"
   ]
  },
  {
   "cell_type": "code",
   "execution_count": 39,
   "id": "f45abd8c",
   "metadata": {},
   "outputs": [],
   "source": [
    "plt.rcParams['axes.unicode_minus'] = False"
   ]
  },
  {
   "cell_type": "code",
   "execution_count": 40,
   "id": "71e33071",
   "metadata": {},
   "outputs": [
    {
     "data": {
      "image/png": "[encoded data removed]",
      "text/plain": [
       "<Figure size 720x360 with 1 Axes>"
      ]
     },
     "metadata": {},
     "output_type": "display_data"
    }
   ],
   "source": [
    "df_0101['평균기온(℃)'].plot(kind = 'hist', bins=10, color='skyblue', figsize=(10, 5), edgecolor = 'k', cumulative=True)\n",
    "\n",
    "plt.title(f'연도별 서울 {find_month2}월 {find_day2}일 기온에 대한 누적치')\n",
    "plt.xlabel('평균기온(℃)')\n",
    "plt.show()"
   ]
  },
  {
   "cell_type": "markdown",
   "id": "feb4e73a",
   "metadata": {},
   "source": [
    "# 연도별 서울 1월/8월 기온에 대한 누적치 히스토그램 작성"
   ]
  },
  {
   "cell_type": "code",
   "execution_count": 41,
   "id": "3c138217",
   "metadata": {},
   "outputs": [],
   "source": [
    "Jan = df_temp['월'] == 1\n",
    "Aug = df_temp['월'] == 8"
   ]
  },
  {
   "cell_type": "code",
   "execution_count": 42,
   "id": "290f358c",
   "metadata": {},
   "outputs": [
    {
     "data": {
      "text/html": [
       "<div>\n",
       "<style scoped>\n",
       "    .dataframe tbody tr th:only-of-type {\n",
       "        vertical-align: middle;\n",
       "    }\n",
       "\n",
       "    .dataframe tbody tr th {\n",
       "        vertical-align: top;\n",
       "    }\n",
       "\n",
       "    .dataframe thead th {\n",
       "        text-align: right;\n",
       "    }\n",
       "</style>\n",
       "<table border=\"1\" class=\"dataframe\">\n",
       "  <thead>\n",
       "    <tr style=\"text-align: right;\">\n",
       "      <th></th>\n",
       "      <th>날짜</th>\n",
       "      <th>연도</th>\n",
       "      <th>월</th>\n",
       "      <th>일</th>\n",
       "      <th>평균기온(℃)</th>\n",
       "      <th>최고기온(℃)</th>\n",
       "      <th>최저기온(℃)</th>\n",
       "      <th>일교차(℃)</th>\n",
       "    </tr>\n",
       "  </thead>\n",
       "  <tbody>\n",
       "    <tr>\n",
       "      <th>92</th>\n",
       "      <td>1908-01-01</td>\n",
       "      <td>1908</td>\n",
       "      <td>1</td>\n",
       "      <td>1</td>\n",
       "      <td>-5.9</td>\n",
       "      <td>-1.3</td>\n",
       "      <td>-9.1</td>\n",
       "      <td>7.8</td>\n",
       "    </tr>\n",
       "    <tr>\n",
       "      <th>93</th>\n",
       "      <td>1908-01-02</td>\n",
       "      <td>1908</td>\n",
       "      <td>1</td>\n",
       "      <td>2</td>\n",
       "      <td>-7.7</td>\n",
       "      <td>-3.0</td>\n",
       "      <td>-13.9</td>\n",
       "      <td>10.9</td>\n",
       "    </tr>\n",
       "    <tr>\n",
       "      <th>94</th>\n",
       "      <td>1908-01-03</td>\n",
       "      <td>1908</td>\n",
       "      <td>1</td>\n",
       "      <td>3</td>\n",
       "      <td>-6.2</td>\n",
       "      <td>-2.9</td>\n",
       "      <td>-10.8</td>\n",
       "      <td>7.9</td>\n",
       "    </tr>\n",
       "    <tr>\n",
       "      <th>95</th>\n",
       "      <td>1908-01-04</td>\n",
       "      <td>1908</td>\n",
       "      <td>1</td>\n",
       "      <td>4</td>\n",
       "      <td>-7.5</td>\n",
       "      <td>-1.7</td>\n",
       "      <td>-12.8</td>\n",
       "      <td>11.1</td>\n",
       "    </tr>\n",
       "    <tr>\n",
       "      <th>96</th>\n",
       "      <td>1908-01-05</td>\n",
       "      <td>1908</td>\n",
       "      <td>1</td>\n",
       "      <td>5</td>\n",
       "      <td>-4.8</td>\n",
       "      <td>-0.1</td>\n",
       "      <td>-11.3</td>\n",
       "      <td>11.2</td>\n",
       "    </tr>\n",
       "  </tbody>\n",
       "</table>\n",
       "</div>"
      ],
      "text/plain": [
       "            날짜    연도  월  일  평균기온(℃)  최고기온(℃)  최저기온(℃)  일교차(℃)\n",
       "92  1908-01-01  1908  1  1     -5.9     -1.3     -9.1     7.8\n",
       "93  1908-01-02  1908  1  2     -7.7     -3.0    -13.9    10.9\n",
       "94  1908-01-03  1908  1  3     -6.2     -2.9    -10.8     7.9\n",
       "95  1908-01-04  1908  1  4     -7.5     -1.7    -12.8    11.1\n",
       "96  1908-01-05  1908  1  5     -4.8     -0.1    -11.3    11.2"
      ]
     },
     "execution_count": 42,
     "metadata": {},
     "output_type": "execute_result"
    }
   ],
   "source": [
    "df_Jan = df_temp[Jan]\n",
    "df_Jan.head()"
   ]
  },
  {
   "cell_type": "code",
   "execution_count": 43,
   "id": "8b8d64bf",
   "metadata": {},
   "outputs": [
    {
     "data": {
      "text/html": [
       "<div>\n",
       "<style scoped>\n",
       "    .dataframe tbody tr th:only-of-type {\n",
       "        vertical-align: middle;\n",
       "    }\n",
       "\n",
       "    .dataframe tbody tr th {\n",
       "        vertical-align: top;\n",
       "    }\n",
       "\n",
       "    .dataframe thead th {\n",
       "        text-align: right;\n",
       "    }\n",
       "</style>\n",
       "<table border=\"1\" class=\"dataframe\">\n",
       "  <thead>\n",
       "    <tr style=\"text-align: right;\">\n",
       "      <th></th>\n",
       "      <th>날짜</th>\n",
       "      <th>연도</th>\n",
       "      <th>월</th>\n",
       "      <th>일</th>\n",
       "      <th>평균기온(℃)</th>\n",
       "      <th>최고기온(℃)</th>\n",
       "      <th>최저기온(℃)</th>\n",
       "      <th>일교차(℃)</th>\n",
       "    </tr>\n",
       "  </thead>\n",
       "  <tbody>\n",
       "    <tr>\n",
       "      <th>305</th>\n",
       "      <td>1908-08-01</td>\n",
       "      <td>1908</td>\n",
       "      <td>8</td>\n",
       "      <td>1</td>\n",
       "      <td>26.2</td>\n",
       "      <td>29.6</td>\n",
       "      <td>24.4</td>\n",
       "      <td>5.2</td>\n",
       "    </tr>\n",
       "    <tr>\n",
       "      <th>306</th>\n",
       "      <td>1908-08-02</td>\n",
       "      <td>1908</td>\n",
       "      <td>8</td>\n",
       "      <td>2</td>\n",
       "      <td>26.4</td>\n",
       "      <td>30.7</td>\n",
       "      <td>23.3</td>\n",
       "      <td>7.4</td>\n",
       "    </tr>\n",
       "    <tr>\n",
       "      <th>307</th>\n",
       "      <td>1908-08-03</td>\n",
       "      <td>1908</td>\n",
       "      <td>8</td>\n",
       "      <td>3</td>\n",
       "      <td>26.9</td>\n",
       "      <td>32.0</td>\n",
       "      <td>24.2</td>\n",
       "      <td>7.8</td>\n",
       "    </tr>\n",
       "    <tr>\n",
       "      <th>308</th>\n",
       "      <td>1908-08-04</td>\n",
       "      <td>1908</td>\n",
       "      <td>8</td>\n",
       "      <td>4</td>\n",
       "      <td>26.3</td>\n",
       "      <td>31.5</td>\n",
       "      <td>22.6</td>\n",
       "      <td>8.9</td>\n",
       "    </tr>\n",
       "    <tr>\n",
       "      <th>309</th>\n",
       "      <td>1908-08-05</td>\n",
       "      <td>1908</td>\n",
       "      <td>8</td>\n",
       "      <td>5</td>\n",
       "      <td>27.3</td>\n",
       "      <td>32.4</td>\n",
       "      <td>23.6</td>\n",
       "      <td>8.8</td>\n",
       "    </tr>\n",
       "  </tbody>\n",
       "</table>\n",
       "</div>"
      ],
      "text/plain": [
       "             날짜    연도  월  일  평균기온(℃)  최고기온(℃)  최저기온(℃)  일교차(℃)\n",
       "305  1908-08-01  1908  8  1     26.2     29.6     24.4     5.2\n",
       "306  1908-08-02  1908  8  2     26.4     30.7     23.3     7.4\n",
       "307  1908-08-03  1908  8  3     26.9     32.0     24.2     7.8\n",
       "308  1908-08-04  1908  8  4     26.3     31.5     22.6     8.9\n",
       "309  1908-08-05  1908  8  5     27.3     32.4     23.6     8.8"
      ]
     },
     "execution_count": 43,
     "metadata": {},
     "output_type": "execute_result"
    }
   ],
   "source": [
    "df_Aug = df_temp[Aug]\n",
    "df_Aug.head()"
   ]
  },
  {
   "cell_type": "code",
   "execution_count": 44,
   "id": "9f3ffc6b",
   "metadata": {},
   "outputs": [
    {
     "data": {
      "image/png": "[encoded data removed]",
      "text/plain": [
       "<Figure size 720x360 with 1 Axes>"
      ]
     },
     "metadata": {},
     "output_type": "display_data"
    }
   ],
   "source": [
    "df_Aug['평균기온(℃)'].plot(kind = 'hist', bins = 10, color='coral', figsize=(10, 5), edgecolor = 'k', cumulative=True)\n",
    "df_Jan['평균기온(℃)'].plot(kind = 'hist', bins = 10, color='skyblue', figsize=(10, 5), edgecolor = 'k', cumulative=True)\n",
    "\n",
    "plt.title(f'연도별 서울 {find_month2}월과 {find_month1}월 기온에 대한 누적치 히스토그램')\n",
    "plt.xlabel('평균기온(℃)')\n",
    "plt.show()"
   ]
  },
  {
   "cell_type": "markdown",
   "id": "b60baf06",
   "metadata": {},
   "source": [
    "# 앞 예제를 boxplot으로 변환"
   ]
  },
  {
   "cell_type": "code",
   "execution_count": 45,
   "id": "7d256e2a",
   "metadata": {},
   "outputs": [
    {
     "data": {
      "text/html": [
       "<div>\n",
       "<style scoped>\n",
       "    .dataframe tbody tr th:only-of-type {\n",
       "        vertical-align: middle;\n",
       "    }\n",
       "\n",
       "    .dataframe tbody tr th {\n",
       "        vertical-align: top;\n",
       "    }\n",
       "\n",
       "    .dataframe thead th {\n",
       "        text-align: right;\n",
       "    }\n",
       "</style>\n",
       "<table border=\"1\" class=\"dataframe\">\n",
       "  <thead>\n",
       "    <tr style=\"text-align: right;\">\n",
       "      <th></th>\n",
       "      <th>날짜</th>\n",
       "      <th>연도</th>\n",
       "      <th>월</th>\n",
       "      <th>일</th>\n",
       "      <th>평균기온(℃)</th>\n",
       "      <th>최고기온(℃)</th>\n",
       "      <th>최저기온(℃)</th>\n",
       "      <th>일교차(℃)</th>\n",
       "    </tr>\n",
       "  </thead>\n",
       "  <tbody>\n",
       "    <tr>\n",
       "      <th>92</th>\n",
       "      <td>1908-01-01</td>\n",
       "      <td>1908</td>\n",
       "      <td>1</td>\n",
       "      <td>1</td>\n",
       "      <td>-5.9</td>\n",
       "      <td>-1.3</td>\n",
       "      <td>-9.1</td>\n",
       "      <td>7.8</td>\n",
       "    </tr>\n",
       "    <tr>\n",
       "      <th>93</th>\n",
       "      <td>1908-01-02</td>\n",
       "      <td>1908</td>\n",
       "      <td>1</td>\n",
       "      <td>2</td>\n",
       "      <td>-7.7</td>\n",
       "      <td>-3.0</td>\n",
       "      <td>-13.9</td>\n",
       "      <td>10.9</td>\n",
       "    </tr>\n",
       "    <tr>\n",
       "      <th>94</th>\n",
       "      <td>1908-01-03</td>\n",
       "      <td>1908</td>\n",
       "      <td>1</td>\n",
       "      <td>3</td>\n",
       "      <td>-6.2</td>\n",
       "      <td>-2.9</td>\n",
       "      <td>-10.8</td>\n",
       "      <td>7.9</td>\n",
       "    </tr>\n",
       "    <tr>\n",
       "      <th>95</th>\n",
       "      <td>1908-01-04</td>\n",
       "      <td>1908</td>\n",
       "      <td>1</td>\n",
       "      <td>4</td>\n",
       "      <td>-7.5</td>\n",
       "      <td>-1.7</td>\n",
       "      <td>-12.8</td>\n",
       "      <td>11.1</td>\n",
       "    </tr>\n",
       "    <tr>\n",
       "      <th>96</th>\n",
       "      <td>1908-01-05</td>\n",
       "      <td>1908</td>\n",
       "      <td>1</td>\n",
       "      <td>5</td>\n",
       "      <td>-4.8</td>\n",
       "      <td>-0.1</td>\n",
       "      <td>-11.3</td>\n",
       "      <td>11.2</td>\n",
       "    </tr>\n",
       "  </tbody>\n",
       "</table>\n",
       "</div>"
      ],
      "text/plain": [
       "            날짜    연도  월  일  평균기온(℃)  최고기온(℃)  최저기온(℃)  일교차(℃)\n",
       "92  1908-01-01  1908  1  1     -5.9     -1.3     -9.1     7.8\n",
       "93  1908-01-02  1908  1  2     -7.7     -3.0    -13.9    10.9\n",
       "94  1908-01-03  1908  1  3     -6.2     -2.9    -10.8     7.9\n",
       "95  1908-01-04  1908  1  4     -7.5     -1.7    -12.8    11.1\n",
       "96  1908-01-05  1908  1  5     -4.8     -0.1    -11.3    11.2"
      ]
     },
     "execution_count": 45,
     "metadata": {},
     "output_type": "execute_result"
    }
   ],
   "source": [
    "df_Jan.head()"
   ]
  },
  {
   "cell_type": "code",
   "execution_count": 65,
   "id": "2751fc8e",
   "metadata": {},
   "outputs": [
    {
     "data": {
      "text/plain": [
       "92      -5.9\n",
       "93      -7.7\n",
       "94      -6.2\n",
       "95      -7.5\n",
       "96      -4.8\n",
       "        ... \n",
       "39865   -9.9\n",
       "39866   -6.3\n",
       "39867   -8.5\n",
       "39868   -5.3\n",
       "39869   -2.6\n",
       "Name: 평균기온(℃), Length: 3410, dtype: float64"
      ]
     },
     "execution_count": 65,
     "metadata": {},
     "output_type": "execute_result"
    }
   ],
   "source": [
    "df_Jan['평균기온(℃)']"
   ]
  },
  {
   "cell_type": "code",
   "execution_count": 66,
   "id": "bb555c00",
   "metadata": {},
   "outputs": [
    {
     "data": {
      "image/png": "[encoded data removed]",
      "text/plain": [
       "<Figure size 1080x504 with 1 Axes>"
      ]
     },
     "metadata": {},
     "output_type": "display_data"
    }
   ],
   "source": [
    "plt.figure(figsize = (15, 7))\n",
    "plt.boxplot(x = [df_Jan['평균기온(℃)'], df_Aug['평균기온(℃)']], labels = ['1월', '8월'])\n",
    "\n",
    "plt.title(f'연도별 서울 {find_month2}월과 {find_month1}월 기온에 대한 누적치 박스플롯')\n",
    "plt.show()"
   ]
  },
  {
   "cell_type": "markdown",
   "id": "28672ae6",
   "metadata": {},
   "source": [
    "# 월별 기온 데이터 boxplot 작성"
   ]
  },
  {
   "cell_type": "code",
   "execution_count": null,
   "id": "79ce636b",
   "metadata": {},
   "outputs": [],
   "source": []
  },
  {
   "cell_type": "markdown",
   "id": "d07e45e3",
   "metadata": {},
   "source": [
    "# 8월 일별 기온 데이터 boxplot 작성"
   ]
  },
  {
   "cell_type": "code",
   "execution_count": null,
   "id": "1db2f32e",
   "metadata": {},
   "outputs": [],
   "source": []
  }
 ],
 "metadata": {
  "kernelspec": {
   "display_name": "Python 3 (ipykernel)",
   "language": "python",
   "name": "python3"
  },
  "language_info": {
   "codemirror_mode": {
    "name": "ipython",
    "version": 3
   },
   "file_extension": ".py",
   "mimetype": "text/x-python",
   "name": "python",
   "nbconvert_exporter": "python",
   "pygments_lexer": "ipython3",
   "version": "3.9.7"
  }
 },
 "nbformat": 4,
 "nbformat_minor": 5
}
